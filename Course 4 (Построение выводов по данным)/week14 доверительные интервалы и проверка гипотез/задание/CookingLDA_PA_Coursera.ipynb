{
 "cells": [
  {
   "cell_type": "markdown",
   "metadata": {},
   "source": [
    "# Programming Assignment: \n",
    "## Готовим LDA по рецептам"
   ]
  },
  {
   "cell_type": "markdown",
   "metadata": {},
   "source": [
    "Как вы уже знаете, в тематическом моделировании делается предположение о том, что для определения тематики порядок слов в документе не важен; об этом гласит гипотеза «мешка слов». Сегодня мы будем работать с несколько нестандартной для тематического моделирования коллекцией, которую можно назвать «мешком ингредиентов», потому что на состоит из рецептов блюд разных кухонь. Тематические модели ищут слова, которые часто вместе встречаются в документах, и составляют из них темы. Мы попробуем применить эту идею к рецептам и найти кулинарные «темы». Эта коллекция хороша тем, что не требует предобработки. Кроме того, эта задача достаточно наглядно иллюстрирует принцип работы тематических моделей.\n",
    "\n",
    "Для выполнения заданий, помимо часто используемых в курсе библиотек, потребуются модули *json* и *gensim*. Первый входит в дистрибутив Anaconda, второй можно поставить командой \n",
    "\n",
    "*pip install gensim*\n",
    "\n",
    "Построение модели занимает некоторое время. На ноутбуке с процессором Intel Core i7 и тактовой частотой 2400 МГц на построение одной модели уходит менее 10 минут."
   ]
  },
  {
   "cell_type": "markdown",
   "metadata": {},
   "source": [
    "### Загрузка данных"
   ]
  },
  {
   "cell_type": "markdown",
   "metadata": {},
   "source": [
    "Коллекция дана в json-формате: для каждого рецепта известны его id, кухня (cuisine) и список ингредиентов, в него входящих. Загрузить данные можно с помощью модуля json (он входит в дистрибутив Anaconda):"
   ]
  },
  {
   "cell_type": "code",
   "execution_count": 1,
   "metadata": {},
   "outputs": [],
   "source": [
    "import json"
   ]
  },
  {
   "cell_type": "code",
   "execution_count": 2,
   "metadata": {},
   "outputs": [],
   "source": [
    "with open(\"recipes.json\") as f:\n",
    "    recipes = json.load(f)"
   ]
  },
  {
   "cell_type": "code",
   "execution_count": 3,
   "metadata": {},
   "outputs": [
    {
     "name": "stdout",
     "output_type": "stream",
     "text": [
      "{'id': 10259, 'cuisine': 'greek', 'ingredients': ['romaine lettuce', 'black olives', 'grape tomatoes', 'garlic', 'pepper', 'purple onion', 'seasoning', 'garbanzo beans', 'feta cheese crumbles']}\n"
     ]
    }
   ],
   "source": [
    "print(recipes[0])"
   ]
  },
  {
   "cell_type": "markdown",
   "metadata": {},
   "source": [
    "### Составление корпуса"
   ]
  },
  {
   "cell_type": "code",
   "execution_count": 4,
   "metadata": {},
   "outputs": [],
   "source": [
    "from gensim import corpora, models\n",
    "import numpy as np"
   ]
  },
  {
   "cell_type": "markdown",
   "metadata": {},
   "source": [
    "Наша коллекция небольшая, и целиком помещается в оперативную память. Gensim может работать с такими данными и не требует их сохранения на диск в специальном формате. Для этого коллекция должна быть представлена в виде списка списков, каждый внутренний список соответствует отдельному документу и состоит из его слов. Пример коллекции из двух документов: \n",
    "\n",
    "[[\"hello\", \"world\"], [\"programming\", \"in\", \"python\"]]\n",
    "\n",
    "Преобразуем наши данные в такой формат, а затем создадим объекты corpus и dictionary, с которыми будет работать модель."
   ]
  },
  {
   "cell_type": "code",
   "execution_count": 5,
   "metadata": {},
   "outputs": [],
   "source": [
    "texts = [recipe[\"ingredients\"] for recipe in recipes]\n",
    "dictionary = corpora.Dictionary(texts)   # составляем словарь\n",
    "corpus = [dictionary.doc2bow(text) for text in texts]  # составляем корпус документов"
   ]
  },
  {
   "cell_type": "code",
   "execution_count": 6,
   "metadata": {},
   "outputs": [
    {
     "name": "stdout",
     "output_type": "stream",
     "text": [
      "['romaine lettuce', 'black olives', 'grape tomatoes', 'garlic', 'pepper', 'purple onion', 'seasoning', 'garbanzo beans', 'feta cheese crumbles']\n",
      "[(0, 1), (1, 1), (2, 1), (3, 1), (4, 1), (5, 1), (6, 1), (7, 1), (8, 1)]\n"
     ]
    }
   ],
   "source": [
    "print(texts[0])\n",
    "print(corpus[0])"
   ]
  },
  {
   "cell_type": "markdown",
   "metadata": {},
   "source": [
    "У объекта dictionary есть полезная переменная dictionary.token2id, позволяющая находить соответствие между ингредиентами и их индексами."
   ]
  },
  {
   "cell_type": "markdown",
   "metadata": {},
   "source": [
    "### Обучение модели\n",
    "Вам может понадобиться [документация](https://radimrehurek.com/gensim/models/ldamodel.html) LDA в gensim."
   ]
  },
  {
   "cell_type": "markdown",
   "metadata": {},
   "source": [
    "__Задание 1.__ Обучите модель LDA с 40 темами, установив количество проходов по коллекции 5 и оставив остальные параметры по умолчанию. \n",
    "\n",
    "\n",
    "Затем вызовите метод модели *show_topics*, указав количество тем 40 и количество токенов 10, и сохраните результат (топы ингредиентов в темах) в отдельную переменную. Если при вызове метода *show_topics* указать параметр *formatted=True*, то топы ингредиентов будет удобно выводить на печать, если *formatted=False*, будет удобно работать со списком программно. Выведите топы на печать, рассмотрите темы, а затем ответьте на вопрос:\n",
    "\n",
    "Сколько раз ингредиенты \"salt\", \"sugar\", \"water\", \"mushrooms\", \"chicken\", \"eggs\" встретились среди топов-10 всех 40 тем? При ответе __не нужно__ учитывать составные ингредиенты, например, \"hot water\".\n",
    "\n",
    "Передайте 6 чисел в функцию save_answers1 и загрузите сгенерированный файл в форму.\n",
    "\n",
    "У gensim нет возможности фиксировать случайное приближение через параметры метода, но библиотека использует numpy для инициализации матриц. Поэтому, по утверждению автора библиотеки, фиксировать случайное приближение нужно командой, которая написана в следующей ячейке. __Перед строкой кода с построением модели обязательно вставляйте указанную строку фиксации random.seed.__"
   ]
  },
  {
   "cell_type": "code",
   "execution_count": 7,
   "metadata": {},
   "outputs": [
    {
     "name": "stdout",
     "output_type": "stream",
     "text": [
      "Wall time: 4min 9s\n"
     ]
    }
   ],
   "source": [
    "np.random.seed(76543)\n",
    "# здесь код для построения модели:\n",
    "%time ldamodel = models.ldamodel.LdaModel(corpus, id2word=dictionary, num_topics=40, passes=5)"
   ]
  },
  {
   "cell_type": "code",
   "execution_count": 8,
   "metadata": {},
   "outputs": [
    {
     "data": {
      "text/plain": [
       "[(0,\n",
       "  '0.105*\"chopped onion\" + 0.083*\"garlic cloves\" + 0.064*\"salt\" + 0.054*\"fat free less sodium chicken broth\" + 0.048*\"sliced green onions\" + 0.047*\"cooking spray\" + 0.046*\"ground red pepper\" + 0.044*\"water\" + 0.038*\"spinach\" + 0.031*\"black pepper\"'),\n",
       " (1,\n",
       "  '0.102*\"corn kernels\" + 0.086*\"diced onions\" + 0.072*\"tortillas\" + 0.067*\"vegetable stock\" + 0.050*\"chopped fresh chives\" + 0.050*\"sliced black olives\" + 0.048*\"cream cheese, soften\" + 0.044*\"lard\" + 0.035*\"jack cheese\" + 0.024*\"canned black beans\"'),\n",
       " (2,\n",
       "  '0.087*\"olive oil\" + 0.060*\"crushed red pepper\" + 0.054*\"fresh parsley\" + 0.042*\"garlic cloves\" + 0.039*\"grated parmesan cheese\" + 0.036*\"cherry tomatoes\" + 0.035*\"butter\" + 0.034*\"low salt chicken broth\" + 0.034*\"salt\" + 0.032*\"fresh rosemary\"'),\n",
       " (3,\n",
       "  '0.074*\"bacon\" + 0.070*\"salt\" + 0.061*\"red pepper flakes\" + 0.054*\"onions\" + 0.051*\"garlic\" + 0.048*\"ground black pepper\" + 0.044*\"mushrooms\" + 0.043*\"chicken thighs\" + 0.042*\"pasta\" + 0.034*\"olive oil\"'),\n",
       " (4,\n",
       "  '0.089*\"cooking spray\" + 0.067*\"salt\" + 0.061*\"powdered sugar\" + 0.057*\"large egg whites\" + 0.054*\"all-purpose flour\" + 0.051*\"sugar\" + 0.049*\"large eggs\" + 0.045*\"cream cheese\" + 0.044*\"yellow corn meal\" + 0.042*\"butter\"'),\n",
       " (5,\n",
       "  '0.093*\"large garlic cloves\" + 0.092*\"shallots\" + 0.075*\"dry white wine\" + 0.056*\"olive oil\" + 0.045*\"finely chopped onion\" + 0.034*\"unsalted butter\" + 0.033*\"salt\" + 0.032*\"white wine vinegar\" + 0.030*\"arborio rice\" + 0.027*\"saffron threads\"'),\n",
       " (6,\n",
       "  '0.078*\"fresh thyme\" + 0.078*\"dry red wine\" + 0.053*\"pork tenderloin\" + 0.047*\"reduced sodium soy sauce\" + 0.047*\"cilantro sprigs\" + 0.043*\"beef broth\" + 0.036*\"peppercorns\" + 0.032*\"cremini mushrooms\" + 0.023*\"rosemary\" + 0.023*\"daikon\"'),\n",
       " (7,\n",
       "  '0.092*\"soy sauce\" + 0.052*\"sesame oil\" + 0.044*\"scallions\" + 0.043*\"green onions\" + 0.041*\"rice vinegar\" + 0.039*\"sugar\" + 0.036*\"corn starch\" + 0.035*\"garlic\" + 0.034*\"vegetable oil\" + 0.027*\"fresh ginger\"'),\n",
       " (8,\n",
       "  '0.175*\"garlic powder\" + 0.123*\"cayenne pepper\" + 0.066*\"onion powder\" + 0.047*\"ground black pepper\" + 0.044*\"smoked paprika\" + 0.041*\"black pepper\" + 0.040*\"pinenuts\" + 0.038*\"salt\" + 0.026*\"fresh spinach\" + 0.025*\"dried oregano\"'),\n",
       " (9,\n",
       "  '0.114*\"extra-virgin olive oil\" + 0.067*\"garlic cloves\" + 0.061*\"fresh lemon juice\" + 0.056*\"salt\" + 0.053*\"olive oil\" + 0.052*\"ground black pepper\" + 0.046*\"plum tomatoes\" + 0.043*\"purple onion\" + 0.034*\"balsamic vinegar\" + 0.033*\"fresh basil\"'),\n",
       " (10,\n",
       "  '0.066*\"broccoli florets\" + 0.050*\"button mushrooms\" + 0.049*\"crГЁme fraГ®che\" + 0.047*\"yellow squash\" + 0.046*\"radishes\" + 0.039*\"greek style plain yogurt\" + 0.039*\"pork sausages\" + 0.035*\"watercress\" + 0.033*\"quickcooking grits\" + 0.031*\"ripe olives\"'),\n",
       " (11,\n",
       "  '0.133*\"lime\" + 0.113*\"lime juice\" + 0.056*\"fresh cilantro\" + 0.037*\"chopped cilantro\" + 0.036*\"purple onion\" + 0.031*\"garlic\" + 0.031*\"mango\" + 0.027*\"jalapeno chilies\" + 0.027*\"lime wedges\" + 0.022*\"thai chile\"'),\n",
       " (12,\n",
       "  '0.096*\"cheese\" + 0.093*\"ricotta cheese\" + 0.088*\"orange juice\" + 0.059*\"sliced mushrooms\" + 0.058*\"baby spinach\" + 0.056*\"vegetable broth\" + 0.052*\"vegetable oil cooking spray\" + 0.037*\"frozen chopped spinach\" + 0.035*\"part-skim mozzarella cheese\" + 0.033*\"italian sausage\"'),\n",
       " (13,\n",
       "  '0.089*\"diced tomatoes\" + 0.064*\"onions\" + 0.059*\"dried oregano\" + 0.053*\"tomato sauce\" + 0.047*\"garlic\" + 0.046*\"tomato paste\" + 0.044*\"salt\" + 0.037*\"olive oil\" + 0.033*\"crushed tomatoes\" + 0.030*\"ground beef\"'),\n",
       " (14,\n",
       "  '0.121*\"tomatoes\" + 0.087*\"red wine vinegar\" + 0.085*\"salt\" + 0.070*\"cucumber\" + 0.070*\"olive oil\" + 0.051*\"pepper\" + 0.045*\"fresh oregano\" + 0.035*\"purple onion\" + 0.035*\"lemon juice\" + 0.031*\"garlic\"'),\n",
       " (15,\n",
       "  '0.203*\"lemon\" + 0.055*\"orange\" + 0.053*\"boiling water\" + 0.049*\"fine sea salt\" + 0.046*\"sugar\" + 0.044*\"cold water\" + 0.034*\"fennel seeds\" + 0.032*\"almonds\" + 0.031*\"water\" + 0.028*\"mint\"'),\n",
       " (16,\n",
       "  '0.103*\"chopped cilantro fresh\" + 0.076*\"fresh lime juice\" + 0.069*\"jalapeno chilies\" + 0.051*\"white onion\" + 0.046*\"salt\" + 0.042*\"avocado\" + 0.038*\"ground cumin\" + 0.037*\"garlic cloves\" + 0.028*\"cilantro leaves\" + 0.027*\"vegetable oil\"'),\n",
       " (17,\n",
       "  '0.100*\"ground ginger\" + 0.100*\"ground cinnamon\" + 0.081*\"raisins\" + 0.077*\"ground cloves\" + 0.070*\"white wine\" + 0.061*\"ground allspice\" + 0.055*\"fresh mushrooms\" + 0.050*\"lean ground beef\" + 0.032*\"dried rosemary\" + 0.030*\"iceberg lettuce\"'),\n",
       " (18,\n",
       "  '0.116*\"parmesan cheese\" + 0.071*\"warm water\" + 0.063*\"salt\" + 0.057*\"dried basil\" + 0.053*\"olive oil\" + 0.039*\"grits\" + 0.032*\"kale\" + 0.031*\"plain flour\" + 0.028*\"water\" + 0.027*\"dry yeast\"'),\n",
       " (19,\n",
       "  '0.124*\"unsalted butter\" + 0.097*\"all-purpose flour\" + 0.095*\"large eggs\" + 0.076*\"salt\" + 0.061*\"sugar\" + 0.039*\"whole milk\" + 0.038*\"granulated sugar\" + 0.033*\"baking powder\" + 0.026*\"large egg yolks\" + 0.026*\"buttermilk\"'),\n",
       " (20,\n",
       "  '0.118*\"flat leaf parsley\" + 0.101*\"freshly ground pepper\" + 0.055*\"extra-virgin olive oil\" + 0.053*\"garlic cloves\" + 0.044*\"large shrimp\" + 0.044*\"olive oil\" + 0.042*\"salt\" + 0.033*\"dry bread crumbs\" + 0.026*\"ground black pepper\" + 0.024*\"kosher salt\"'),\n",
       " (21,\n",
       "  '0.146*\"chicken broth\" + 0.068*\"green bell pepper\" + 0.059*\"boneless skinless chicken breast halves\" + 0.056*\"boneless skinless chicken breasts\" + 0.055*\"onions\" + 0.048*\"chicken breasts\" + 0.044*\"red bell pepper\" + 0.040*\"butter\" + 0.039*\"pepper\" + 0.038*\"salt\"'),\n",
       " (22,\n",
       "  '0.114*\"grated parmesan cheese\" + 0.064*\"olive oil\" + 0.054*\"zucchini\" + 0.046*\"salt\" + 0.042*\"garlic\" + 0.041*\"mozzarella cheese\" + 0.038*\"shredded mozzarella cheese\" + 0.037*\"eggplant\" + 0.036*\"pepper\" + 0.032*\"eggs\"'),\n",
       " (23,\n",
       "  '0.078*\"brown sugar\" + 0.051*\"water\" + 0.049*\"salt\" + 0.048*\"soy sauce\" + 0.046*\"white pepper\" + 0.044*\"oil\" + 0.041*\"sugar\" + 0.038*\"sauce\" + 0.035*\"ketchup\" + 0.034*\"garlic\"'),\n",
       " (24,\n",
       "  '0.074*\"ground cumin\" + 0.047*\"ground coriander\" + 0.046*\"salt\" + 0.039*\"curry powder\" + 0.034*\"onions\" + 0.029*\"garlic\" + 0.028*\"vegetable oil\" + 0.027*\"garlic cloves\" + 0.026*\"ground turmeric\" + 0.025*\"fresh ginger\"'),\n",
       " (25,\n",
       "  '0.090*\"hot water\" + 0.083*\"chopped garlic\" + 0.064*\"peanut oil\" + 0.059*\"rice wine\" + 0.046*\"hot red pepper flakes\" + 0.037*\"corn oil\" + 0.033*\"fontina cheese\" + 0.031*\"marsala wine\" + 0.030*\"seasoning\" + 0.029*\"garlic chili sauce\"'),\n",
       " (26,\n",
       "  '0.082*\"mirin\" + 0.072*\"chickpeas\" + 0.052*\"red pepper\" + 0.050*\"mint leaves\" + 0.049*\"chopped fresh mint\" + 0.048*\"juice\" + 0.039*\"sugar\" + 0.037*\"fresh coriander\" + 0.035*\"sake\" + 0.030*\"grated lemon zest\"'),\n",
       " (27,\n",
       "  '0.181*\"heavy cream\" + 0.102*\"cheddar cheese\" + 0.069*\"frozen peas\" + 0.066*\"grated nutmeg\" + 0.040*\"bananas\" + 0.037*\"bread\" + 0.026*\"ice\" + 0.024*\"adobo sauce\" + 0.023*\"old bay seasoning\" + 0.023*\"butter\"'),\n",
       " (28,\n",
       "  '0.115*\"oil\" + 0.087*\"salt\" + 0.052*\"cilantro leaves\" + 0.051*\"green chilies\" + 0.049*\"cumin seed\" + 0.047*\"onions\" + 0.043*\"ground turmeric\" + 0.041*\"water\" + 0.033*\"chili powder\" + 0.029*\"tomatoes\"'),\n",
       " (29,\n",
       "  '0.078*\"sour cream\" + 0.047*\"salsa\" + 0.047*\"flour tortillas\" + 0.045*\"chili powder\" + 0.042*\"corn tortillas\" + 0.041*\"shredded cheddar cheese\" + 0.040*\"black beans\" + 0.036*\"cilantro\" + 0.030*\"salt\" + 0.028*\"ground cumin\"'),\n",
       " (30,\n",
       "  '0.093*\"sugar\" + 0.081*\"whipping cream\" + 0.076*\"egg yolks\" + 0.050*\"vanilla extract\" + 0.050*\"butter\" + 0.049*\"egg whites\" + 0.043*\"half & half\" + 0.037*\"sweetened condensed milk\" + 0.035*\"water\" + 0.031*\"strawberries\"'),\n",
       " (31,\n",
       "  '0.101*\"shrimp\" + 0.063*\"medium shrimp\" + 0.045*\"long-grain rice\" + 0.045*\"vegetable oil\" + 0.035*\"long grain white rice\" + 0.035*\"rice noodles\" + 0.035*\"hot pepper sauce\" + 0.035*\"green onions\" + 0.029*\"scallions\" + 0.026*\"asian fish sauce\"'),\n",
       " (32,\n",
       "  '0.112*\"eggs\" + 0.104*\"milk\" + 0.096*\"salt\" + 0.073*\"butter\" + 0.068*\"all-purpose flour\" + 0.042*\"flour\" + 0.041*\"baking powder\" + 0.040*\"sugar\" + 0.040*\"white sugar\" + 0.023*\"water\"'),\n",
       " (33,\n",
       "  '0.062*\"rice\" + 0.055*\"coriander\" + 0.049*\"onions\" + 0.047*\"salt\" + 0.043*\"garam masala\" + 0.040*\"tumeric\" + 0.040*\"ginger\" + 0.038*\"cabbage\" + 0.036*\"garlic\" + 0.034*\"ghee\"'),\n",
       " (34,\n",
       "  '0.091*\"cinnamon sticks\" + 0.085*\"clove\" + 0.071*\"black peppercorns\" + 0.042*\"chopped tomatoes\" + 0.041*\"cream\" + 0.039*\"garlic paste\" + 0.035*\"coriander seeds\" + 0.035*\"yoghurt\" + 0.033*\"fresh dill\" + 0.028*\"onions\"'),\n",
       " (35,\n",
       "  '0.067*\"onions\" + 0.051*\"bay leaves\" + 0.050*\"celery\" + 0.049*\"salt\" + 0.046*\"dried thyme\" + 0.046*\"bay leaf\" + 0.045*\"carrots\" + 0.041*\"water\" + 0.033*\"garlic\" + 0.030*\"ground black pepper\"'),\n",
       " (36,\n",
       "  '0.118*\"salt\" + 0.099*\"pepper\" + 0.071*\"paprika\" + 0.069*\"onions\" + 0.055*\"potatoes\" + 0.045*\"butter\" + 0.039*\"garlic\" + 0.037*\"olive oil\" + 0.025*\"worcestershire sauce\" + 0.025*\"carrots\"'),\n",
       " (37,\n",
       "  '0.110*\"sea salt\" + 0.066*\"coarse salt\" + 0.057*\"crushed red pepper flakes\" + 0.050*\"extra-virgin olive oil\" + 0.045*\"celery ribs\" + 0.045*\"ground black pepper\" + 0.042*\"ground pepper\" + 0.039*\"kosher salt\" + 0.034*\"garlic cloves\" + 0.034*\"parmigiano reggiano cheese\"'),\n",
       " (38,\n",
       "  '0.115*\"fish sauce\" + 0.055*\"coconut milk\" + 0.042*\"garlic\" + 0.037*\"shallots\" + 0.037*\"red chili peppers\" + 0.034*\"lemongrass\" + 0.028*\"sugar\" + 0.026*\"vegetable oil\" + 0.025*\"boneless chicken skinless thigh\" + 0.024*\"brown sugar\"'),\n",
       " (39,\n",
       "  '0.153*\"mayonaise\" + 0.095*\"dijon mustard\" + 0.069*\"cider vinegar\" + 0.069*\"cracked black pepper\" + 0.047*\"roma tomatoes\" + 0.043*\"white rice\" + 0.043*\"lemon wedge\" + 0.036*\"romaine lettuce\" + 0.024*\"chicken wings\" + 0.024*\"green onions\"')]"
      ]
     },
     "execution_count": 8,
     "metadata": {},
     "output_type": "execute_result"
    }
   ],
   "source": [
    "ldamodel.show_topics(num_topics=40, num_words=10, formatted=True)"
   ]
  },
  {
   "cell_type": "code",
   "execution_count": 12,
   "metadata": {},
   "outputs": [
    {
     "name": "stdout",
     "output_type": "stream",
     "text": [
      "23 9 8 1 0 2\n"
     ]
    }
   ],
   "source": [
    "tops = ldamodel.show_topics(num_topics=40, num_words=10, formatted=False)\n",
    "c_salt=0 \n",
    "c_sugar=0\n",
    "c_water=0\n",
    "c_mushrooms=0\n",
    "c_chicken=0\n",
    "c_eggs=0\n",
    "for i in range(40):\n",
    "    pairs = tops[i][1]\n",
    "    for p in pairs:\n",
    "        word = p[0]\n",
    "        if word==\"salt\":\n",
    "            c_salt+=1\n",
    "        elif word==\"sugar\":\n",
    "            c_sugar+=1\n",
    "        elif word==\"water\":\n",
    "            c_water+=1\n",
    "        elif word==\"mushrooms\":\n",
    "            c_mushrooms+=1\n",
    "        elif word==\"chicken\":\n",
    "            c_chicken+=1\n",
    "        elif word==\"eggs\":\n",
    "            c_eggs+=1\n",
    "            \n",
    "print(c_salt, c_sugar, c_water, c_mushrooms, c_chicken, c_eggs)"
   ]
  },
  {
   "cell_type": "code",
   "execution_count": 13,
   "metadata": {},
   "outputs": [],
   "source": [
    "def save_answers1(c_salt, c_sugar, c_water, c_mushrooms, c_chicken, c_eggs):\n",
    "    with open(\"cooking_LDA_pa_task1.txt\", \"w\") as fout:\n",
    "        fout.write(\" \".join([str(el) for el in [c_salt, c_sugar, c_water, c_mushrooms, c_chicken, c_eggs]]))"
   ]
  },
  {
   "cell_type": "code",
   "execution_count": 14,
   "metadata": {},
   "outputs": [],
   "source": [
    "save_answers1(c_salt, c_sugar, c_water, c_mushrooms, c_chicken, c_eggs)"
   ]
  },
  {
   "cell_type": "markdown",
   "metadata": {},
   "source": [
    "### Фильтрация словаря\n",
    "В топах тем гораздо чаще встречаются первые три рассмотренных ингредиента, чем последние три. При этом наличие в рецепте курицы, яиц и грибов яснее дает понять, что мы будем готовить, чем наличие соли, сахара и воды. Таким образом, даже в рецептах есть слова, часто встречающиеся в текстах и не несущие смысловой нагрузки, и поэтому их не желательно видеть в темах. Наиболее простой прием борьбы с такими фоновыми элементами — фильтрация словаря по частоте. Обычно словарь фильтруют с двух сторон: убирают очень редкие слова (в целях экономии памяти) и очень частые слова (в целях повышения интерпретируемости тем). Мы уберем только частые слова."
   ]
  },
  {
   "cell_type": "code",
   "execution_count": 16,
   "metadata": {},
   "outputs": [],
   "source": [
    "import copy\n",
    "dictionary2 = copy.deepcopy(dictionary)"
   ]
  },
  {
   "cell_type": "markdown",
   "metadata": {},
   "source": [
    "__Задание 2.__ У объекта dictionary2 есть переменная *dfs* — это словарь, ключами которого являются id токена, а элементами — число раз, сколько слово встретилось во всей коллекции. Сохраните в отдельный список ингредиенты, которые встретились в коллекции больше 4000 раз. Вызовите метод словаря *filter_tokens*, подав в качестве первого аргумента полученный список популярных ингредиентов. Вычислите две величины: dict_size_before и dict_size_after — размер словаря до и после фильтрации.\n",
    "\n",
    "Затем, используя новый словарь, создайте новый корпус документов, corpus2, по аналогии с тем, как это сделано в начале ноутбука. Вычислите две величины: corpus_size_before и corpus_size_after — суммарное количество ингредиентов в корпусе (для каждого документа вычислите число различных ингредиентов в нем и просуммируйте по всем документам) до и после фильтрации.\n",
    "\n",
    "Передайте величины dict_size_before, dict_size_after, corpus_size_before, corpus_size_after в функцию save_answers2 и загрузите сгенерированный файл в форму."
   ]
  },
  {
   "cell_type": "code",
   "execution_count": 17,
   "metadata": {},
   "outputs": [
    {
     "data": {
      "text/plain": [
       "[3, 5, 15, 11, 18, 20, 29, 44, 52, 59, 104, 114]"
      ]
     },
     "execution_count": 17,
     "metadata": {},
     "output_type": "execute_result"
    }
   ],
   "source": [
    "popular_ids = [d for d in dictionary2.dfs if dictionary2.dfs[d]>4000]\n",
    "popular_ids"
   ]
  },
  {
   "cell_type": "code",
   "execution_count": 20,
   "metadata": {},
   "outputs": [
    {
     "name": "stdout",
     "output_type": "stream",
     "text": [
      "428249 343665\n"
     ]
    }
   ],
   "source": [
    "dictionary2.dfs[0]\n",
    "\n",
    "dict_size_before = len(dictionary)\n",
    "dictionary2.filter_tokens(popular_ids)\n",
    "dict_size_after = len(dictionary2)\n",
    "\n",
    "corpus_size_before = 0\n",
    "for rec in corpus:\n",
    "    corpus_size_before+=len(rec)\n",
    "corpus2 = [dictionary2.doc2bow(text) for text in texts]\n",
    "corpus_size_after=0\n",
    "for rec in corpus2:\n",
    "    corpus_size_after+=len(rec)\n",
    "#corpus_size_after = len(corpus2)\n",
    "print(corpus_size_before, corpus_size_after)"
   ]
  },
  {
   "cell_type": "code",
   "execution_count": 21,
   "metadata": {},
   "outputs": [],
   "source": [
    "def save_answers2(dict_size_before, dict_size_after, corpus_size_before, corpus_size_after):\n",
    "    with open(\"cooking_LDA_pa_task2.txt\", \"w\") as fout:\n",
    "        fout.write(\" \".join([str(el) for el in [dict_size_before, dict_size_after, corpus_size_before, corpus_size_after]]))"
   ]
  },
  {
   "cell_type": "code",
   "execution_count": 22,
   "metadata": {},
   "outputs": [],
   "source": [
    "save_answers2(dict_size_before, dict_size_after, corpus_size_before, corpus_size_after)"
   ]
  },
  {
   "cell_type": "markdown",
   "metadata": {},
   "source": [
    "### Сравнение когерентностей\n",
    "__Задание 3.__ Постройте еще одну модель по корпусу corpus2 и словарю dictionary2, остальные параметры оставьте такими же, как при первом построении модели. Сохраните новую модель в другую переменную (не перезаписывайте предыдущую модель). Не забудьте про фиксирование seed!\n",
    "\n",
    "Затем воспользуйтесь методом *top_topics* модели, чтобы вычислить ее когерентность. Передайте в качестве аргумента соответствующий модели корпус. Метод вернет список кортежей (топ токенов, когерентность), отсортированных по убыванию последней. Вычислите среднюю по всем темам когерентность для каждой из двух моделей и передайте в функцию save_answers3. "
   ]
  },
  {
   "cell_type": "code",
   "execution_count": 23,
   "metadata": {},
   "outputs": [
    {
     "name": "stdout",
     "output_type": "stream",
     "text": [
      "Wall time: 3min 11s\n"
     ]
    }
   ],
   "source": [
    "np.random.seed(76543)\n",
    "# здесь код для построения модели:\n",
    "%time ldamodel2 = models.ldamodel.LdaModel(corpus2, id2word=dictionary2, num_topics=40, passes=5)"
   ]
  },
  {
   "cell_type": "code",
   "execution_count": 24,
   "metadata": {},
   "outputs": [],
   "source": [
    "tops1 = ldamodel.top_topics(corpus)\n",
    "tops2 = ldamodel2.top_topics(corpus2)"
   ]
  },
  {
   "cell_type": "code",
   "execution_count": 26,
   "metadata": {},
   "outputs": [
    {
     "name": "stdout",
     "output_type": "stream",
     "text": [
      "-6.339020956777152 -8.596629015979598\n"
     ]
    }
   ],
   "source": [
    "def get_avg_coherence(top_topics):\n",
    "    coh_arr1 = [x[1] for x in top_topics]\n",
    "    return np.average(coh_arr1)\n",
    "\n",
    "coherence = get_avg_coherence(tops1)\n",
    "coherence2 = get_avg_coherence(tops2)\n",
    "print(coherence, coherence2)"
   ]
  },
  {
   "cell_type": "code",
   "execution_count": 27,
   "metadata": {},
   "outputs": [],
   "source": [
    "def save_answers3(coherence, coherence2):\n",
    "    with open(\"cooking_LDA_pa_task3.txt\", \"w\") as fout:\n",
    "        fout.write(\" \".join([\"%3f\"%el for el in [coherence, coherence2]]))"
   ]
  },
  {
   "cell_type": "code",
   "execution_count": 28,
   "metadata": {},
   "outputs": [],
   "source": [
    "save_answers3(coherence, coherence2)"
   ]
  },
  {
   "cell_type": "markdown",
   "metadata": {},
   "source": [
    "Считается, что когерентность хорошо соотносится с человеческими оценками интерпретируемости тем. Поэтому на больших текстовых коллекциях когерентность обычно повышается, если убрать фоновую лексику. Однако в нашем случае этого не произошло. "
   ]
  },
  {
   "cell_type": "markdown",
   "metadata": {},
   "source": [
    "### Изучение влияния гиперпараметра alpha"
   ]
  },
  {
   "cell_type": "markdown",
   "metadata": {},
   "source": [
    "В этом разделе мы будем работать со второй моделью, то есть той, которая построена по сокращенному корпусу. \n",
    "\n",
    "Пока что мы посмотрели только на матрицу темы-слова, теперь давайте посмотрим на матрицу темы-документы. Выведите темы для нулевого (или любого другого) документа из корпуса, воспользовавшись методом *get_document_topics* второй модели:"
   ]
  },
  {
   "cell_type": "code",
   "execution_count": 29,
   "metadata": {},
   "outputs": [
    {
     "data": {
      "text/plain": [
       "[(25, 0.12812185), (31, 0.6175929), (33, 0.13865705)]"
      ]
     },
     "execution_count": 29,
     "metadata": {},
     "output_type": "execute_result"
    }
   ],
   "source": [
    "doc_top = ldamodel2.get_document_topics(corpus2[0])\n",
    "doc_top"
   ]
  },
  {
   "cell_type": "markdown",
   "metadata": {},
   "source": [
    "Также выведите содержимое переменной *.alpha* второй модели:"
   ]
  },
  {
   "cell_type": "code",
   "execution_count": 30,
   "metadata": {},
   "outputs": [
    {
     "data": {
      "text/plain": [
       "array([0.025, 0.025, 0.025, 0.025, 0.025, 0.025, 0.025, 0.025, 0.025,\n",
       "       0.025, 0.025, 0.025, 0.025, 0.025, 0.025, 0.025, 0.025, 0.025,\n",
       "       0.025, 0.025, 0.025, 0.025, 0.025, 0.025, 0.025, 0.025, 0.025,\n",
       "       0.025, 0.025, 0.025, 0.025, 0.025, 0.025, 0.025, 0.025, 0.025,\n",
       "       0.025, 0.025, 0.025, 0.025], dtype=float32)"
      ]
     },
     "execution_count": 30,
     "metadata": {},
     "output_type": "execute_result"
    }
   ],
   "source": [
    "ldamodel2.alpha"
   ]
  },
  {
   "cell_type": "markdown",
   "metadata": {},
   "source": [
    "У вас должно получиться, что документ характеризуется небольшим числом тем. Попробуем поменять гиперпараметр alpha, задающий априорное распределение Дирихле для распределений тем в документах."
   ]
  },
  {
   "cell_type": "markdown",
   "metadata": {},
   "source": [
    "__Задание 4.__ Обучите третью модель: используйте сокращенный корпус (corpus2 и dictionary2) и установите параметр __alpha=1__, passes=5. Не забудьте про фиксацию seed! Выведите темы новой модели для нулевого документа; должно получиться, что распределение над множеством тем практически равномерное. Чтобы убедиться в том, что во второй модели документы описываются гораздо более разреженными распределениями, чем в третьей, посчитайте суммарное количество элементов, __превосходящих 0.01__, в матрицах темы-документы обеих моделей. Другими словами, запросите темы  модели для каждого документа с параметром *minimum_probability=0.01* и просуммируйте число элементов в получаемых массивах. Передайте две суммы (сначала для модели с alpha по умолчанию, затем для модели в alpha=1) в функцию save_answers4."
   ]
  },
  {
   "cell_type": "code",
   "execution_count": 31,
   "metadata": {},
   "outputs": [
    {
     "name": "stdout",
     "output_type": "stream",
     "text": [
      "Wall time: 2min 21s\n"
     ]
    }
   ],
   "source": [
    "np.random.seed(76543)\n",
    "# здесь код для построения модели:\n",
    "%time ldamodel3 = models.ldamodel.LdaModel(corpus2, id2word=dictionary2, num_topics=40, passes=5, alpha=1)"
   ]
  },
  {
   "cell_type": "code",
   "execution_count": 32,
   "metadata": {},
   "outputs": [
    {
     "name": "stdout",
     "output_type": "stream",
     "text": [
      "203661 1590960\n"
     ]
    }
   ],
   "source": [
    "def get_doc_topics_sum(model):\n",
    "    s = 0\n",
    "    for doc in corpus2:\n",
    "        topics = model.get_document_topics(doc, minimum_probability=0.01)\n",
    "        s+=len(topics)\n",
    "    return s\n",
    "\n",
    "count_model2 = get_doc_topics_sum(ldamodel2)\n",
    "count_model3 = get_doc_topics_sum(ldamodel3)\n",
    "print(count_model2, count_model3)"
   ]
  },
  {
   "cell_type": "code",
   "execution_count": 33,
   "metadata": {},
   "outputs": [],
   "source": [
    "def save_answers4(count_model2, count_model3):\n",
    "    with open(\"cooking_LDA_pa_task4.txt\", \"w\") as fout:\n",
    "        fout.write(\" \".join([str(el) for el in [count_model2, count_model3]]))"
   ]
  },
  {
   "cell_type": "code",
   "execution_count": 34,
   "metadata": {},
   "outputs": [],
   "source": [
    "save_answers4(count_model2, count_model3)"
   ]
  },
  {
   "cell_type": "markdown",
   "metadata": {},
   "source": [
    "Таким образом, гиперпараметр __alpha__ влияет на разреженность распределений тем в документах. Аналогично гиперпараметр __eta__ влияет на разреженность распределений слов в темах."
   ]
  },
  {
   "cell_type": "markdown",
   "metadata": {},
   "source": [
    "### LDA как способ понижения размерности\n",
    "Иногда, распределения над темами, найденные с помощью LDA, добавляют в матрицу объекты-признаки как дополнительные, семантические, признаки, и это может улучшить качество решения задачи. Для простоты давайте просто обучим классификатор рецептов на кухни на признаках, полученных из LDA, и измерим точность (accuracy).\n",
    "\n",
    "__Задание 5.__ Используйте модель, построенную по сокращенной выборке с alpha по умолчанию (вторую модель). Составьте матрицу $\\Theta = p(t|d)$ вероятностей тем в документах; вы можете использовать тот же метод get_document_topics, а также вектор правильных ответов y (в том же порядке, в котором рецепты идут в переменной recipes). Создайте объект RandomForestClassifier со 100 деревьями, с помощью функции cross_val_score вычислите среднюю accuracy по трем фолдам (перемешивать данные не нужно) и передайте в функцию save_answers5."
   ]
  },
  {
   "cell_type": "code",
   "execution_count": 35,
   "metadata": {},
   "outputs": [],
   "source": [
    "from sklearn.ensemble import RandomForestClassifier\n",
    "from sklearn.model_selection import cross_val_score"
   ]
  },
  {
   "cell_type": "code",
   "execution_count": 36,
   "metadata": {},
   "outputs": [],
   "source": [
    "y = [r[\"cuisine\"] for r in recipes]\n",
    "X = np.zeros((len(recipes), 40))\n",
    "for i in range(len(recipes)):\n",
    "    topics = ldamodel2.get_document_topics(corpus2[i])\n",
    "    for topic in topics:\n",
    "        idx = topic[0]\n",
    "        val = topic[1]\n",
    "        X[i,idx]=val"
   ]
  },
  {
   "cell_type": "code",
   "execution_count": 38,
   "metadata": {},
   "outputs": [
    {
     "name": "stderr",
     "output_type": "stream",
     "text": [
      "C:\\ProgramData\\Anaconda3\\lib\\site-packages\\sklearn\\model_selection\\_split.py:2053: FutureWarning: You should specify a value for 'cv' instead of relying on the default value. The default value will change from 3 to 5 in version 0.22.\n",
      "  warnings.warn(CV_WARNING, FutureWarning)\n"
     ]
    }
   ],
   "source": [
    "rf = RandomForestClassifier(n_estimators=100)\n",
    "score = cross_val_score(rf,X,y)\n",
    "\n",
    "accuracy = np.mean(score)\n"
   ]
  },
  {
   "cell_type": "code",
   "execution_count": 39,
   "metadata": {},
   "outputs": [],
   "source": [
    "def save_answers5(accuracy):\n",
    "     with open(\"cooking_LDA_pa_task5.txt\", \"w\") as fout:\n",
    "        fout.write(str(accuracy))"
   ]
  },
  {
   "cell_type": "code",
   "execution_count": 40,
   "metadata": {},
   "outputs": [],
   "source": [
    "save_answers5(accuracy)"
   ]
  },
  {
   "cell_type": "markdown",
   "metadata": {},
   "source": [
    "Для такого большого количества классов это неплохая точность. Вы можете попроовать обучать RandomForest на исходной матрице частот слов, имеющей значительно большую размерность, и увидеть, что accuracy увеличивается на 10–15%. Таким образом, LDA собрал не всю, но достаточно большую часть информации из выборки, в матрице низкого ранга."
   ]
  },
  {
   "cell_type": "markdown",
   "metadata": {},
   "source": [
    "### LDA — вероятностная модель\n",
    "Матричное разложение, использующееся в LDA, интерпретируется как следующий процесс генерации документов.\n",
    "\n",
    "Для документа $d$ длины $n_d$:\n",
    "1. Из априорного распределения Дирихле с параметром alpha сгенерировать распределение над множеством тем: $\\theta_d \\sim Dirichlet(\\alpha)$\n",
    "1. Для каждого слова $w = 1, \\dots, n_d$:\n",
    "    1. Сгенерировать тему из дискретного распределения $t \\sim \\theta_{d}$\n",
    "    1. Сгенерировать слово из дискретного распределения $w \\sim \\phi_{t}$.\n",
    "    \n",
    "Подробнее об этом в [Википедии](https://en.wikipedia.org/wiki/Latent_Dirichlet_allocation).\n",
    "\n",
    "В контексте нашей задачи получается, что, используя данный генеративный процесс, можно создавать новые рецепты. Вы можете передать в функцию модель и число ингредиентов и сгенерировать рецепт :)"
   ]
  },
  {
   "cell_type": "code",
   "execution_count": null,
   "metadata": {},
   "outputs": [],
   "source": [
    "def generate_recipe(model, num_ingredients):\n",
    "    theta = np.random.dirichlet(model.alpha)\n",
    "    for i in range(num_ingredients):\n",
    "        t = np.random.choice(np.arange(model.num_topics), p=theta)\n",
    "        topic = model.show_topic(t, topn=model.num_terms)\n",
    "        topic_distr = [x[1] for x in topic]\n",
    "        terms = [x[0] for x in topic]\n",
    "        w = np.random.choice(terms, p=topic_distr)\n",
    "        print w"
   ]
  },
  {
   "cell_type": "code",
   "execution_count": null,
   "metadata": {},
   "outputs": [],
   "source": []
  },
  {
   "cell_type": "markdown",
   "metadata": {},
   "source": [
    "### Интерпретация построенной модели\n",
    "Вы можете рассмотреть топы ингредиентов каждой темы. Большиснтво тем сами по себе похожи на рецепты; в некоторых собираются продукты одного вида, например, свежие фрукты или разные виды сыра.\n",
    "\n",
    "Попробуем эмпирически соотнести наши темы с национальными кухнями (cuisine). Построим матрицу $A$ размера темы $x$ кухни, ее элементы $a_{tc}$ — суммы $p(t|d)$ по всем документам $d$, которые отнесены к кухне $c$. Нормируем матрицу на частоты рецептов по разным кухням, чтобы избежать дисбаланса между кухнями. Следующая функция получает на вход объект модели, объект корпуса и исходные данные и возвращает нормированную матрицу $A$. Ее удобно визуализировать с помощью seaborn."
   ]
  },
  {
   "cell_type": "code",
   "execution_count": null,
   "metadata": {},
   "outputs": [],
   "source": [
    "import pandas\n",
    "import seaborn\n",
    "from matplotlib import pyplot as plt\n",
    "%matplotlib inline"
   ]
  },
  {
   "cell_type": "code",
   "execution_count": null,
   "metadata": {},
   "outputs": [],
   "source": [
    "def compute_topic_cuisine_matrix(model, corpus, recipes):\n",
    "    # составляем вектор целевых признаков\n",
    "    targets = list(set([recipe[\"cuisine\"] for recipe in recipes]))\n",
    "    # составляем матрицу\n",
    "    tc_matrix = pandas.DataFrame(data=np.zeros((model.num_topics, len(targets))), columns=targets)\n",
    "    for recipe, bow in zip(recipes, corpus):\n",
    "        recipe_topic = model.get_document_topics(bow)\n",
    "        for t, prob in recipe_topic:\n",
    "            tc_matrix[recipe[\"cuisine\"]][t] += prob\n",
    "    # нормируем матрицу\n",
    "    target_sums = pandas.DataFrame(data=np.zeros((1, len(targets))), columns=targets)\n",
    "    for recipe in recipes:\n",
    "        target_sums[recipe[\"cuisine\"]] += 1\n",
    "    return pandas.DataFrame(tc_matrix.values/target_sums.values, columns=tc_matrix.columns)"
   ]
  },
  {
   "cell_type": "code",
   "execution_count": null,
   "metadata": {},
   "outputs": [],
   "source": [
    "def plot_matrix(tc_matrix):\n",
    "    plt.figure(figsize=(10, 10))\n",
    "    seaborn.heatmap(tc_matrix, square=True)"
   ]
  },
  {
   "cell_type": "code",
   "execution_count": null,
   "metadata": {},
   "outputs": [],
   "source": [
    "# Визуализируйте матрицу\n"
   ]
  },
  {
   "cell_type": "markdown",
   "metadata": {},
   "source": [
    "Чем темнее квадрат в матрице, тем больше связь этой темы с данной кухней. Мы видим, что у нас есть темы, которые связаны с несколькими кухнями. Такие темы показывают набор ингредиентов, которые популярны в кухнях нескольких народов, то есть указывают на схожесть кухонь этих народов. Некоторые темы распределены по всем кухням равномерно, они показывают наборы продуктов, которые часто используются в кулинарии всех стран. "
   ]
  },
  {
   "cell_type": "markdown",
   "metadata": {},
   "source": [
    "Жаль, что в датасете нет названий рецептов, иначе темы было бы проще интерпретировать..."
   ]
  },
  {
   "cell_type": "markdown",
   "metadata": {},
   "source": [
    "### Заключение\n",
    "В этом задании вы построили несколько моделей LDA, посмотрели, на что влияют гиперпараметры модели и как можно использовать построенную модель. "
   ]
  }
 ],
 "metadata": {
  "kernelspec": {
   "display_name": "Python 3",
   "language": "python",
   "name": "python3"
  },
  "language_info": {
   "codemirror_mode": {
    "name": "ipython",
    "version": 3
   },
   "file_extension": ".py",
   "mimetype": "text/x-python",
   "name": "python",
   "nbconvert_exporter": "python",
   "pygments_lexer": "ipython3",
   "version": "3.7.3"
  }
 },
 "nbformat": 4,
 "nbformat_minor": 1
}
