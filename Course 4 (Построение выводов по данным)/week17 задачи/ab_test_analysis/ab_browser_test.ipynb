{
 "cells": [
  {
   "cell_type": "code",
   "execution_count": 1,
   "metadata": {},
   "outputs": [],
   "source": [
    "import pandas as pd\n",
    "import numpy as np\n",
    "import matplotlib.pyplot as plt"
   ]
  },
  {
   "cell_type": "code",
   "execution_count": 2,
   "metadata": {},
   "outputs": [
    {
     "data": {
      "text/html": [
       "<div>\n",
       "<style scoped>\n",
       "    .dataframe tbody tr th:only-of-type {\n",
       "        vertical-align: middle;\n",
       "    }\n",
       "\n",
       "    .dataframe tbody tr th {\n",
       "        vertical-align: top;\n",
       "    }\n",
       "\n",
       "    .dataframe thead th {\n",
       "        text-align: right;\n",
       "    }\n",
       "</style>\n",
       "<table border=\"1\" class=\"dataframe\">\n",
       "  <thead>\n",
       "    <tr style=\"text-align: right;\">\n",
       "      <th></th>\n",
       "      <th>userID</th>\n",
       "      <th>browser</th>\n",
       "      <th>slot</th>\n",
       "      <th>n_clicks</th>\n",
       "      <th>n_queries</th>\n",
       "      <th>n_nonclk_queries</th>\n",
       "    </tr>\n",
       "  </thead>\n",
       "  <tbody>\n",
       "    <tr>\n",
       "      <th>0</th>\n",
       "      <td>1</td>\n",
       "      <td>Browser #2</td>\n",
       "      <td>exp</td>\n",
       "      <td>23</td>\n",
       "      <td>32</td>\n",
       "      <td>19</td>\n",
       "    </tr>\n",
       "    <tr>\n",
       "      <th>1</th>\n",
       "      <td>3</td>\n",
       "      <td>Browser #4</td>\n",
       "      <td>exp</td>\n",
       "      <td>3</td>\n",
       "      <td>4</td>\n",
       "      <td>2</td>\n",
       "    </tr>\n",
       "    <tr>\n",
       "      <th>2</th>\n",
       "      <td>5</td>\n",
       "      <td>Browser #4</td>\n",
       "      <td>exp</td>\n",
       "      <td>29</td>\n",
       "      <td>35</td>\n",
       "      <td>16</td>\n",
       "    </tr>\n",
       "    <tr>\n",
       "      <th>3</th>\n",
       "      <td>6</td>\n",
       "      <td>Browser #4</td>\n",
       "      <td>control</td>\n",
       "      <td>12</td>\n",
       "      <td>6</td>\n",
       "      <td>0</td>\n",
       "    </tr>\n",
       "    <tr>\n",
       "      <th>4</th>\n",
       "      <td>7</td>\n",
       "      <td>Browser #4</td>\n",
       "      <td>exp</td>\n",
       "      <td>54</td>\n",
       "      <td>68</td>\n",
       "      <td>30</td>\n",
       "    </tr>\n",
       "  </tbody>\n",
       "</table>\n",
       "</div>"
      ],
      "text/plain": [
       "   userID     browser     slot  n_clicks  n_queries  n_nonclk_queries\n",
       "0       1  Browser #2      exp        23         32                19\n",
       "1       3  Browser #4      exp         3          4                 2\n",
       "2       5  Browser #4      exp        29         35                16\n",
       "3       6  Browser #4  control        12          6                 0\n",
       "4       7  Browser #4      exp        54         68                30"
      ]
     },
     "execution_count": 2,
     "metadata": {},
     "output_type": "execute_result"
    }
   ],
   "source": [
    "data = pd.read_csv(r'C:\\Users\\One\\Git\\COURSERA YANDEX\\Course 4\\week 17\\ab_test_analysis\\ab_browser_test.csv')\n",
    "data.head()"
   ]
  },
  {
   "cell_type": "markdown",
   "metadata": {},
   "source": [
    "# Посчитайте, насколько в группе exp больше пользовательских кликов по сравнению с группой control в процентах от числа кликов в контрольной группе."
   ]
  },
  {
   "cell_type": "code",
   "execution_count": 3,
   "metadata": {},
   "outputs": [
    {
     "data": {
      "text/plain": [
       "1.614"
      ]
     },
     "execution_count": 3,
     "metadata": {},
     "output_type": "execute_result"
    }
   ],
   "source": [
    "round(((data['n_clicks'][data['slot'] == 'exp'].sum() - data['n_clicks'][data['slot'] == 'control'].sum()) / data['n_clicks'][data['slot'] == 'control'].sum())*100, 3)"
   ]
  },
  {
   "cell_type": "markdown",
   "metadata": {},
   "source": [
    "# Постройте с помощью бутстрепа 95% доверительный интервал для средних значений и разности медиан количества кликов в каждой из двух групп. "
   ]
  },
  {
   "cell_type": "code",
   "execution_count": 4,
   "metadata": {},
   "outputs": [],
   "source": [
    "def get_bootstrap_samples(data, n_samples):\n",
    "    indices = np.random.randint(0, len(data), (n_samples, len(data)))\n",
    "    samples = data[indices]\n",
    "    return samples"
   ]
  },
  {
   "cell_type": "code",
   "execution_count": 45,
   "metadata": {},
   "outputs": [],
   "source": [
    "bootstrapped_exp = get_bootstrap_samples(data['n_clicks'][data['slot'] == 'exp'].values, 500)\n",
    "bootstrapped_control = get_bootstrap_samples(data['n_clicks'][data['slot'] == 'control'].values, 500)"
   ]
  },
  {
   "cell_type": "code",
   "execution_count": 46,
   "metadata": {},
   "outputs": [],
   "source": [
    "def stat_intervals(stat, alpha):\n",
    "    boundaries = np.percentile(stat, [100 * alpha / 2., 100 * (1 - alpha / 2.)])\n",
    "    return boundaries"
   ]
  },
  {
   "cell_type": "code",
   "execution_count": 47,
   "metadata": {},
   "outputs": [
    {
     "data": {
      "text/plain": [
       "array([1., 1.])"
      ]
     },
     "execution_count": 47,
     "metadata": {},
     "output_type": "execute_result"
    }
   ],
   "source": [
    "medians_delta = np.median(bootstrapped_exp, axis=1) - np.median(bootstrapped_control, axis=1)\n",
    "stat_intervals(medians_delta, 0.05)"
   ]
  },
  {
   "cell_type": "code",
   "execution_count": 48,
   "metadata": {},
   "outputs": [
    {
     "data": {
      "text/plain": [
       "array([0.19960335, 0.40496719])"
      ]
     },
     "execution_count": 48,
     "metadata": {},
     "output_type": "execute_result"
    }
   ],
   "source": [
    "averages_delta = np.mean(bootstrapped_exp, axis=1) - np.mean(bootstrapped_control, axis=1)\n",
    "stat_intervals(averages_delta, 0.05)"
   ]
  },
  {
   "cell_type": "markdown",
   "metadata": {},
   "source": [
    "# Посмотрите на выданные вам данные и выберите все верные варианты ответа относительно проверки гипотезы о равенстве среднего количества кликов в группах."
   ]
  },
  {
   "cell_type": "code",
   "execution_count": 49,
   "metadata": {},
   "outputs": [
    {
     "data": {
      "text/plain": [
       "Ttest_indResult(statistic=5.630626716976624, pvalue=1.7964064239169323e-08)"
      ]
     },
     "execution_count": 49,
     "metadata": {},
     "output_type": "execute_result"
    }
   ],
   "source": [
    "from scipy.stats import ttest_ind\n",
    "ttest_ind(data['n_clicks'][data['slot'] == 'exp'], data['n_clicks'][data['slot'] == 'control'])"
   ]
  },
  {
   "cell_type": "markdown",
   "metadata": {},
   "source": [
    "# t-критерий Стьюдента имеет множество достоинств, и потому его достаточно часто применяют в AB экспериментах. Иногда его применение может быть необоснованно из-за сильной скошенности распределения данных."
   ]
  },
  {
   "cell_type": "code",
   "execution_count": 50,
   "metadata": {},
   "outputs": [],
   "source": [
    "bootstrap_means = np.mean(bootstrapped_control, axis=1)\n",
    "control_boot_chi_squared = []"
   ]
  },
  {
   "cell_type": "code",
   "execution_count": 51,
   "metadata": {},
   "outputs": [
    {
     "name": "stdout",
     "output_type": "stream",
     "text": [
      "Wall time: 13min 27s\n"
     ]
    }
   ],
   "source": [
    "%%time\n",
    "\n",
    "for k in range(bootstrapped_control.shape[0]):\n",
    "    summer = 0\n",
    "    for i in range(bootstrapped_control.shape[1]):\n",
    "        summer += (bootstrapped_control[k][i] - bootstrap_means[k])**2\n",
    "    control_boot_chi_squared.append(summer)"
   ]
  },
  {
   "cell_type": "code",
   "execution_count": 52,
   "metadata": {},
   "outputs": [
    {
     "data": {
      "text/plain": [
       "500"
      ]
     },
     "execution_count": 52,
     "metadata": {},
     "output_type": "execute_result"
    }
   ],
   "source": [
    "len(control_boot_chi_squared)"
   ]
  },
  {
   "cell_type": "code",
   "execution_count": 56,
   "metadata": {},
   "outputs": [
    {
     "data": {
      "text/plain": [
       "((array([409.75447609, 417.6076492 , 422.06789456, 425.24996033,\n",
       "         427.75458277, 429.83540071, 431.6244473 , 433.19958802,\n",
       "         434.61075771, 435.89197548, 437.06750372, 438.15527962,\n",
       "         439.16895419, 440.11916758, 441.0143809 , 441.86143812,\n",
       "         442.66595697, 443.43260794, 444.16531782, 444.86742108,\n",
       "         445.54177438, 446.19084464, 446.81677748, 447.42145127,\n",
       "         448.00652022, 448.57344901, 449.12354099, 449.6579613 ,\n",
       "         450.17775596, 450.68386771, 451.17714938, 451.65837504,\n",
       "         452.12824958, 452.58741674, 453.03646615, 453.47593922,\n",
       "         453.90633437, 454.32811152, 454.74169597, 455.14748186,\n",
       "         455.54583518, 455.93709642, 456.3215829 , 456.69959087,\n",
       "         457.07139736, 457.43726183, 457.79742761, 458.1521233 ,\n",
       "         458.50156388, 458.84595184, 459.1854781 , 459.52032292,\n",
       "         459.85065667, 460.17664058, 460.49842735, 460.81616179,\n",
       "         461.12998133, 461.44001656, 461.74639164, 462.04922476,\n",
       "         462.3486285 , 462.64471019, 462.93757225, 463.22731247,\n",
       "         463.51402431, 463.79779714, 464.07871649, 464.35686427,\n",
       "         464.63231897, 464.90515586, 465.17544715, 465.44326219,\n",
       "         465.70866759, 465.97172738, 466.23250314, 466.49105414,\n",
       "         466.74743742, 467.00170797, 467.25391874, 467.50412083,\n",
       "         467.75236352, 467.99869437, 468.24315933, 468.48580276,\n",
       "         468.72666756, 468.9657952 , 469.20322579, 469.43899817,\n",
       "         469.67314992, 469.90571743, 470.13673598, 470.36623974,\n",
       "         470.59426187, 470.82083452, 471.04598887, 471.26975521,\n",
       "         471.49216293, 471.71324059, 471.93301594, 472.15151593,\n",
       "         472.36876679, 472.58479402, 472.79962241, 473.01327612,\n",
       "         473.22577862, 473.43715282, 473.64742098, 473.85660482,\n",
       "         474.06472549, 474.27180363, 474.47785934, 474.68291223,\n",
       "         474.88698145, 475.09008566, 475.29224309, 475.49347153,\n",
       "         475.69378836, 475.89321056, 476.09175471, 476.28943702,\n",
       "         476.48627333, 476.68227913, 476.87746958, 477.07185948,\n",
       "         477.26546334, 477.45829534, 477.65036938, 477.84169905,\n",
       "         478.03229766, 478.22217826, 478.41135362, 478.59983627,\n",
       "         478.78763846, 478.97477223, 479.16124937, 479.34708144,\n",
       "         479.5322798 , 479.71685555, 479.90081964, 480.08418277,\n",
       "         480.26695546, 480.44914804, 480.63077065, 480.81183327,\n",
       "         480.99234567, 481.17231747, 481.35175812, 481.53067691,\n",
       "         481.70908297, 481.88698529, 482.06439268, 482.24131385,\n",
       "         482.41775732, 482.59373152, 482.76924472, 482.94430506,\n",
       "         483.11892057, 483.29309913, 483.46684854, 483.64017644,\n",
       "         483.81309039, 483.98559783, 484.15770608, 484.32942237,\n",
       "         484.50075382, 484.67170745, 484.8422902 , 485.01250889,\n",
       "         485.18237027, 485.35188099, 485.5210476 , 485.68987659,\n",
       "         485.85837436, 486.02654722, 486.1944014 , 486.36194308,\n",
       "         486.52917832, 486.69611315, 486.86275351, 487.02910527,\n",
       "         487.19517424, 487.36096615, 487.52648669, 487.69174147,\n",
       "         487.85673604, 488.02147589, 488.18596648, 488.35021316,\n",
       "         488.51422128, 488.67799611, 488.84154287, 489.00486673,\n",
       "         489.16797282, 489.33086621, 489.49355193, 489.65603496,\n",
       "         489.81832026, 489.98041271, 490.14231717, 490.30403846,\n",
       "         490.46558136, 490.62695061, 490.78815091, 490.94918693,\n",
       "         491.1100633 , 491.27078462, 491.43135545, 491.59178034,\n",
       "         491.75206378, 491.91221026, 492.07222421, 492.23211006,\n",
       "         492.39187219, 492.55151498, 492.71104276, 492.87045985,\n",
       "         493.02977055, 493.18897913, 493.34808983, 493.50710688,\n",
       "         493.6660345 , 493.82487688, 493.98363818, 494.14232257,\n",
       "         494.30093417, 494.45947713, 494.61795553, 494.77637348,\n",
       "         494.93473505, 495.09304432, 495.25130533, 495.40952214,\n",
       "         495.56769878, 495.72583927, 495.88394762, 496.04202785,\n",
       "         496.20008395, 496.35811992, 496.51613974, 496.67414739,\n",
       "         496.83214685, 496.9901421 , 497.1481371 , 497.30613582,\n",
       "         497.46414222, 497.62216027, 497.78019393, 497.93824716,\n",
       "         498.09632394, 498.25442821, 498.41256396, 498.57073516,\n",
       "         498.72894577, 498.88719979, 499.04550118, 499.20385395,\n",
       "         499.36226209, 499.52072961, 499.67926051, 499.83785882,\n",
       "         499.99652857, 500.15527379, 500.31409855, 500.47300689,\n",
       "         500.6320029 , 500.79109066, 500.95027428, 501.10955787,\n",
       "         501.26894556, 501.4284415 , 501.58804986, 501.74777481,\n",
       "         501.90762055, 502.06759131, 502.22769132, 502.38792485,\n",
       "         502.54829617, 502.7088096 , 502.86946945, 503.03028007,\n",
       "         503.19124585, 503.35237119, 503.51366051, 503.67511828,\n",
       "         503.83674897, 503.99855711, 504.16054723, 504.32272391,\n",
       "         504.48509177, 504.64765544, 504.8104196 , 504.97338897,\n",
       "         505.13656828, 505.29996234, 505.46357595, 505.62741399,\n",
       "         505.79148136, 505.955783  , 506.12032391, 506.28510912,\n",
       "         506.4501437 , 506.61543279, 506.78098155, 506.94679522,\n",
       "         507.11287906, 507.27923839, 507.4458786 , 507.61280512,\n",
       "         507.78002343, 507.94753908, 508.11535769, 508.2834849 ,\n",
       "         508.45192645, 508.62068813, 508.78977579, 508.95919536,\n",
       "         509.12895283, 509.29905425, 509.46950577, 509.64031358,\n",
       "         509.81148398, 509.98302331, 510.15493802, 510.32723463,\n",
       "         510.49991974, 510.67300005, 510.84648233, 511.02037346,\n",
       "         511.19468038, 511.36941017, 511.54456996, 511.72016701,\n",
       "         511.89620869, 512.07270243, 512.24965583, 512.42707654,\n",
       "         512.60497236, 512.7833512 , 512.96222108, 513.14159016,\n",
       "         513.32146669, 513.50185909, 513.68277589, 513.86422576,\n",
       "         514.0462175 , 514.22876007, 514.41186257, 514.59553423,\n",
       "         514.77978447, 514.96462286, 515.1500591 , 515.33610309,\n",
       "         515.52276491, 515.71005479, 515.89798315, 516.0865606 ,\n",
       "         516.27579795, 516.4657062 , 516.65629654, 516.8475804 ,\n",
       "         517.03956939, 517.23227537, 517.42571041, 517.61988681,\n",
       "         517.81481714, 518.01051419, 518.20699101, 518.40426091,\n",
       "         518.6023375 , 518.80123463, 519.00096646, 519.20154744,\n",
       "         519.40299233, 519.6053162 , 519.80853445, 520.01266282,\n",
       "         520.21771737, 520.42371455, 520.63067116, 520.83860438,\n",
       "         521.04753181, 521.25747141, 521.4684416 , 521.68046121,\n",
       "         521.89354953, 522.10772631, 522.32301178, 522.53942666,\n",
       "         522.7569922 , 522.97573016, 523.19566287, 523.41681322,\n",
       "         523.63920469, 523.86286137, 524.08780801, 524.31406997,\n",
       "         524.54167335, 524.77064492, 525.0010122 , 525.23280347,\n",
       "         525.46604781, 525.70077513, 525.93701619, 526.17480264,\n",
       "         526.41416707, 526.65514303, 526.89776509, 527.14206885,\n",
       "         527.38809102, 527.63586946, 527.88544319, 528.13685249,\n",
       "         528.39013894, 528.64534548, 528.90251646, 529.16169769,\n",
       "         529.42293658, 529.68628211, 529.95178499, 530.21949771,\n",
       "         530.48947461, 530.76177201, 531.03644828, 531.31356394,\n",
       "         531.5931818 , 531.87536703, 532.16018736, 532.44771312,\n",
       "         532.73801745, 533.03117645, 533.3272693 , 533.62637848,\n",
       "         533.92858993, 534.23399326, 534.54268197, 534.85475367,\n",
       "         535.17031035, 535.48945862, 535.81231003, 536.13898137,\n",
       "         536.469595  , 536.80427924, 537.14316874, 537.48640494,\n",
       "         537.83413651, 538.18651989, 538.54371983, 538.90591001,\n",
       "         539.27327369, 539.64600445, 540.024307  , 540.40839804,\n",
       "         540.79850724, 541.19487833, 541.59777025, 542.00745848,\n",
       "         542.4242365 , 542.84841741, 543.28033575, 543.72034952,\n",
       "         544.16884245, 544.62622658, 545.09294513, 545.56947578,\n",
       "         546.05633439, 546.55407919, 547.06331567, 547.58470212,\n",
       "         548.11895597, 548.66686128, 549.22927728, 549.80714846,\n",
       "         550.40151635, 551.01353345, 551.6444798 , 552.29578272,\n",
       "         552.96904058, 553.66605164, 554.3888492 , 555.13974497,\n",
       "         555.92138291, 556.73680693, 557.58954684, 558.48372886,\n",
       "         559.42421968, 560.41681721, 561.46850732, 562.58781651,\n",
       "         563.7853068 , 565.0742885 , 566.4718777 , 568.00062101,\n",
       "         569.6910998 , 571.58632494, 573.74964871, 576.28025333,\n",
       "         579.34711248, 583.27672236, 588.8483932 , 598.84337406]),\n",
       "  array([1.11616642e+08, 1.12669642e+08, 1.12685107e+08, 1.12794854e+08,\n",
       "         1.12871336e+08, 1.12937853e+08, 1.12973501e+08, 1.13058951e+08,\n",
       "         1.13195479e+08, 1.13286085e+08, 1.13324345e+08, 1.13396432e+08,\n",
       "         1.13602452e+08, 1.13630752e+08, 1.13665047e+08, 1.13677422e+08,\n",
       "         1.13692822e+08, 1.13716350e+08, 1.13830876e+08, 1.13850036e+08,\n",
       "         1.13854373e+08, 1.13910959e+08, 1.13975918e+08, 1.13997545e+08,\n",
       "         1.14056926e+08, 1.14080696e+08, 1.14087753e+08, 1.14098514e+08,\n",
       "         1.14100614e+08, 1.14179838e+08, 1.14214620e+08, 1.14251407e+08,\n",
       "         1.14295014e+08, 1.14305360e+08, 1.14311378e+08, 1.14321585e+08,\n",
       "         1.14388123e+08, 1.14410125e+08, 1.14444552e+08, 1.14532965e+08,\n",
       "         1.14535138e+08, 1.14558246e+08, 1.14605950e+08, 1.14639372e+08,\n",
       "         1.14656602e+08, 1.14660000e+08, 1.14665930e+08, 1.14689945e+08,\n",
       "         1.14698805e+08, 1.14720852e+08, 1.14747824e+08, 1.14771364e+08,\n",
       "         1.14784996e+08, 1.14831374e+08, 1.14865779e+08, 1.14876471e+08,\n",
       "         1.14922435e+08, 1.14934719e+08, 1.14967520e+08, 1.14972970e+08,\n",
       "         1.15014745e+08, 1.15017157e+08, 1.15075817e+08, 1.15089844e+08,\n",
       "         1.15111657e+08, 1.15113368e+08, 1.15140199e+08, 1.15143704e+08,\n",
       "         1.15181290e+08, 1.15189300e+08, 1.15212150e+08, 1.15221422e+08,\n",
       "         1.15256418e+08, 1.15273319e+08, 1.15273355e+08, 1.15274086e+08,\n",
       "         1.15283073e+08, 1.15287308e+08, 1.15304377e+08, 1.15308446e+08,\n",
       "         1.15314317e+08, 1.15320929e+08, 1.15323418e+08, 1.15355052e+08,\n",
       "         1.15355185e+08, 1.15368342e+08, 1.15368569e+08, 1.15368617e+08,\n",
       "         1.15374880e+08, 1.15398220e+08, 1.15410940e+08, 1.15457727e+08,\n",
       "         1.15470627e+08, 1.15479658e+08, 1.15483336e+08, 1.15491650e+08,\n",
       "         1.15494263e+08, 1.15538920e+08, 1.15561185e+08, 1.15561580e+08,\n",
       "         1.15566129e+08, 1.15574359e+08, 1.15595883e+08, 1.15608357e+08,\n",
       "         1.15613117e+08, 1.15647766e+08, 1.15650604e+08, 1.15670696e+08,\n",
       "         1.15690153e+08, 1.15691738e+08, 1.15705051e+08, 1.15726872e+08,\n",
       "         1.15739210e+08, 1.15740875e+08, 1.15747704e+08, 1.15795711e+08,\n",
       "         1.15812589e+08, 1.15825914e+08, 1.15827551e+08, 1.15849903e+08,\n",
       "         1.15849969e+08, 1.15853195e+08, 1.15869709e+08, 1.15877998e+08,\n",
       "         1.15882468e+08, 1.15883537e+08, 1.15910954e+08, 1.15911622e+08,\n",
       "         1.15914404e+08, 1.15919634e+08, 1.15929000e+08, 1.15967127e+08,\n",
       "         1.15972658e+08, 1.15982642e+08, 1.15986434e+08, 1.15988758e+08,\n",
       "         1.15990010e+08, 1.15994444e+08, 1.15997224e+08, 1.16004898e+08,\n",
       "         1.16047428e+08, 1.16055904e+08, 1.16059053e+08, 1.16067666e+08,\n",
       "         1.16080726e+08, 1.16086025e+08, 1.16093140e+08, 1.16098612e+08,\n",
       "         1.16112945e+08, 1.16113615e+08, 1.16122592e+08, 1.16128306e+08,\n",
       "         1.16129543e+08, 1.16150089e+08, 1.16155268e+08, 1.16157028e+08,\n",
       "         1.16157713e+08, 1.16159741e+08, 1.16174599e+08, 1.16213446e+08,\n",
       "         1.16214031e+08, 1.16216041e+08, 1.16249346e+08, 1.16257737e+08,\n",
       "         1.16261902e+08, 1.16273342e+08, 1.16277099e+08, 1.16303049e+08,\n",
       "         1.16304527e+08, 1.16306304e+08, 1.16306345e+08, 1.16317255e+08,\n",
       "         1.16318847e+08, 1.16369702e+08, 1.16378757e+08, 1.16381548e+08,\n",
       "         1.16394107e+08, 1.16396013e+08, 1.16402157e+08, 1.16418123e+08,\n",
       "         1.16418254e+08, 1.16429341e+08, 1.16429417e+08, 1.16429439e+08,\n",
       "         1.16429784e+08, 1.16448041e+08, 1.16451808e+08, 1.16477014e+08,\n",
       "         1.16485708e+08, 1.16490023e+08, 1.16509536e+08, 1.16517854e+08,\n",
       "         1.16526817e+08, 1.16563843e+08, 1.16593997e+08, 1.16607527e+08,\n",
       "         1.16614376e+08, 1.16614529e+08, 1.16618733e+08, 1.16624434e+08,\n",
       "         1.16641540e+08, 1.16678755e+08, 1.16683451e+08, 1.16685062e+08,\n",
       "         1.16689327e+08, 1.16709178e+08, 1.16715260e+08, 1.16723400e+08,\n",
       "         1.16726682e+08, 1.16729643e+08, 1.16730109e+08, 1.16731009e+08,\n",
       "         1.16734596e+08, 1.16737034e+08, 1.16742660e+08, 1.16756855e+08,\n",
       "         1.16762620e+08, 1.16762886e+08, 1.16788741e+08, 1.16791750e+08,\n",
       "         1.16795600e+08, 1.16797250e+08, 1.16831804e+08, 1.16854321e+08,\n",
       "         1.16867661e+08, 1.16905787e+08, 1.16910796e+08, 1.16914906e+08,\n",
       "         1.16917989e+08, 1.16925135e+08, 1.16934843e+08, 1.16939878e+08,\n",
       "         1.16940705e+08, 1.16945215e+08, 1.16957351e+08, 1.16959641e+08,\n",
       "         1.16989851e+08, 1.17003837e+08, 1.17006815e+08, 1.17038437e+08,\n",
       "         1.17040259e+08, 1.17045480e+08, 1.17047834e+08, 1.17048371e+08,\n",
       "         1.17080231e+08, 1.17091466e+08, 1.17094317e+08, 1.17108090e+08,\n",
       "         1.17122271e+08, 1.17130772e+08, 1.17137677e+08, 1.17143609e+08,\n",
       "         1.17166055e+08, 1.17189618e+08, 1.17192539e+08, 1.17217029e+08,\n",
       "         1.17217353e+08, 1.17220624e+08, 1.17242400e+08, 1.17243153e+08,\n",
       "         1.17244219e+08, 1.17266668e+08, 1.17277509e+08, 1.17281316e+08,\n",
       "         1.17287645e+08, 1.17291352e+08, 1.17296595e+08, 1.17306872e+08,\n",
       "         1.17328199e+08, 1.17330192e+08, 1.17358422e+08, 1.17360517e+08,\n",
       "         1.17361099e+08, 1.17380520e+08, 1.17386365e+08, 1.17399341e+08,\n",
       "         1.17404501e+08, 1.17425949e+08, 1.17441359e+08, 1.17451526e+08,\n",
       "         1.17456321e+08, 1.17457472e+08, 1.17460324e+08, 1.17462829e+08,\n",
       "         1.17471643e+08, 1.17480413e+08, 1.17483037e+08, 1.17491624e+08,\n",
       "         1.17494556e+08, 1.17514824e+08, 1.17515214e+08, 1.17522320e+08,\n",
       "         1.17531336e+08, 1.17533105e+08, 1.17535069e+08, 1.17543414e+08,\n",
       "         1.17559591e+08, 1.17564842e+08, 1.17587377e+08, 1.17595990e+08,\n",
       "         1.17608865e+08, 1.17613486e+08, 1.17615833e+08, 1.17632919e+08,\n",
       "         1.17637299e+08, 1.17643517e+08, 1.17655736e+08, 1.17656447e+08,\n",
       "         1.17662967e+08, 1.17683292e+08, 1.17704845e+08, 1.17707781e+08,\n",
       "         1.17707901e+08, 1.17726717e+08, 1.17726767e+08, 1.17741787e+08,\n",
       "         1.17750300e+08, 1.17751259e+08, 1.17765904e+08, 1.17785500e+08,\n",
       "         1.17794162e+08, 1.17795245e+08, 1.17798133e+08, 1.17804681e+08,\n",
       "         1.17826355e+08, 1.17833098e+08, 1.17833633e+08, 1.17834501e+08,\n",
       "         1.17835376e+08, 1.17864291e+08, 1.17868603e+08, 1.17884865e+08,\n",
       "         1.17901443e+08, 1.17904690e+08, 1.17907460e+08, 1.17910977e+08,\n",
       "         1.17920021e+08, 1.17923229e+08, 1.17923374e+08, 1.17929911e+08,\n",
       "         1.17932698e+08, 1.17987162e+08, 1.17990496e+08, 1.17997923e+08,\n",
       "         1.18003453e+08, 1.18003916e+08, 1.18005693e+08, 1.18040683e+08,\n",
       "         1.18046405e+08, 1.18055759e+08, 1.18062625e+08, 1.18077308e+08,\n",
       "         1.18083044e+08, 1.18088491e+08, 1.18102280e+08, 1.18128843e+08,\n",
       "         1.18140988e+08, 1.18181503e+08, 1.18189175e+08, 1.18205193e+08,\n",
       "         1.18223881e+08, 1.18230839e+08, 1.18232002e+08, 1.18232596e+08,\n",
       "         1.18245191e+08, 1.18258954e+08, 1.18265968e+08, 1.18279148e+08,\n",
       "         1.18288281e+08, 1.18290956e+08, 1.18302104e+08, 1.18312813e+08,\n",
       "         1.18324881e+08, 1.18339609e+08, 1.18352456e+08, 1.18383184e+08,\n",
       "         1.18388319e+08, 1.18393129e+08, 1.18415221e+08, 1.18417243e+08,\n",
       "         1.18429001e+08, 1.18446290e+08, 1.18447768e+08, 1.18452374e+08,\n",
       "         1.18461437e+08, 1.18464025e+08, 1.18474556e+08, 1.18478337e+08,\n",
       "         1.18488155e+08, 1.18490738e+08, 1.18522462e+08, 1.18524622e+08,\n",
       "         1.18527619e+08, 1.18547914e+08, 1.18549273e+08, 1.18556176e+08,\n",
       "         1.18560806e+08, 1.18561549e+08, 1.18566191e+08, 1.18581520e+08,\n",
       "         1.18582831e+08, 1.18586690e+08, 1.18598767e+08, 1.18616744e+08,\n",
       "         1.18625163e+08, 1.18653825e+08, 1.18659963e+08, 1.18660176e+08,\n",
       "         1.18679317e+08, 1.18681119e+08, 1.18732813e+08, 1.18740575e+08,\n",
       "         1.18782308e+08, 1.18785815e+08, 1.18799354e+08, 1.18828629e+08,\n",
       "         1.18843875e+08, 1.18852255e+08, 1.18870716e+08, 1.18888693e+08,\n",
       "         1.18923724e+08, 1.18923904e+08, 1.18931581e+08, 1.18949350e+08,\n",
       "         1.18955273e+08, 1.18956291e+08, 1.18993397e+08, 1.18993768e+08,\n",
       "         1.19008963e+08, 1.19032050e+08, 1.19056586e+08, 1.19058176e+08,\n",
       "         1.19100058e+08, 1.19116987e+08, 1.19120587e+08, 1.19172930e+08,\n",
       "         1.19222460e+08, 1.19249246e+08, 1.19256551e+08, 1.19263094e+08,\n",
       "         1.19307976e+08, 1.19326602e+08, 1.19346749e+08, 1.19363526e+08,\n",
       "         1.19395341e+08, 1.19401828e+08, 1.19411988e+08, 1.19423489e+08,\n",
       "         1.19443197e+08, 1.19447289e+08, 1.19474073e+08, 1.19478364e+08,\n",
       "         1.19497900e+08, 1.19529261e+08, 1.19560567e+08, 1.19562158e+08,\n",
       "         1.19574996e+08, 1.19625845e+08, 1.19655560e+08, 1.19658472e+08,\n",
       "         1.19697369e+08, 1.19710737e+08, 1.19716910e+08, 1.19719701e+08,\n",
       "         1.19759543e+08, 1.19814685e+08, 1.19819246e+08, 1.19847052e+08,\n",
       "         1.19851922e+08, 1.19860191e+08, 1.19890056e+08, 1.19903029e+08,\n",
       "         1.20052063e+08, 1.20079439e+08, 1.20089798e+08, 1.20112094e+08,\n",
       "         1.20166026e+08, 1.20197053e+08, 1.20198543e+08, 1.20266352e+08,\n",
       "         1.20408275e+08, 1.20444849e+08, 1.20472103e+08, 1.20596459e+08,\n",
       "         1.20680407e+08, 1.20769560e+08, 1.20818349e+08, 1.21030914e+08,\n",
       "         1.21054748e+08, 1.21097756e+08, 1.21231291e+08, 1.21250001e+08,\n",
       "         1.21321234e+08, 1.21334153e+08, 1.21383200e+08, 1.21541282e+08,\n",
       "         1.21659060e+08, 1.22782015e+08, 1.23617793e+08, 1.24045088e+08])),\n",
       " (59014.24926730297, 87673367.30972207, 0.9985157563192829))"
      ]
     },
     "execution_count": 56,
     "metadata": {},
     "output_type": "execute_result"
    },
    {
     "data": {
      "image/png": "[encoded data removed]",
      "text/plain": [
       "<Figure size 432x288 with 1 Axes>"
      ]
     },
     "metadata": {
      "needs_background": "light"
     },
     "output_type": "display_data"
    }
   ],
   "source": [
    "np.random.seed(0)\n",
    "n = len(control_boot_chi_squared)\n",
    "from scipy.stats import probplot\n",
    "probplot(control_boot_chi_squared, dist=\"chi2\", \n",
    "                     sparams=(n-1), plot=plt)"
   ]
  },
  {
   "cell_type": "code",
   "execution_count": 57,
   "metadata": {},
   "outputs": [
    {
     "data": {
      "text/plain": [
       "((array([496.00790142, 496.28984073, 496.44837459, 496.56078615,\n",
       "         496.64886689, 496.72177909, 496.78427733, 496.83915848,\n",
       "         496.88821233, 496.93265597, 496.97335597, 497.01095206,\n",
       "         497.04593046, 497.07866967, 497.10947035, 497.13857541,\n",
       "         497.16618407, 497.1924618 , 497.2175476 , 497.24155939,\n",
       "         497.26459814, 497.28675096, 497.30809357, 497.3286922 ,\n",
       "         497.34860517, 497.36788405, 497.38657472, 497.40471817,\n",
       "         497.42235117, 497.43950686, 497.45621519, 497.47250333,\n",
       "         497.48839601, 497.50391582, 497.51908341, 497.53391776,\n",
       "         497.54843633, 497.56265521, 497.57658929, 497.59025236,\n",
       "         497.60365721, 497.61681574, 497.62973905, 497.64243747,\n",
       "         497.65492068, 497.66719774, 497.67927713, 497.69116683,\n",
       "         497.70287433, 497.71440669, 497.72577056, 497.73697222,\n",
       "         497.74801761, 497.75891232, 497.76966169, 497.78027074,\n",
       "         497.79074426, 497.80108678, 497.81130262, 497.82139589,\n",
       "         497.8313705 , 497.84123017, 497.85097846, 497.86061877,\n",
       "         497.87015434, 497.87958827, 497.88892352, 497.89816293,\n",
       "         497.90730923, 497.91636502, 497.92533281, 497.93421499,\n",
       "         497.94301388, 497.95173169, 497.96037054, 497.9689325 ,\n",
       "         497.97741954, 497.98583355, 497.99417636, 498.00244975,\n",
       "         498.01065542, 498.018795  , 498.0268701 , 498.03488223,\n",
       "         498.04283288, 498.05072347, 498.05855541, 498.06633002,\n",
       "         498.0740486 , 498.0817124 , 498.08932265, 498.09688051,\n",
       "         498.10438714, 498.11184363, 498.11925107, 498.1266105 ,\n",
       "         498.13392292, 498.14118932, 498.14841066, 498.15558786,\n",
       "         498.16272182, 498.16981342, 498.17686352, 498.18387294,\n",
       "         498.19084249, 498.19777295, 498.20466509, 498.21151966,\n",
       "         498.21833739, 498.22511897, 498.2318651 , 498.23857645,\n",
       "         498.24525368, 498.25189743, 498.25850831, 498.26508696,\n",
       "         498.27163394, 498.27814986, 498.28463527, 498.29109073,\n",
       "         498.29751678, 498.30391396, 498.31028277, 498.31662373,\n",
       "         498.32293733, 498.32922406, 498.33548438, 498.34171877,\n",
       "         498.34792768, 498.35411155, 498.36027083, 498.36640592,\n",
       "         498.37251726, 498.37860526, 498.38467031, 498.39071281,\n",
       "         498.39673314, 498.40273169, 498.40870883, 498.41466491,\n",
       "         498.4206003 , 498.42651535, 498.4324104 , 498.43828579,\n",
       "         498.44414186, 498.44997892, 498.45579731, 498.46159733,\n",
       "         498.46737929, 498.4731435 , 498.47889026, 498.48461986,\n",
       "         498.4903326 , 498.49602874, 498.50170858, 498.50737239,\n",
       "         498.51302045, 498.51865301, 498.52427034, 498.5298727 ,\n",
       "         498.53546034, 498.54103351, 498.54659247, 498.55213745,\n",
       "         498.55766869, 498.56318643, 498.56869091, 498.57418235,\n",
       "         498.57966098, 498.58512702, 498.59058069, 498.59602221,\n",
       "         498.6014518 , 498.60686966, 498.61227601, 498.61767105,\n",
       "         498.62305498, 498.62842801, 498.63379033, 498.63914214,\n",
       "         498.64448364, 498.64981501, 498.65513645, 498.66044814,\n",
       "         498.66575027, 498.67104302, 498.67632656, 498.68160109,\n",
       "         498.68686678, 498.69212379, 498.69737231, 498.70261251,\n",
       "         498.70784456, 498.71306862, 498.71828486, 498.72349344,\n",
       "         498.72869454, 498.7338883 , 498.7390749 , 498.74425449,\n",
       "         498.74942723, 498.75459327, 498.75975277, 498.76490588,\n",
       "         498.77005275, 498.77519355, 498.7803284 , 498.78545748,\n",
       "         498.79058091, 498.79569885, 498.80081145, 498.80591885,\n",
       "         498.81102118, 498.81611861, 498.82121126, 498.82629927,\n",
       "         498.8313828 , 498.83646197, 498.84153692, 498.8466078 ,\n",
       "         498.85167473, 498.85673787, 498.86179733, 498.86685325,\n",
       "         498.87190577, 498.87695503, 498.88200115, 498.88704427,\n",
       "         498.89208452, 498.89712202, 498.90215692, 498.90718934,\n",
       "         498.91221941, 498.91724726, 498.92227301, 498.92729681,\n",
       "         498.93231877, 498.93733902, 498.9423577 , 498.94737492,\n",
       "         498.95239083, 498.95740553, 498.96241916, 498.96743185,\n",
       "         498.97244372, 498.97745489, 498.9824655 , 498.98747567,\n",
       "         498.99248553, 498.9974952 , 499.0025048 , 499.00751447,\n",
       "         499.01252433, 499.0175345 , 499.02254511, 499.02755628,\n",
       "         499.03256815, 499.03758084, 499.04259447, 499.04760917,\n",
       "         499.05262508, 499.0576423 , 499.06266098, 499.06768123,\n",
       "         499.07270319, 499.07772699, 499.08275274, 499.08778059,\n",
       "         499.09281066, 499.09784308, 499.10287798, 499.10791548,\n",
       "         499.11295573, 499.11799885, 499.12304497, 499.12809423,\n",
       "         499.13314675, 499.13820267, 499.14326213, 499.14832527,\n",
       "         499.1533922 , 499.15846308, 499.16353803, 499.1686172 ,\n",
       "         499.17370073, 499.17878874, 499.18388139, 499.18897882,\n",
       "         499.19408115, 499.19918855, 499.20430115, 499.20941909,\n",
       "         499.21454252, 499.2196716 , 499.22480645, 499.22994725,\n",
       "         499.23509412, 499.24024723, 499.24540673, 499.25057277,\n",
       "         499.25574551, 499.2609251 , 499.2661117 , 499.27130546,\n",
       "         499.27650656, 499.28171514, 499.28693138, 499.29215544,\n",
       "         499.29738749, 499.30262769, 499.30787621, 499.31313322,\n",
       "         499.31839891, 499.32367344, 499.32895698, 499.33424973,\n",
       "         499.33955186, 499.34486355, 499.35018499, 499.35551636,\n",
       "         499.36085786, 499.36620967, 499.37157199, 499.37694502,\n",
       "         499.38232895, 499.38772399, 499.39313034, 499.3985482 ,\n",
       "         499.40397779, 499.40941931, 499.41487298, 499.42033902,\n",
       "         499.42581765, 499.43130909, 499.43681357, 499.44233131,\n",
       "         499.44786255, 499.45340753, 499.45896649, 499.46453966,\n",
       "         499.4701273 , 499.47572966, 499.48134699, 499.48697955,\n",
       "         499.49262761, 499.49829142, 499.50397126, 499.5096674 ,\n",
       "         499.51538014, 499.52110974, 499.5268565 , 499.53262071,\n",
       "         499.53840267, 499.54420269, 499.55002108, 499.55585814,\n",
       "         499.56171421, 499.5675896 , 499.57348465, 499.5793997 ,\n",
       "         499.58533509, 499.59129117, 499.59726831, 499.60326686,\n",
       "         499.60928719, 499.61532969, 499.62139474, 499.62748274,\n",
       "         499.63359408, 499.63972917, 499.64588845, 499.65207232,\n",
       "         499.65828123, 499.66451562, 499.67077594, 499.67706267,\n",
       "         499.68337627, 499.68971723, 499.69608604, 499.70248322,\n",
       "         499.70890927, 499.71536473, 499.72185014, 499.72836606,\n",
       "         499.73491304, 499.74149169, 499.74810257, 499.75474632,\n",
       "         499.76142355, 499.7681349 , 499.77488103, 499.78166261,\n",
       "         499.78848034, 499.79533491, 499.80222705, 499.80915751,\n",
       "         499.81612706, 499.82313648, 499.83018658, 499.83727818,\n",
       "         499.84441214, 499.85158934, 499.85881068, 499.86607708,\n",
       "         499.8733895 , 499.88074893, 499.88815637, 499.89561286,\n",
       "         499.90311949, 499.91067735, 499.9182876 , 499.9259514 ,\n",
       "         499.93366998, 499.94144459, 499.94927653, 499.95716712,\n",
       "         499.96511777, 499.9731299 , 499.981205  , 499.98934458,\n",
       "         499.99755025, 500.00582364, 500.01416645, 500.02258046,\n",
       "         500.0310675 , 500.03962946, 500.04826831, 500.05698612,\n",
       "         500.06578501, 500.07466719, 500.08363498, 500.09269077,\n",
       "         500.10183707, 500.11107648, 500.12041173, 500.12984566,\n",
       "         500.13938123, 500.14902154, 500.15876983, 500.1686295 ,\n",
       "         500.17860411, 500.18869738, 500.19891322, 500.20925574,\n",
       "         500.21972926, 500.23033831, 500.24108768, 500.25198239,\n",
       "         500.26302778, 500.27422944, 500.28559331, 500.29712567,\n",
       "         500.30883317, 500.32072287, 500.33280226, 500.34507932,\n",
       "         500.35756253, 500.37026095, 500.38318426, 500.39634279,\n",
       "         500.40974764, 500.42341071, 500.43734479, 500.45156367,\n",
       "         500.46608224, 500.48091659, 500.49608418, 500.51160399,\n",
       "         500.52749667, 500.54378481, 500.56049314, 500.57764883,\n",
       "         500.59528183, 500.61342528, 500.63211595, 500.65139483,\n",
       "         500.6713078 , 500.69190643, 500.71324904, 500.73540186,\n",
       "         500.75844061, 500.7824524 , 500.8075382 , 500.83381593,\n",
       "         500.86142459, 500.89052965, 500.92133033, 500.95406954,\n",
       "         500.98904794, 501.02664403, 501.06734403, 501.11178767,\n",
       "         501.16084152, 501.21572267, 501.27822091, 501.35113311,\n",
       "         501.43921385, 501.55162541, 501.71015927, 501.99209858]),\n",
       "  array([11.17120125, 11.18500882, 11.18748638, 11.18912403, 11.1907898 ,\n",
       "         11.19600849, 11.20214089, 11.20214792, 11.2030054 , 11.20511045,\n",
       "         11.20569382, 11.20576059, 11.20579222, 11.20767587, 11.20978092,\n",
       "         11.21077897, 11.21103903, 11.21279265, 11.21284537, 11.21313354,\n",
       "         11.21453222, 11.2158571 , 11.21620501, 11.21633504, 11.21636667,\n",
       "         11.21772669, 11.21811326, 11.21924837, 11.21988797, 11.22030616,\n",
       "         11.22152913, 11.22187353, 11.22320192, 11.22375015, 11.22513126,\n",
       "         11.2254124 , 11.22545457, 11.22676188, 11.22677242, 11.22685325,\n",
       "         11.22729956, 11.22747879, 11.22752799, 11.22755259, 11.22939407,\n",
       "         11.22980875, 11.22989661, 11.23031129, 11.23090169, 11.23143586,\n",
       "         11.23200869, 11.23223009, 11.2329224 , 11.2331684 , 11.23324923,\n",
       "         11.23348117, 11.23444759, 11.23479902, 11.2354351 , 11.23545267,\n",
       "         11.23559676, 11.23609578, 11.2369111 , 11.23738552, 11.23756826,\n",
       "         11.23758584, 11.23768424, 11.23769478, 11.23797943, 11.23808486,\n",
       "         11.23816921, 11.23818678, 11.23867175, 11.24015125, 11.24045348,\n",
       "         11.24156048, 11.24158156, 11.24174673, 11.2421579 , 11.24265693,\n",
       "         11.24365498, 11.24374284, 11.24398884, 11.24418915, 11.24457572,\n",
       "         11.24475495, 11.24518369, 11.24547186, 11.24616417, 11.24619932,\n",
       "         11.2464664 , 11.24656129, 11.24704977, 11.24709194, 11.24715168,\n",
       "         11.24715168, 11.24741525, 11.24825868, 11.24838871, 11.24839925,\n",
       "         11.24844493, 11.24856793, 11.24862416, 11.2496187 , 11.24976279,\n",
       "         11.25039184, 11.2505043 , 11.25053241, 11.25114741, 11.25128798,\n",
       "         11.25129852, 11.25141098, 11.25164995, 11.25188189, 11.25189595,\n",
       "         11.25211383, 11.25213492, 11.2523036 , 11.25249338, 11.25253906,\n",
       "         11.25306972, 11.25316812, 11.25338951, 11.25342114, 11.25371283,\n",
       "         11.25375851, 11.2538288 , 11.25397991, 11.25403263, 11.25448597,\n",
       "         11.25458085, 11.25460194, 11.25499202, 11.25509745, 11.25516774,\n",
       "         11.25567028, 11.25612713, 11.25616579, 11.25636962, 11.2563907 ,\n",
       "         11.25639773, 11.25642233, 11.25647856, 11.25656993, 11.25686864,\n",
       "         11.25731496, 11.25737821, 11.25761367, 11.25816892, 11.2582357 ,\n",
       "         11.25843601, 11.25859415, 11.25871715, 11.25872418, 11.25882961,\n",
       "         11.25888232, 11.25897721, 11.25914589, 11.25942703, 11.25951138,\n",
       "         11.259543  , 11.25973629, 11.25993309, 11.26033723, 11.26038292,\n",
       "         11.26082923, 11.2609944 , 11.26122634, 11.26122634, 11.26124743,\n",
       "         11.26149694, 11.26164454, 11.26206625, 11.26227359, 11.26243174,\n",
       "         11.26253716, 11.26279371, 11.26285696, 11.26289562, 11.26296942,\n",
       "         11.2633841 , 11.2634579 , 11.26427673, 11.26504987, 11.26510258,\n",
       "         11.26515178, 11.26552078, 11.26556998, 11.26581598, 11.26624823,\n",
       "         11.26671915, 11.2668808 , 11.26722872, 11.26741497, 11.26768557,\n",
       "         11.26794563, 11.26805106, 11.26847628, 11.26860982, 11.26866605,\n",
       "         11.26888042, 11.26950948, 11.26969925, 11.26974845, 11.26999093,\n",
       "         11.2701807 , 11.27034236, 11.27077462, 11.27158641, 11.27193433,\n",
       "         11.27213464, 11.27214518, 11.27253175, 11.27259852, 11.27350169,\n",
       "         11.27371255, 11.27404992, 11.27417994, 11.27440837, 11.27448217,\n",
       "         11.27454543, 11.27467897, 11.27490388, 11.27490388, 11.27499877,\n",
       "         11.27517097, 11.27519205, 11.27526585, 11.27579651, 11.27587031,\n",
       "         11.27594059, 11.27628851, 11.27634825, 11.27666102, 11.27688242,\n",
       "         11.2770265 , 11.2771249 , 11.2771987 , 11.27720925, 11.27730062,\n",
       "         11.27775396, 11.27790156, 11.27856927, 11.2787977 , 11.27895233,\n",
       "         11.27895584, 11.27935998, 11.27963058, 11.28012961, 11.28028775,\n",
       "         11.28037561, 11.28063215, 11.28085355, 11.2808676 , 11.28087112,\n",
       "         11.28099763, 11.28108549, 11.28134203, 11.28269151, 11.28270908,\n",
       "         11.28364388, 11.28382662, 11.28386176, 11.28396719, 11.28400585,\n",
       "         11.28443107, 11.28443107, 11.28463842, 11.28489496, 11.2852499 ,\n",
       "         11.2856927 , 11.2861109 , 11.28641664, 11.28647287, 11.28672589,\n",
       "         11.28707381, 11.28717221, 11.28756229, 11.28761149, 11.28770286,\n",
       "         11.28798049, 11.28801212, 11.28811403, 11.28820892, 11.28833192,\n",
       "         11.28860251, 11.28866226, 11.28885203, 11.2889188 , 11.28905937,\n",
       "         11.28909451, 11.28925968, 11.28984657, 11.28994145, 11.29009959,\n",
       "         11.29022611, 11.29039479, 11.29045454, 11.29045805, 11.29047562,\n",
       "         11.29064079, 11.29064782, 11.29072865, 11.29115388, 11.2917513 ,\n",
       "         11.29207813, 11.29221519, 11.29236981, 11.29251741, 11.2925631 ,\n",
       "         11.29284073, 11.29312538, 11.29329055, 11.29362089, 11.29363847,\n",
       "         11.29375795, 11.29391258, 11.29451001, 11.29468572, 11.29475249,\n",
       "         11.2958384 , 11.29602817, 11.29635148, 11.29635851, 11.29643583,\n",
       "         11.29668885, 11.29699108, 11.29715274, 11.29742334, 11.29774665,\n",
       "         11.2982773 , 11.29853385, 11.29862522, 11.29890987, 11.29897313,\n",
       "         11.2990891 , 11.29932807, 11.29935619, 11.2997779 , 11.29979196,\n",
       "         11.30008364, 11.30021015, 11.30027341, 11.30041047, 11.30082515,\n",
       "         11.30086029, 11.30109575, 11.30182672, 11.30208677, 11.30212192,\n",
       "         11.30229412, 11.30257174, 11.30258932, 11.30265609, 11.30288451,\n",
       "         11.3029302 , 11.30293371, 11.30306726, 11.3030778 , 11.30318674,\n",
       "         11.30328866, 11.30335894, 11.30372794, 11.3040372 , 11.30405477,\n",
       "         11.30413911, 11.30451865, 11.30459948, 11.30461354, 11.30500011,\n",
       "         11.30528828, 11.30528828, 11.30542182, 11.30549562, 11.30578027,\n",
       "         11.30583299, 11.30592084, 11.30615982, 11.30658504, 11.30661316,\n",
       "         11.30694701, 11.3072633 , 11.30732304, 11.3074355 , 11.30754795,\n",
       "         11.30815592, 11.30868658, 11.30876389, 11.3087674 , 11.30887635,\n",
       "         11.30930509, 11.30966354, 11.3097268 , 11.31000091, 11.31000443,\n",
       "         11.31044723, 11.31074242, 11.31093571, 11.31111494, 11.31159288,\n",
       "         11.31182833, 11.31206379, 11.31214111, 11.31232736, 11.31283342,\n",
       "         11.31409855, 11.3142567 , 11.31470652, 11.31472058, 11.31478735,\n",
       "         11.31504038, 11.31533206, 11.31548318, 11.31562375, 11.31604195,\n",
       "         11.31640392, 11.31677994, 11.31717003, 11.31756363, 11.31768663,\n",
       "         11.31809077, 11.31832974, 11.31842462, 11.31862142, 11.31912396,\n",
       "         11.31929616, 11.31957379, 11.31963002, 11.32044533, 11.32085298,\n",
       "         11.32099707, 11.3215453 , 11.32199864, 11.32235006, 11.32329892,\n",
       "         11.32335866, 11.3233692 , 11.3236644 , 11.32560428, 11.32596976,\n",
       "         11.32604005, 11.32663396, 11.32676047, 11.32682725, 11.3273579 ,\n",
       "         11.32740007, 11.32753361, 11.32762499, 11.32799398, 11.32925561,\n",
       "         11.32933644, 11.33013769, 11.33049614, 11.33096003, 11.33228491,\n",
       "         11.33269608, 11.33281556, 11.33292099, 11.33391905, 11.33401393,\n",
       "         11.33455864, 11.33475193, 11.33488547, 11.33491358, 11.3351385 ,\n",
       "         11.3352861 , 11.33605572, 11.33646689, 11.33987222, 11.34001982,\n",
       "         11.34109519, 11.3413693 , 11.34174181, 11.34278907, 11.343882  ,\n",
       "         11.3441772 , 11.34554074, 11.34730139, 11.34739276, 11.3484857 ,\n",
       "         11.34858761, 11.34905501, 11.34930804, 11.34931858, 11.35042558,\n",
       "         11.35071023, 11.35341974, 11.35352517, 11.35402068, 11.35736626,\n",
       "         11.36004062, 11.36097894, 11.36107031, 11.36720974, 11.36822888,\n",
       "         11.36953619, 11.37101218, 11.37605516, 11.39148281, 11.40458753])),\n",
       " (0.038216113157150434, -7.78952096191434, 0.9991755399263497))"
      ]
     },
     "execution_count": 57,
     "metadata": {},
     "output_type": "execute_result"
    },
    {
     "data": {
      "image/png": "[encoded data removed]",
      "text/plain": [
       "<Figure size 432x288 with 1 Axes>"
      ]
     },
     "metadata": {
      "needs_background": "light"
     },
     "output_type": "display_data"
    }
   ],
   "source": [
    "probplot(bootstrap_means, dist=\"norm\", \n",
    "                     sparams=(n-1), plot=plt)"
   ]
  },
  {
   "cell_type": "markdown",
   "metadata": {},
   "source": [
    "# Разделите выборку на две части, соответствующие control и exp группам. Преобразуйте данные к виду, чтобы каждому пользователю соответствовало суммарное значение его кликов. С помощью критерия Манна-Уитни проверьте гипотезу о равенстве средних. "
   ]
  },
  {
   "cell_type": "code",
   "execution_count": 58,
   "metadata": {},
   "outputs": [],
   "source": [
    "from scipy.stats import mannwhitneyu"
   ]
  },
  {
   "cell_type": "code",
   "execution_count": 59,
   "metadata": {},
   "outputs": [],
   "source": [
    "exp_data = data[data['slot'] == 'exp']\n",
    "control_data = data[data['slot'] == 'control']"
   ]
  },
  {
   "cell_type": "code",
   "execution_count": 77,
   "metadata": {},
   "outputs": [],
   "source": [
    "exp_data_clicks = exp_data.groupby('userID')['n_clicks'].sum()\n",
    "control_data_clicks = control_data.groupby('userID')['n_clicks'].sum()"
   ]
  },
  {
   "cell_type": "code",
   "execution_count": 80,
   "metadata": {},
   "outputs": [
    {
     "data": {
      "text/plain": [
       "(281450, 284392)"
      ]
     },
     "execution_count": 80,
     "metadata": {},
     "output_type": "execute_result"
    }
   ],
   "source": [
    "exp_data['userID'].nunique(), control_data['userID'].nunique()"
   ]
  },
  {
   "cell_type": "code",
   "execution_count": 85,
   "metadata": {},
   "outputs": [
    {
     "data": {
      "text/plain": [
       "MannwhitneyuResult(statistic=38901259929.0, pvalue=4.3471471887604393e-75)"
      ]
     },
     "execution_count": 85,
     "metadata": {},
     "output_type": "execute_result"
    }
   ],
   "source": [
    "mannwhitneyu(exp_data_clicks.values, control_data_clicks.values)"
   ]
  },
  {
   "cell_type": "markdown",
   "metadata": {},
   "source": [
    "# Проверьте, для какого из браузеров наиболее сильно выражено отличие между количеством кликов в контрольной и экспериментальной группах."
   ]
  },
  {
   "cell_type": "code",
   "execution_count": 101,
   "metadata": {},
   "outputs": [
    {
     "data": {
      "text/plain": [
       "[<matplotlib.lines.Line2D at 0x8f1242cb00>]"
      ]
     },
     "execution_count": 101,
     "metadata": {},
     "output_type": "execute_result"
    },
    {
     "data": {
      "image/png": "[encoded data removed]",
      "text/plain": [
       "<Figure size 432x288 with 1 Axes>"
      ]
     },
     "metadata": {
      "needs_background": "light"
     },
     "output_type": "display_data"
    }
   ],
   "source": [
    "plt.plot(exp_data.groupby('browser')['n_clicks'].sum())\n",
    "plt.plot(control_data.groupby('browser')['n_clicks'].sum())"
   ]
  },
  {
   "cell_type": "code",
   "execution_count": 111,
   "metadata": {},
   "outputs": [],
   "source": [
    "list_of_p = []\n",
    "for element in list(exp_data.browser.unique()):\n",
    "    list_of_p.append(mannwhitneyu(exp_data[exp_data['browser'] == element]['n_clicks'].values, \n",
    "                                  control_data[control_data['browser'] == element]['n_clicks'].values).pvalue)"
   ]
  },
  {
   "cell_type": "code",
   "execution_count": 112,
   "metadata": {},
   "outputs": [
    {
     "data": {
      "text/plain": [
       "[0.0272438604197241,\n",
       " 0.40760617658454984,\n",
       " 0.0,\n",
       " 0.03740060143010802,\n",
       " 0.45366656388735377,\n",
       " 0.2574055152210032]"
      ]
     },
     "execution_count": 112,
     "metadata": {},
     "output_type": "execute_result"
    }
   ],
   "source": [
    "list_of_p"
   ]
  },
  {
   "cell_type": "code",
   "execution_count": null,
   "metadata": {},
   "outputs": [],
   "source": [
    "mannwhitneyu(exp_data_clicks.values, control_data_clicks.values)"
   ]
  },
  {
   "cell_type": "code",
   "execution_count": 117,
   "metadata": {},
   "outputs": [
    {
     "data": {
      "text/plain": [
       "5"
      ]
     },
     "execution_count": 117,
     "metadata": {},
     "output_type": "execute_result"
    }
   ],
   "source": [
    "from statsmodels.stats.multitest import multipletests\n",
    "6 - multipletests(list_of_p, method='holm')[0].sum()"
   ]
  },
  {
   "cell_type": "markdown",
   "metadata": {},
   "source": [
    "# Для каждого браузера в каждой из двух групп (control и exp) посчитайте долю запросов, в которых пользователь не кликнул ни разу. Это можно сделать, поделив сумму значений n_nonclk_queries на сумму значений n_queries. Умножив это значение на 100, получим процент некликнутых запросов, который можно легче проинтерпретировать."
   ]
  },
  {
   "cell_type": "code",
   "execution_count": 121,
   "metadata": {},
   "outputs": [],
   "source": [
    "CDQuer = control_data.groupby('browser')[['n_nonclk_queries', 'n_queries']].sum()"
   ]
  },
  {
   "cell_type": "code",
   "execution_count": 122,
   "metadata": {},
   "outputs": [],
   "source": [
    "EDQuer = exp_data.groupby('browser')[['n_nonclk_queries', 'n_queries']].sum()"
   ]
  },
  {
   "cell_type": "code",
   "execution_count": 123,
   "metadata": {},
   "outputs": [],
   "source": [
    "CDQuer['rel'] = CDQuer['n_nonclk_queries'] / CDQuer['n_queries']\n",
    "EDQuer['rel'] = EDQuer['n_nonclk_queries'] / EDQuer['n_queries']"
   ]
  },
  {
   "cell_type": "code",
   "execution_count": 127,
   "metadata": {},
   "outputs": [
    {
     "data": {
      "text/plain": [
       "[<matplotlib.lines.Line2D at 0x8f0fef8208>]"
      ]
     },
     "execution_count": 127,
     "metadata": {},
     "output_type": "execute_result"
    },
    {
     "data": {
      "image/png": "[encoded data removed]",
      "text/plain": [
       "<Figure size 432x288 with 1 Axes>"
      ]
     },
     "metadata": {
      "needs_background": "light"
     },
     "output_type": "display_data"
    }
   ],
   "source": [
    "plt.plot(EDQuer['rel'])\n",
    "plt.plot(CDQuer['rel'])"
   ]
  },
  {
   "cell_type": "code",
   "execution_count": null,
   "metadata": {},
   "outputs": [],
   "source": []
  }
 ],
 "metadata": {
  "kernelspec": {
   "display_name": "Python 3",
   "language": "python",
   "name": "python3"
  },
  "language_info": {
   "codemirror_mode": {
    "name": "ipython",
    "version": 3
   },
   "file_extension": ".py",
   "mimetype": "text/x-python",
   "name": "python",
   "nbconvert_exporter": "python",
   "pygments_lexer": "ipython3",
   "version": "3.7.3"
  }
 },
 "nbformat": 4,
 "nbformat_minor": 2
}
