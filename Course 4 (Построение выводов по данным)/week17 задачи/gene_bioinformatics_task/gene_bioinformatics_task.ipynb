{
 "cells": [
  {
   "cell_type": "code",
   "execution_count": 21,
   "metadata": {},
   "outputs": [],
   "source": [
    "import pandas as pd\n",
    "import numpy as np"
   ]
  },
  {
   "cell_type": "code",
   "execution_count": 8,
   "metadata": {},
   "outputs": [],
   "source": [
    "data = pd.read_csv(r'C:\\Users\\One\\Git\\COURSERA YANDEX\\Course 4\\week 17\\gene_high_throughput_sequencing.csv')"
   ]
  },
  {
   "cell_type": "code",
   "execution_count": 9,
   "metadata": {},
   "outputs": [
    {
     "data": {
      "text/html": [
       "<div>\n",
       "<style scoped>\n",
       "    .dataframe tbody tr th:only-of-type {\n",
       "        vertical-align: middle;\n",
       "    }\n",
       "\n",
       "    .dataframe tbody tr th {\n",
       "        vertical-align: top;\n",
       "    }\n",
       "\n",
       "    .dataframe thead th {\n",
       "        text-align: right;\n",
       "    }\n",
       "</style>\n",
       "<table border=\"1\" class=\"dataframe\">\n",
       "  <thead>\n",
       "    <tr style=\"text-align: right;\">\n",
       "      <th></th>\n",
       "      <th>Patient_id</th>\n",
       "      <th>Diagnosis</th>\n",
       "      <th>LOC643837</th>\n",
       "      <th>LOC100130417</th>\n",
       "      <th>SAMD11</th>\n",
       "      <th>NOC2L</th>\n",
       "      <th>KLHL17</th>\n",
       "      <th>PLEKHN1</th>\n",
       "      <th>C1orf170</th>\n",
       "      <th>HES4</th>\n",
       "      <th>...</th>\n",
       "      <th>CLIC2</th>\n",
       "      <th>RPS4Y1</th>\n",
       "      <th>ZFY</th>\n",
       "      <th>PRKY</th>\n",
       "      <th>USP9Y</th>\n",
       "      <th>DDX3Y</th>\n",
       "      <th>CD24</th>\n",
       "      <th>CYorf15B</th>\n",
       "      <th>KDM5D</th>\n",
       "      <th>EIF1AY</th>\n",
       "    </tr>\n",
       "  </thead>\n",
       "  <tbody>\n",
       "    <tr>\n",
       "      <th>0</th>\n",
       "      <td>STT5425_Breast_001_normal</td>\n",
       "      <td>normal</td>\n",
       "      <td>1.257614</td>\n",
       "      <td>2.408148</td>\n",
       "      <td>13.368622</td>\n",
       "      <td>9.494779</td>\n",
       "      <td>20.880435</td>\n",
       "      <td>12.722017</td>\n",
       "      <td>9.494779</td>\n",
       "      <td>54.349694</td>\n",
       "      <td>...</td>\n",
       "      <td>4.761250</td>\n",
       "      <td>1.257614</td>\n",
       "      <td>1.257614</td>\n",
       "      <td>1.257614</td>\n",
       "      <td>1.257614</td>\n",
       "      <td>1.257614</td>\n",
       "      <td>23.268694</td>\n",
       "      <td>1.257614</td>\n",
       "      <td>1.257614</td>\n",
       "      <td>1.257614</td>\n",
       "    </tr>\n",
       "    <tr>\n",
       "      <th>1</th>\n",
       "      <td>STT5427_Breast_023_normal</td>\n",
       "      <td>normal</td>\n",
       "      <td>4.567931</td>\n",
       "      <td>16.602734</td>\n",
       "      <td>42.477752</td>\n",
       "      <td>25.562376</td>\n",
       "      <td>23.221137</td>\n",
       "      <td>11.622386</td>\n",
       "      <td>14.330573</td>\n",
       "      <td>72.445474</td>\n",
       "      <td>...</td>\n",
       "      <td>6.871902</td>\n",
       "      <td>1.815112</td>\n",
       "      <td>1.815112</td>\n",
       "      <td>1.815112</td>\n",
       "      <td>1.815112</td>\n",
       "      <td>1.815112</td>\n",
       "      <td>10.427023</td>\n",
       "      <td>1.815112</td>\n",
       "      <td>1.815112</td>\n",
       "      <td>1.815112</td>\n",
       "    </tr>\n",
       "    <tr>\n",
       "      <th>2</th>\n",
       "      <td>STT5430_Breast_002_normal</td>\n",
       "      <td>normal</td>\n",
       "      <td>2.077597</td>\n",
       "      <td>3.978294</td>\n",
       "      <td>12.863214</td>\n",
       "      <td>13.728915</td>\n",
       "      <td>14.543176</td>\n",
       "      <td>14.141907</td>\n",
       "      <td>6.232790</td>\n",
       "      <td>57.011005</td>\n",
       "      <td>...</td>\n",
       "      <td>7.096343</td>\n",
       "      <td>2.077597</td>\n",
       "      <td>2.077597</td>\n",
       "      <td>2.077597</td>\n",
       "      <td>2.077597</td>\n",
       "      <td>2.077597</td>\n",
       "      <td>22.344226</td>\n",
       "      <td>2.077597</td>\n",
       "      <td>2.077597</td>\n",
       "      <td>2.077597</td>\n",
       "    </tr>\n",
       "    <tr>\n",
       "      <th>3</th>\n",
       "      <td>STT5439_Breast_003_normal</td>\n",
       "      <td>normal</td>\n",
       "      <td>2.066576</td>\n",
       "      <td>8.520713</td>\n",
       "      <td>14.466035</td>\n",
       "      <td>7.823932</td>\n",
       "      <td>8.520713</td>\n",
       "      <td>2.066576</td>\n",
       "      <td>10.870009</td>\n",
       "      <td>53.292034</td>\n",
       "      <td>...</td>\n",
       "      <td>5.200770</td>\n",
       "      <td>2.066576</td>\n",
       "      <td>2.066576</td>\n",
       "      <td>2.066576</td>\n",
       "      <td>2.066576</td>\n",
       "      <td>2.066576</td>\n",
       "      <td>49.295538</td>\n",
       "      <td>2.066576</td>\n",
       "      <td>2.066576</td>\n",
       "      <td>2.066576</td>\n",
       "    </tr>\n",
       "    <tr>\n",
       "      <th>4</th>\n",
       "      <td>STT5441_Breast_004_normal</td>\n",
       "      <td>normal</td>\n",
       "      <td>2.613616</td>\n",
       "      <td>3.434965</td>\n",
       "      <td>12.682222</td>\n",
       "      <td>10.543189</td>\n",
       "      <td>26.688686</td>\n",
       "      <td>12.484822</td>\n",
       "      <td>1.364917</td>\n",
       "      <td>67.140393</td>\n",
       "      <td>...</td>\n",
       "      <td>11.227770</td>\n",
       "      <td>1.364917</td>\n",
       "      <td>1.364917</td>\n",
       "      <td>1.364917</td>\n",
       "      <td>1.364917</td>\n",
       "      <td>1.364917</td>\n",
       "      <td>23.627911</td>\n",
       "      <td>1.364917</td>\n",
       "      <td>1.364917</td>\n",
       "      <td>1.364917</td>\n",
       "    </tr>\n",
       "  </tbody>\n",
       "</table>\n",
       "<p>5 rows × 15750 columns</p>\n",
       "</div>"
      ],
      "text/plain": [
       "                  Patient_id Diagnosis  LOC643837  LOC100130417     SAMD11  \\\n",
       "0  STT5425_Breast_001_normal    normal   1.257614      2.408148  13.368622   \n",
       "1  STT5427_Breast_023_normal    normal   4.567931     16.602734  42.477752   \n",
       "2  STT5430_Breast_002_normal    normal   2.077597      3.978294  12.863214   \n",
       "3  STT5439_Breast_003_normal    normal   2.066576      8.520713  14.466035   \n",
       "4  STT5441_Breast_004_normal    normal   2.613616      3.434965  12.682222   \n",
       "\n",
       "       NOC2L     KLHL17    PLEKHN1   C1orf170       HES4  ...      CLIC2  \\\n",
       "0   9.494779  20.880435  12.722017   9.494779  54.349694  ...   4.761250   \n",
       "1  25.562376  23.221137  11.622386  14.330573  72.445474  ...   6.871902   \n",
       "2  13.728915  14.543176  14.141907   6.232790  57.011005  ...   7.096343   \n",
       "3   7.823932   8.520713   2.066576  10.870009  53.292034  ...   5.200770   \n",
       "4  10.543189  26.688686  12.484822   1.364917  67.140393  ...  11.227770   \n",
       "\n",
       "     RPS4Y1       ZFY      PRKY     USP9Y     DDX3Y       CD24  CYorf15B  \\\n",
       "0  1.257614  1.257614  1.257614  1.257614  1.257614  23.268694  1.257614   \n",
       "1  1.815112  1.815112  1.815112  1.815112  1.815112  10.427023  1.815112   \n",
       "2  2.077597  2.077597  2.077597  2.077597  2.077597  22.344226  2.077597   \n",
       "3  2.066576  2.066576  2.066576  2.066576  2.066576  49.295538  2.066576   \n",
       "4  1.364917  1.364917  1.364917  1.364917  1.364917  23.627911  1.364917   \n",
       "\n",
       "      KDM5D    EIF1AY  \n",
       "0  1.257614  1.257614  \n",
       "1  1.815112  1.815112  \n",
       "2  2.077597  2.077597  \n",
       "3  2.066576  2.066576  \n",
       "4  1.364917  1.364917  \n",
       "\n",
       "[5 rows x 15750 columns]"
      ]
     },
     "execution_count": 9,
     "metadata": {},
     "output_type": "execute_result"
    }
   ],
   "source": [
    "data.head()"
   ]
  },
  {
   "cell_type": "code",
   "execution_count": 10,
   "metadata": {},
   "outputs": [
    {
     "name": "stdout",
     "output_type": "stream",
     "text": [
      "<class 'pandas.core.frame.DataFrame'>\n",
      "RangeIndex: 72 entries, 0 to 71\n",
      "Columns: 15750 entries, Patient_id to EIF1AY\n",
      "dtypes: float64(15748), object(2)\n",
      "memory usage: 8.7+ MB\n"
     ]
    }
   ],
   "source": [
    "data.info()"
   ]
  },
  {
   "cell_type": "code",
   "execution_count": 11,
   "metadata": {},
   "outputs": [],
   "source": [
    "from scipy import stats"
   ]
  },
  {
   "cell_type": "code",
   "execution_count": 12,
   "metadata": {},
   "outputs": [],
   "source": [
    "from scipy.stats import ttest_ind"
   ]
  },
  {
   "cell_type": "code",
   "execution_count": 13,
   "metadata": {},
   "outputs": [],
   "source": [
    "p_values = pd.DataFrame(index = [0, 1], columns = data.columns[2:])\n",
    "\n",
    "for column in data.columns[2:]:\n",
    "    p_values[column][0] = (stats.ttest_ind(data[data['Diagnosis'] == 'normal'][column], data[data['Diagnosis'] == 'early neoplasia'][column], equal_var=False).pvalue)\n",
    "    p_values[column][1] = (stats.ttest_ind(data[data['Diagnosis'] == 'early neoplasia'][column], data[data['Diagnosis'] == 'cancer'][column], equal_var=False).pvalue)"
   ]
  },
  {
   "cell_type": "code",
   "execution_count": 14,
   "metadata": {},
   "outputs": [
    {
     "data": {
      "text/html": [
       "<div>\n",
       "<style scoped>\n",
       "    .dataframe tbody tr th:only-of-type {\n",
       "        vertical-align: middle;\n",
       "    }\n",
       "\n",
       "    .dataframe tbody tr th {\n",
       "        vertical-align: top;\n",
       "    }\n",
       "\n",
       "    .dataframe thead th {\n",
       "        text-align: right;\n",
       "    }\n",
       "</style>\n",
       "<table border=\"1\" class=\"dataframe\">\n",
       "  <thead>\n",
       "    <tr style=\"text-align: right;\">\n",
       "      <th></th>\n",
       "      <th>LOC643837</th>\n",
       "      <th>LOC100130417</th>\n",
       "      <th>SAMD11</th>\n",
       "      <th>NOC2L</th>\n",
       "      <th>KLHL17</th>\n",
       "      <th>PLEKHN1</th>\n",
       "      <th>C1orf170</th>\n",
       "      <th>HES4</th>\n",
       "      <th>ISG15</th>\n",
       "      <th>AGRN</th>\n",
       "      <th>...</th>\n",
       "      <th>CLIC2</th>\n",
       "      <th>RPS4Y1</th>\n",
       "      <th>ZFY</th>\n",
       "      <th>PRKY</th>\n",
       "      <th>USP9Y</th>\n",
       "      <th>DDX3Y</th>\n",
       "      <th>CD24</th>\n",
       "      <th>CYorf15B</th>\n",
       "      <th>KDM5D</th>\n",
       "      <th>EIF1AY</th>\n",
       "    </tr>\n",
       "  </thead>\n",
       "  <tbody>\n",
       "    <tr>\n",
       "      <th>0</th>\n",
       "      <td>0.690766</td>\n",
       "      <td>3.17853e-05</td>\n",
       "      <td>0.0602727</td>\n",
       "      <td>0.826429</td>\n",
       "      <td>0.0498762</td>\n",
       "      <td>0.144267</td>\n",
       "      <td>0.329108</td>\n",
       "      <td>0.0237124</td>\n",
       "      <td>0.240148</td>\n",
       "      <td>0.0379328</td>\n",
       "      <td>...</td>\n",
       "      <td>0.463274</td>\n",
       "      <td>0.806008</td>\n",
       "      <td>0.424543</td>\n",
       "      <td>0.740591</td>\n",
       "      <td>0.414922</td>\n",
       "      <td>0.640904</td>\n",
       "      <td>0.830134</td>\n",
       "      <td>0.670395</td>\n",
       "      <td>0.793925</td>\n",
       "      <td>0.661031</td>\n",
       "    </tr>\n",
       "    <tr>\n",
       "      <th>1</th>\n",
       "      <td>0.413735</td>\n",
       "      <td>0.653429</td>\n",
       "      <td>0.0795556</td>\n",
       "      <td>0.287581</td>\n",
       "      <td>0.463292</td>\n",
       "      <td>0.00768133</td>\n",
       "      <td>0.481306</td>\n",
       "      <td>0.57883</td>\n",
       "      <td>0.00074024</td>\n",
       "      <td>0.712687</td>\n",
       "      <td>...</td>\n",
       "      <td>0.107366</td>\n",
       "      <td>0.458907</td>\n",
       "      <td>0.893433</td>\n",
       "      <td>0.467608</td>\n",
       "      <td>0.881584</td>\n",
       "      <td>0.659369</td>\n",
       "      <td>0.330617</td>\n",
       "      <td>0.542939</td>\n",
       "      <td>0.565753</td>\n",
       "      <td>0.63901</td>\n",
       "    </tr>\n",
       "  </tbody>\n",
       "</table>\n",
       "<p>2 rows × 15748 columns</p>\n",
       "</div>"
      ],
      "text/plain": [
       "  LOC643837 LOC100130417     SAMD11     NOC2L     KLHL17     PLEKHN1  \\\n",
       "0  0.690766  3.17853e-05  0.0602727  0.826429  0.0498762    0.144267   \n",
       "1  0.413735     0.653429  0.0795556  0.287581   0.463292  0.00768133   \n",
       "\n",
       "   C1orf170       HES4       ISG15       AGRN  ...     CLIC2    RPS4Y1  \\\n",
       "0  0.329108  0.0237124    0.240148  0.0379328  ...  0.463274  0.806008   \n",
       "1  0.481306    0.57883  0.00074024   0.712687  ...  0.107366  0.458907   \n",
       "\n",
       "        ZFY      PRKY     USP9Y     DDX3Y      CD24  CYorf15B     KDM5D  \\\n",
       "0  0.424543  0.740591  0.414922  0.640904  0.830134  0.670395  0.793925   \n",
       "1  0.893433  0.467608  0.881584  0.659369  0.330617  0.542939  0.565753   \n",
       "\n",
       "     EIF1AY  \n",
       "0  0.661031  \n",
       "1   0.63901  \n",
       "\n",
       "[2 rows x 15748 columns]"
      ]
     },
     "execution_count": 14,
     "metadata": {},
     "output_type": "execute_result"
    }
   ],
   "source": [
    "p_values.head()"
   ]
  },
  {
   "cell_type": "code",
   "execution_count": 15,
   "metadata": {},
   "outputs": [
    {
     "name": "stdout",
     "output_type": "stream",
     "text": [
      "1575 answer1_1.txt\n"
     ]
    }
   ],
   "source": [
    "print((p_values.iloc[0] < 0.05).sum(), \"answer1_1.txt\")"
   ]
  },
  {
   "cell_type": "code",
   "execution_count": 16,
   "metadata": {},
   "outputs": [
    {
     "name": "stdout",
     "output_type": "stream",
     "text": [
      "3490 answer1_1.txt\n"
     ]
    }
   ],
   "source": [
    "print((p_values.iloc[1] < 0.05).sum(), \"answer1_1.txt\")"
   ]
  },
  {
   "cell_type": "code",
   "execution_count": null,
   "metadata": {},
   "outputs": [],
   "source": []
  },
  {
   "cell_type": "code",
   "execution_count": 17,
   "metadata": {},
   "outputs": [],
   "source": [
    "import statsmodels.stats.multitest as smm"
   ]
  },
  {
   "cell_type": "code",
   "execution_count": 18,
   "metadata": {},
   "outputs": [],
   "source": [
    "reject_0, p_corrected_0 = smm.multipletests(p_values.iloc[0],alpha=0.025, method = 'h')[:2]\n",
    "reject_1, p_corrected_1 = smm.multipletests(p_values.iloc[1],alpha=0.025, method = 'h')[:2]"
   ]
  },
  {
   "cell_type": "code",
   "execution_count": 19,
   "metadata": {},
   "outputs": [
    {
     "data": {
      "text/plain": [
       "'\"weak_ind_0 = np.where(p_corrected_0 < 0.05)\\nweak_ind_1 = np.where(p_corrected_1 < 0.05)'"
      ]
     },
     "execution_count": 19,
     "metadata": {},
     "output_type": "execute_result"
    }
   ],
   "source": [
    "\"\"\"\"weak_ind_0 = np.where(p_corrected_0 < 0.05)\n",
    "weak_ind_1 = np.where(p_corrected_1 < 0.05)\"\"\""
   ]
  },
  {
   "cell_type": "code",
   "execution_count": 22,
   "metadata": {},
   "outputs": [],
   "source": [
    "p_corr = np.array([p_corrected_0, p_corrected_1])\n",
    "_, p_corr_bonf, _, _ = smm.multipletests(p_corr, is_sorted=True, method='bonferroni')\n",
    "\n",
    "p_corr_bonf_normal_neoplasia = p_corr_bonf[0][np.where(p_corr_bonf[0] < 0.05)].shape[0]\n",
    "p_corr_bonf_neoplasia_cancer = p_corr_bonf[1][np.where(p_corr_bonf[1] < 0.05)].shape[0]"
   ]
  },
  {
   "cell_type": "code",
   "execution_count": 24,
   "metadata": {},
   "outputs": [],
   "source": [
    "c_0 = data[data['Diagnosis'] == 'normal'].iloc[:, 2:].iloc[:, np.where(p_corr_bonf[0] < 0.05)[0]].mean()\n",
    "t_0 = data[data['Diagnosis'] == 'early neoplasia'].iloc[:, 2:].iloc[:, np.where(p_corr_bonf[0] < 0.05)[0]].mean()"
   ]
  },
  {
   "cell_type": "code",
   "execution_count": 25,
   "metadata": {},
   "outputs": [],
   "source": [
    "def fold_change(C, T, limit=1.5):\n",
    "    '''\n",
    "    C - control sample\n",
    "    T - treatment sample\n",
    "    '''\n",
    "    if T >= C:\n",
    "        fc_stat = T / C\n",
    "    else:\n",
    "        fc_stat = -C / T\n",
    "\n",
    "    return (np.abs(fc_stat) > limit), fc_stat"
   ]
  },
  {
   "cell_type": "code",
   "execution_count": 26,
   "metadata": {},
   "outputs": [],
   "source": [
    "accept_0 = 0\n",
    "for C, T in zip(c_0, t_0):\n",
    "    if fold_change(C,T)[0] == True and (abs(fold_change(C,T)[1]) > 1.5):\n",
    "        accept_0 += 1"
   ]
  },
  {
   "cell_type": "code",
   "execution_count": 35,
   "metadata": {},
   "outputs": [],
   "source": [
    "c_1 = data[data['Diagnosis'] == 'early neoplasia'].iloc[:, np.where(p_corr_bonf[0] < 0.05)[0]].mean()\n",
    "t_1 = data[data['Diagnosis'] == 'cancer'].iloc[:, np.where(p_corr_bonf[1] < 0.05)[0]].mean()"
   ]
  },
  {
   "cell_type": "code",
   "execution_count": 36,
   "metadata": {},
   "outputs": [],
   "source": [
    "accept_1 = 0\n",
    "for C, T in zip(c_1, t_1):\n",
    "    if (fold_change(C,T)[0] == True) and (abs(fold_change(C,T)[1]) > 1.5):\n",
    "        accept_1+= 1"
   ]
  },
  {
   "cell_type": "code",
   "execution_count": 43,
   "metadata": {},
   "outputs": [],
   "source": [
    "reject_0, p_corrected_0 = smm.multipletests(p_values.iloc[0],alpha=0.025, method = 'fdr_bh')[:2]\n",
    "reject_1, p_corrected_1 = smm.multipletests(p_values.iloc[1],alpha=0.025, method = 'fdr_bh')[:2]\n",
    "\n",
    "p_corr = np.array([p_corrected_0, p_corrected_1])\n",
    "_, p_corr_bonf, _, _ = smm.multipletests(p_corr, is_sorted=True, method='bonferroni')\n",
    "\n",
    "p_corr_bonf_normal_neoplasia = p_corr_bonf[0][np.where(p_corr_bonf[0] < 0.05)].shape[0]\n",
    "p_corr_bonf_neoplasia_cancer = p_corr_bonf[1][np.where(p_corr_bonf[1] < 0.05)].shape[0]\n",
    "\n",
    "c_0 = data[data['Diagnosis'] == 'normal'].iloc[:, 2:].iloc[:, np.where(p_corr_bonf[0] < 0.05)[0]].mean()\n",
    "t_0 = data[data['Diagnosis'] == 'early neoplasia'].iloc[:, 2:].iloc[:, np.where(p_corr_bonf[0] < 0.05)[0]].mean()\n",
    "\n",
    "accept_3 = 0\n",
    "for C, T in zip(c_0, t_0):\n",
    "    if fold_change(C,T)[0] == True and (abs(fold_change(C,T)[1]) > 1.5):\n",
    "        accept_3 += 1\n",
    "\n",
    "c_1 = data[data['Diagnosis'] == 'early neoplasia'].iloc[:, np.where(p_corr_bonf[1] < 0.05)[0]].mean()\n",
    "t_1 = data[data['Diagnosis'] == 'cancer'].iloc[:, np.where(p_corr_bonf[1] < 0.05)[0]].mean()\n",
    "\n",
    "accept_4 = 0\n",
    "for C, T in zip(c_1, t_1):\n",
    "    if (fold_change(C,T)[0] == True) and (abs(fold_change(C,T)[1]) > 1.5):\n",
    "        accept_4+= 1"
   ]
  },
  {
   "cell_type": "code",
   "execution_count": 49,
   "metadata": {},
   "outputs": [
    {
     "data": {
      "text/plain": [
       "76"
      ]
     },
     "execution_count": 49,
     "metadata": {},
     "output_type": "execute_result"
    }
   ],
   "source": [
    "accept_4\n",
    "\n",
    "\"не стал разбираться почему, но 6й ответ на 1 больше\""
   ]
  },
  {
   "cell_type": "code",
   "execution_count": null,
   "metadata": {},
   "outputs": [],
   "source": []
  }
 ],
 "metadata": {
  "kernelspec": {
   "display_name": "Python 3",
   "language": "python",
   "name": "python3"
  },
  "language_info": {
   "codemirror_mode": {
    "name": "ipython",
    "version": 3
   },
   "file_extension": ".py",
   "mimetype": "text/x-python",
   "name": "python",
   "nbconvert_exporter": "python",
   "pygments_lexer": "ipython3",
   "version": "3.7.3"
  }
 },
 "nbformat": 4,
 "nbformat_minor": 2
}
