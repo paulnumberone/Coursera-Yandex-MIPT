{
 "cells": [
  {
   "cell_type": "code",
   "execution_count": 1,
   "metadata": {},
   "outputs": [],
   "source": [
    "import numpy as np\n",
    "import pandas as pd\n",
    "import seaborn\n",
    "import scipy\n",
    "from statsmodels.stats.weightstats import *\n",
    "from statsmodels.stats.proportion import proportion_confint"
   ]
  },
  {
   "cell_type": "code",
   "execution_count": 2,
   "metadata": {},
   "outputs": [
    {
     "name": "stdout",
     "output_type": "stream",
     "text": [
      "Populating the interactive namespace from numpy and matplotlib\n"
     ]
    }
   ],
   "source": [
    "%pylab inline"
   ]
  },
  {
   "cell_type": "code",
   "execution_count": 3,
   "metadata": {},
   "outputs": [
    {
     "data": {
      "text/html": [
       "<div>\n",
       "<style scoped>\n",
       "    .dataframe tbody tr th:only-of-type {\n",
       "        vertical-align: middle;\n",
       "    }\n",
       "\n",
       "    .dataframe tbody tr th {\n",
       "        vertical-align: top;\n",
       "    }\n",
       "\n",
       "    .dataframe thead th {\n",
       "        text-align: right;\n",
       "    }\n",
       "</style>\n",
       "<table border=\"1\" class=\"dataframe\">\n",
       "  <thead>\n",
       "    <tr style=\"text-align: right;\">\n",
       "      <th></th>\n",
       "      <th>ID</th>\n",
       "      <th>LIMIT_BAL</th>\n",
       "      <th>SEX</th>\n",
       "      <th>EDUCATION</th>\n",
       "      <th>MARRIAGE</th>\n",
       "      <th>AGE</th>\n",
       "      <th>PAY_0</th>\n",
       "      <th>PAY_2</th>\n",
       "      <th>PAY_3</th>\n",
       "      <th>PAY_4</th>\n",
       "      <th>...</th>\n",
       "      <th>BILL_AMT4</th>\n",
       "      <th>BILL_AMT5</th>\n",
       "      <th>BILL_AMT6</th>\n",
       "      <th>PAY_AMT1</th>\n",
       "      <th>PAY_AMT2</th>\n",
       "      <th>PAY_AMT3</th>\n",
       "      <th>PAY_AMT4</th>\n",
       "      <th>PAY_AMT5</th>\n",
       "      <th>PAY_AMT6</th>\n",
       "      <th>default</th>\n",
       "    </tr>\n",
       "  </thead>\n",
       "  <tbody>\n",
       "    <tr>\n",
       "      <th>0</th>\n",
       "      <td>1</td>\n",
       "      <td>20000</td>\n",
       "      <td>2</td>\n",
       "      <td>2</td>\n",
       "      <td>1</td>\n",
       "      <td>24</td>\n",
       "      <td>2</td>\n",
       "      <td>2</td>\n",
       "      <td>0</td>\n",
       "      <td>0</td>\n",
       "      <td>...</td>\n",
       "      <td>0</td>\n",
       "      <td>0</td>\n",
       "      <td>0</td>\n",
       "      <td>0</td>\n",
       "      <td>689</td>\n",
       "      <td>0</td>\n",
       "      <td>0</td>\n",
       "      <td>0</td>\n",
       "      <td>0</td>\n",
       "      <td>1</td>\n",
       "    </tr>\n",
       "    <tr>\n",
       "      <th>1</th>\n",
       "      <td>2</td>\n",
       "      <td>120000</td>\n",
       "      <td>2</td>\n",
       "      <td>2</td>\n",
       "      <td>2</td>\n",
       "      <td>26</td>\n",
       "      <td>0</td>\n",
       "      <td>2</td>\n",
       "      <td>0</td>\n",
       "      <td>0</td>\n",
       "      <td>...</td>\n",
       "      <td>3272</td>\n",
       "      <td>3455</td>\n",
       "      <td>3261</td>\n",
       "      <td>0</td>\n",
       "      <td>1000</td>\n",
       "      <td>1000</td>\n",
       "      <td>1000</td>\n",
       "      <td>0</td>\n",
       "      <td>2000</td>\n",
       "      <td>1</td>\n",
       "    </tr>\n",
       "    <tr>\n",
       "      <th>2</th>\n",
       "      <td>3</td>\n",
       "      <td>90000</td>\n",
       "      <td>2</td>\n",
       "      <td>2</td>\n",
       "      <td>2</td>\n",
       "      <td>34</td>\n",
       "      <td>0</td>\n",
       "      <td>0</td>\n",
       "      <td>0</td>\n",
       "      <td>0</td>\n",
       "      <td>...</td>\n",
       "      <td>14331</td>\n",
       "      <td>14948</td>\n",
       "      <td>15549</td>\n",
       "      <td>1518</td>\n",
       "      <td>1500</td>\n",
       "      <td>1000</td>\n",
       "      <td>1000</td>\n",
       "      <td>1000</td>\n",
       "      <td>5000</td>\n",
       "      <td>0</td>\n",
       "    </tr>\n",
       "    <tr>\n",
       "      <th>3</th>\n",
       "      <td>4</td>\n",
       "      <td>50000</td>\n",
       "      <td>2</td>\n",
       "      <td>2</td>\n",
       "      <td>1</td>\n",
       "      <td>37</td>\n",
       "      <td>0</td>\n",
       "      <td>0</td>\n",
       "      <td>0</td>\n",
       "      <td>0</td>\n",
       "      <td>...</td>\n",
       "      <td>28314</td>\n",
       "      <td>28959</td>\n",
       "      <td>29547</td>\n",
       "      <td>2000</td>\n",
       "      <td>2019</td>\n",
       "      <td>1200</td>\n",
       "      <td>1100</td>\n",
       "      <td>1069</td>\n",
       "      <td>1000</td>\n",
       "      <td>0</td>\n",
       "    </tr>\n",
       "    <tr>\n",
       "      <th>4</th>\n",
       "      <td>5</td>\n",
       "      <td>50000</td>\n",
       "      <td>1</td>\n",
       "      <td>2</td>\n",
       "      <td>1</td>\n",
       "      <td>57</td>\n",
       "      <td>0</td>\n",
       "      <td>0</td>\n",
       "      <td>0</td>\n",
       "      <td>0</td>\n",
       "      <td>...</td>\n",
       "      <td>20940</td>\n",
       "      <td>19146</td>\n",
       "      <td>19131</td>\n",
       "      <td>2000</td>\n",
       "      <td>36681</td>\n",
       "      <td>10000</td>\n",
       "      <td>9000</td>\n",
       "      <td>689</td>\n",
       "      <td>679</td>\n",
       "      <td>0</td>\n",
       "    </tr>\n",
       "  </tbody>\n",
       "</table>\n",
       "<p>5 rows × 25 columns</p>\n",
       "</div>"
      ],
      "text/plain": [
       "   ID  LIMIT_BAL  SEX  EDUCATION  MARRIAGE  AGE  PAY_0  PAY_2  PAY_3  PAY_4  \\\n",
       "0   1      20000    2          2         1   24      2      2      0      0   \n",
       "1   2     120000    2          2         2   26      0      2      0      0   \n",
       "2   3      90000    2          2         2   34      0      0      0      0   \n",
       "3   4      50000    2          2         1   37      0      0      0      0   \n",
       "4   5      50000    1          2         1   57      0      0      0      0   \n",
       "\n",
       "    ...     BILL_AMT4  BILL_AMT5  BILL_AMT6  PAY_AMT1  PAY_AMT2  PAY_AMT3  \\\n",
       "0   ...             0          0          0         0       689         0   \n",
       "1   ...          3272       3455       3261         0      1000      1000   \n",
       "2   ...         14331      14948      15549      1518      1500      1000   \n",
       "3   ...         28314      28959      29547      2000      2019      1200   \n",
       "4   ...         20940      19146      19131      2000     36681     10000   \n",
       "\n",
       "   PAY_AMT4  PAY_AMT5  PAY_AMT6  default  \n",
       "0         0         0         0        1  \n",
       "1      1000         0      2000        1  \n",
       "2      1000      1000      5000        0  \n",
       "3      1100      1069      1000        0  \n",
       "4      9000       689       679        0  \n",
       "\n",
       "[5 rows x 25 columns]"
      ]
     },
     "execution_count": 3,
     "metadata": {},
     "output_type": "execute_result"
    }
   ],
   "source": [
    "data = pd.read_csv('credit_card_default_anal.csv', sep = ',')\n",
    "data.head()"
   ]
  },
  {
   "cell_type": "code",
   "execution_count": 4,
   "metadata": {},
   "outputs": [],
   "source": [
    "data_return = data[data['default'] == 0]\n",
    "data_not_return = data[data['default'] == 1]"
   ]
  },
  {
   "cell_type": "code",
   "execution_count": 5,
   "metadata": {},
   "outputs": [],
   "source": [
    "def draw_graphs(feature):\n",
    "    pylab.figure(figsize=(12,4))\n",
    "\n",
    "    pylab.subplot(1, 2, 1)\n",
    "    pylab.grid()\n",
    "    pylab.hist(data_return[feature], color = 'r')\n",
    "    pylab.xlabel('Return')\n",
    "\n",
    "    pylab.subplot(1, 2, 2)\n",
    "    pylab.grid()\n",
    "    pylab.hist(data_not_return[feature], color = 'b')\n",
    "    pylab.xlabel('Not return')\n",
    "\n",
    "    pylab.show()\n",
    "\n",
    "    seaborn.pairplot(data[[feature, 'default']], hue = 'default', diag_kind = 'kde')\n",
    "    pylab.show()\n",
    "\n",
    "    seaborn.boxplot(x = 'default', y = feature, data = data).set(xlabel = 'default', ylabel = feature)\n",
    "    pylab.show()"
   ]
  },
  {
   "cell_type": "markdown",
   "metadata": {},
   "source": [
    "# 1\n",
    "Размер кредитного лимита (LIMIT_BAL). В двух группах, тех людей, кто вернул кредит (default = 0) и тех, кто его не вернул (default = 1) проверьте гипотезы:\n",
    "\n",
    "- a) о равенстве медианных значений кредитного лимита с помощью подходящей интервальной оценки\n",
    "- b) о равенстве распределений с помощью одного из подходящих непараметрических критериев проверки равенства средних.\n",
    "\n",
    "Значимы ли полученные результаты с практической точки зрения?"
   ]
  },
  {
   "cell_type": "code",
   "execution_count": 6,
   "metadata": {},
   "outputs": [
    {
     "data": {
      "image/png": "[encoded data removed]",
      "text/plain": [
       "<Figure size 864x288 with 2 Axes>"
      ]
     },
     "metadata": {
      "needs_background": "light"
     },
     "output_type": "display_data"
    },
    {
     "name": "stderr",
     "output_type": "stream",
     "text": [
      "C:\\Installed\\Anaconda\\envs\\python_old\\lib\\site-packages\\statsmodels\\nonparametric\\kde.py:487: RuntimeWarning: invalid value encountered in true_divide\n",
      "  binned = fast_linbin(X, a, b, gridsize) / (delta * nobs)\n",
      "C:\\Installed\\Anaconda\\envs\\python_old\\lib\\site-packages\\statsmodels\\nonparametric\\kdetools.py:34: RuntimeWarning: invalid value encountered in double_scalars\n",
      "  FAC1 = 2*(np.pi*bw/RANGE)**2\n",
      "C:\\Installed\\Anaconda\\envs\\python_old\\lib\\site-packages\\numpy\\core\\_methods.py:26: RuntimeWarning: invalid value encountered in reduce\n",
      "  return umr_maximum(a, axis, None, out, keepdims)\n"
     ]
    },
    {
     "data": {
      "image/png": "[encoded data removed]",
      "text/plain": [
       "<Figure size 403.375x360 with 6 Axes>"
      ]
     },
     "metadata": {
      "needs_background": "light"
     },
     "output_type": "display_data"
    },
    {
     "data": {
      "image/png": "[encoded data removed]",
      "text/plain": [
       "<Figure size 432x288 with 1 Axes>"
      ]
     },
     "metadata": {
      "needs_background": "light"
     },
     "output_type": "display_data"
    }
   ],
   "source": [
    "draw_graphs('LIMIT_BAL')"
   ]
  },
  {
   "cell_type": "markdown",
   "metadata": {},
   "source": [
    "Признак LIMIT_BAL - вещественный, поэтому сначала проверим данные на нормальность с помощью QQ-графика и теста Шапиро-Уилка."
   ]
  },
  {
   "cell_type": "code",
   "execution_count": 7,
   "metadata": {},
   "outputs": [
    {
     "data": {
      "image/png": "[encoded data removed]",
      "text/plain": [
       "<Figure size 1008x576 with 2 Axes>"
      ]
     },
     "metadata": {
      "needs_background": "light"
     },
     "output_type": "display_data"
    }
   ],
   "source": [
    "pylab.figure(figsize = (14, 8))\n",
    "pylab.subplot(2, 2, 1)\n",
    "stats.probplot(data_return['LIMIT_BAL'], dist = \"norm\", plot = pylab)\n",
    "pylab.subplot(2, 2, 2)\n",
    "stats.probplot(data_not_return['LIMIT_BAL'], dist = \"norm\", plot = pylab)\n",
    "pylab.show()"
   ]
  },
  {
   "cell_type": "markdown",
   "metadata": {},
   "source": [
    " $H_0\\colon$ размеры кредитного лимита распределены нормально.\n",
    " \n",
    " $H_1\\colon$ $H_0$ неверна."
   ]
  },
  {
   "cell_type": "code",
   "execution_count": 8,
   "metadata": {},
   "outputs": [
    {
     "name": "stdout",
     "output_type": "stream",
     "text": [
      "Shapiro-Wilk normality test, W-statistic: 0.919726, p-value: 0.000000\n",
      "Shapiro-Wilk normality test, W-statistic: 0.854983, p-value: 0.000000\n"
     ]
    },
    {
     "name": "stderr",
     "output_type": "stream",
     "text": [
      "C:\\Installed\\Anaconda\\envs\\python_old\\lib\\site-packages\\scipy\\stats\\morestats.py:1309: UserWarning: p-value may not be accurate for N > 5000.\n",
      "  warnings.warn(\"p-value may not be accurate for N > 5000.\")\n"
     ]
    }
   ],
   "source": [
    "print \"Shapiro-Wilk normality test, W-statistic: %f, p-value: %f\" % stats.shapiro(data_return['LIMIT_BAL'])\n",
    "print \"Shapiro-Wilk normality test, W-statistic: %f, p-value: %f\" % stats.shapiro(data_not_return['LIMIT_BAL'])"
   ]
  },
  {
   "cell_type": "markdown",
   "metadata": {},
   "source": [
    "Из QQ-графика видно, что данные распределены не нормально, то же самое подтвердилось с помощью теста Шапиро-Уилка, где уровень значимости получился < 0.05, из-за чего $H_0$ отвергается и принимается $H_1$ на уровне значимости 0.05. Поэтому для проверки гипотез будут применяться непараметрические критерии."
   ]
  },
  {
   "cell_type": "markdown",
   "metadata": {},
   "source": [
    "$H_0\\colon$ медианные значения кредитного лимита равны у тех людей, кто вернул кредит и тех, кто его не вернул.\n",
    "\n",
    "$H_1\\colon$ $H_0$ неверна.\n",
    "\n",
    "Построим интервальные оценки на основе bootstrap."
   ]
  },
  {
   "cell_type": "code",
   "execution_count": 9,
   "metadata": {},
   "outputs": [
    {
     "name": "stdout",
     "output_type": "stream",
     "text": [
      "95% confidence interval for the return median credit score: [150000. 150000.]\n",
      "95% confidence interval for the not return median credit score: [80000. 90000.]\n",
      "95% confidence interval for the diff median credit score: [60000. 70000.]\n"
     ]
    }
   ],
   "source": [
    "def get_bootstrap_samples(data, n_samples):\n",
    "    indices = np.random.randint(0, len(data), (n_samples, len(data)))\n",
    "    samples = data[indices]\n",
    "    return samples\n",
    "\n",
    "def stat_intervals(stat, alpha):\n",
    "    boundaries = np.percentile(stat, [100 * alpha / 2., 100 * (1 - alpha / 2.)])\n",
    "    return boundaries\n",
    "\n",
    "return_median_scores = np.array(map(np.median, get_bootstrap_samples(data_return['LIMIT_BAL'].values, 10000)))\n",
    "not_return_median_scores = np.array(map(np.median, get_bootstrap_samples(data_not_return['LIMIT_BAL'].values, 10000)))\n",
    "diff_median_scores = return_median_scores - not_return_median_scores\n",
    "print \"95% confidence interval for the return median credit score:\",  stat_intervals(return_median_scores, 0.05)\n",
    "print \"95% confidence interval for the not return median credit score:\",  stat_intervals(not_return_median_scores, 0.05)\n",
    "print \"95% confidence interval for the diff median credit score:\",  stat_intervals(diff_median_scores, 0.05)"
   ]
  },
  {
   "cell_type": "markdown",
   "metadata": {},
   "source": [
    "Поскольку интервалы не пересекаются, то медианные значения кредитного лимита отличаются у тех людей, кто вернул кредит и тех, кто его не вернул, поэтому отвергаем $H_0$ и принимаем $H_1$ на уровне значимости 0.05. Разница между медианами отличается практически в 2 раза, то есть практически в 2 раза отличается сумма, которую может дать банк заемщику, поэтому результат можно расценивать как практически значимый."
   ]
  },
  {
   "cell_type": "markdown",
   "metadata": {},
   "source": [
    "$H_0\\colon$ распределения в выборках кредитного лимита у тех людей, кто вернул кредит и тех, кто его не вернул - равны ($F_{X_1}(x) = F_{X_2}(x)$).\n",
    "\n",
    "$H_1\\colon$ $H_0$ неверна ($F_{X_1}(x) = F_{X_2}(x + \\Delta), \\Delta\\neq 0$).\n",
    "\n",
    "Применим перестановочный критерий для двухсторонней альтернативы для независимых выборок."
   ]
  },
  {
   "cell_type": "code",
   "execution_count": 10,
   "metadata": {},
   "outputs": [
    {
     "data": {
      "text/plain": [
       "0.0001"
      ]
     },
     "execution_count": 10,
     "metadata": {},
     "output_type": "execute_result"
    }
   ],
   "source": [
    "def permutation_t_stat_ind(sample1, sample2):\n",
    "    return np.mean(sample1) - np.mean(sample2)\n",
    "\n",
    "def get_random_combinations(n1, n2, max_combinations):\n",
    "    index = range(n1 + n2)\n",
    "    indices = set([tuple(index)])\n",
    "    for i in range(max_combinations - 1):\n",
    "        np.random.shuffle(index)\n",
    "        indices.add(tuple(index))\n",
    "    return [(index[:n1], index[n1:]) for index in indices]\n",
    "\n",
    "def permutation_zero_dist_ind(sample1, sample2, max_combinations = None):\n",
    "    joined_sample = np.hstack((sample1, sample2))\n",
    "    n1 = len(sample1)\n",
    "    n = len(joined_sample)\n",
    "    \n",
    "    if max_combinations:\n",
    "        indices = get_random_combinations(n1, len(sample2), max_combinations)\n",
    "    else:\n",
    "        indices = [(list(index), filter(lambda i: i not in index, range(n))) \\\n",
    "                    for index in itertools.combinations(range(n), n1)]\n",
    "    \n",
    "    distr = [joined_sample[list(i[0])].mean() - joined_sample[list(i[1])].mean() \\\n",
    "             for i in indices]\n",
    "    return distr\n",
    "\n",
    "def permutation_test_ind(sample, mean, max_permutations = None, alternative = 'two-sided'):\n",
    "    if alternative not in ('two-sided', 'less', 'greater'):\n",
    "        raise ValueError(\"alternative not recognized\\n\"\n",
    "                         \"should be 'two-sided', 'less' or 'greater'\")\n",
    "    \n",
    "    t_stat = permutation_t_stat_ind(sample, mean)\n",
    "    \n",
    "    zero_distr = permutation_zero_dist_ind(sample, mean, max_permutations)\n",
    "    \n",
    "    if alternative == 'two-sided':\n",
    "        return sum([1. if abs(x) >= abs(t_stat) else 0. for x in zero_distr]) / len(zero_distr)\n",
    "    \n",
    "    if alternative == 'less':\n",
    "        return sum([1. if x <= t_stat else 0. for x in zero_distr]) / len(zero_distr)\n",
    "\n",
    "    if alternative == 'greater':\n",
    "        return sum([1. if x >= t_stat else 0. for x in zero_distr]) / len(zero_distr)\n",
    "    \n",
    "permutation_test_ind(data_return['LIMIT_BAL'], data_not_return['LIMIT_BAL'], max_permutations = 10000)"
   ]
  },
  {
   "cell_type": "markdown",
   "metadata": {},
   "source": [
    "Поскольку p-value < 0.05, то на уровне значимости 0.05 отвергаем $H_0$ и принимаем $H_1$. Данный результат также практически значим - суммы кредитного лимита существенно отличаются для людей, кто вернул кредит, и для людей, кто не вернул, поэтому банк может с большей уверенностью выдавать кредит на большую сумму тем, кто вернул кредит и на меньшую тем, кто не вернул."
   ]
  },
  {
   "cell_type": "markdown",
   "metadata": {},
   "source": [
    "# 2\n",
    "Пол (SEX): Проверьте гипотезу о том, что гендерный состав группы людей вернувших и не вернувших кредит отличается. Хорошо, если вы предоставите несколько различных решений этой задачи (с помощью доверительного интервала и подходящего статистического критерия)"
   ]
  },
  {
   "cell_type": "code",
   "execution_count": 11,
   "metadata": {},
   "outputs": [
    {
     "data": {
      "image/png": "[encoded data removed]",
      "text/plain": [
       "<Figure size 864x288 with 2 Axes>"
      ]
     },
     "metadata": {
      "needs_background": "light"
     },
     "output_type": "display_data"
    },
    {
     "data": {
      "image/png": "[encoded data removed]",
      "text/plain": [
       "<Figure size 403.375x360 with 6 Axes>"
      ]
     },
     "metadata": {
      "needs_background": "light"
     },
     "output_type": "display_data"
    },
    {
     "data": {
      "image/png": "[encoded data removed]",
      "text/plain": [
       "<Figure size 432x288 with 1 Axes>"
      ]
     },
     "metadata": {
      "needs_background": "light"
     },
     "output_type": "display_data"
    }
   ],
   "source": [
    "draw_graphs('SEX')"
   ]
  },
  {
   "cell_type": "markdown",
   "metadata": {},
   "source": [
    "Поскольку данные бинарны, то будем применять критерий для распределения Бернулли для доли для двухсторонней альтернативы."
   ]
  },
  {
   "cell_type": "markdown",
   "metadata": {},
   "source": [
    "$H_0\\colon$ доля женщин в группе людей вернувших и не вернувших кредит НЕ отличается.\n",
    "\n",
    "$H_1\\colon$ $H_0$ неверна."
   ]
  },
  {
   "cell_type": "markdown",
   "metadata": {},
   "source": [
    "Прежде всего приведем данные к виду 0 и 1, где 0 будет означать мужчину, а 1 - женщину."
   ]
  },
  {
   "cell_type": "code",
   "execution_count": 12,
   "metadata": {},
   "outputs": [],
   "source": [
    "sex_return = np.array(map(lambda x: 0 if x == 1 else 1, data_return['SEX'].values))\n",
    "sex_not_return = np.array(map(lambda x: 0 if x == 1 else 1, data_not_return['SEX'].values))"
   ]
  },
  {
   "cell_type": "markdown",
   "metadata": {},
   "source": [
    "Теперь попробуем интервально оценить долю женщин в выборках, для этого построим доверительный интервал Уилсона."
   ]
  },
  {
   "cell_type": "code",
   "execution_count": 13,
   "metadata": {},
   "outputs": [
    {
     "name": "stdout",
     "output_type": "stream",
     "text": [
      "95% confidence interval for a women probability, return: [0.607890, 0.620373]\n",
      "95% confidence interval for a women probability, not return: [0.555102, 0.578938]\n"
     ]
    }
   ],
   "source": [
    "conf_interval_return = proportion_confint(sum(sex_return), len(sex_return), method = 'wilson')\n",
    "conf_interval_not_return = proportion_confint(sum(sex_not_return), len(sex_not_return), method = 'wilson')\n",
    "print '95%% confidence interval for a women probability, return: [%f, %f]' % conf_interval_return\n",
    "print '95%% confidence interval for a women probability, not return: [%f, %f]' % conf_interval_not_return"
   ]
  },
  {
   "cell_type": "markdown",
   "metadata": {},
   "source": [
    "Поскольку интервалы не пересекаются, то доля женщин отличается в выборках людей, кто вернул кредит, и людей, кто кредит не вернул, поэтому отвергаем $H_0$ и принимаем $H_1$ на уровне значимости 0.05. Разница между долями отличается примерно на 0.05, поэтому не думаю, что полученный эффект можно расценивать как практически значимый."
   ]
  },
  {
   "cell_type": "markdown",
   "metadata": {},
   "source": [
    "Чтобы убедиться в полученном выводе, построим доверительный интервал и посчитаем достигаемый уровень значимости для разности двух долей."
   ]
  },
  {
   "cell_type": "code",
   "execution_count": 14,
   "metadata": {},
   "outputs": [
    {
     "name": "stdout",
     "output_type": "stream",
     "text": [
      "95% confidence interval for a difference between proportions: [0.033635, 0.060548]\n"
     ]
    },
    {
     "data": {
      "text/plain": [
       "4.472866521609831e-12"
      ]
     },
     "execution_count": 14,
     "metadata": {},
     "output_type": "execute_result"
    }
   ],
   "source": [
    "def proportions_diff_confint_ind(sample1, sample2, alpha = 0.05):    \n",
    "    z = scipy.stats.norm.ppf(1 - alpha / 2.)\n",
    "    \n",
    "    p1 = float(sum(sample1)) / len(sample1)\n",
    "    p2 = float(sum(sample2)) / len(sample2)\n",
    "    \n",
    "    left_boundary = (p1 - p2) - z * np.sqrt(p1 * (1 - p1)/ len(sample1) + p2 * (1 - p2)/ len(sample2))\n",
    "    right_boundary = (p1 - p2) + z * np.sqrt(p1 * (1 - p1)/ len(sample1) + p2 * (1 - p2)/ len(sample2))\n",
    "    \n",
    "    return (left_boundary, right_boundary)\n",
    "\n",
    "def proportions_diff_z_stat_ind(sample1, sample2):\n",
    "    n1 = len(sample1)\n",
    "    n2 = len(sample2)\n",
    "    \n",
    "    p1 = float(sum(sample1)) / n1\n",
    "    p2 = float(sum(sample2)) / n2 \n",
    "    P = float(p1*n1 + p2*n2) / (n1 + n2)\n",
    "    \n",
    "    return (p1 - p2) / np.sqrt(P * (1 - P) * (1. / n1 + 1. / n2))\n",
    "\n",
    "def proportions_diff_z_test(z_stat, alternative = 'two-sided'):\n",
    "    if alternative not in ('two-sided', 'less', 'greater'):\n",
    "        raise ValueError(\"alternative not recognized\\n\"\n",
    "                         \"should be 'two-sided', 'less' or 'greater'\")\n",
    "    \n",
    "    if alternative == 'two-sided':\n",
    "        return 2 * (1 - scipy.stats.norm.cdf(np.abs(z_stat)))\n",
    "    \n",
    "    if alternative == 'less':\n",
    "        return scipy.stats.norm.cdf(z_stat)\n",
    "\n",
    "    if alternative == 'greater':\n",
    "        return 1 - scipy.stats.norm.cdf(z_stat)\n",
    "    \n",
    "print \"95%% confidence interval for a difference between proportions: [%f, %f]\" %\\\n",
    "      proportions_diff_confint_ind(sex_return, sex_not_return)\n",
    "proportions_diff_z_test(proportions_diff_z_stat_ind(sex_return, sex_not_return))"
   ]
  },
  {
   "cell_type": "markdown",
   "metadata": {},
   "source": [
    "Полученный вывод подтвердился. Доверительный интервал не включает в себя 0, а достигаемый уровень значимости получился < 0.05, поэтому отвергаем $H_0$ и принимаем $H_1$ на уровне значимости 0.05."
   ]
  },
  {
   "cell_type": "markdown",
   "metadata": {},
   "source": [
    "# 3\n",
    "Образование (EDUCATION): Проверьте гипотезу о том, что образование не влияет на то, вернет ли человек долг. Предложите способ наглядного представления разницы в ожидаемых и наблюдаемых значениях количества человек вернувших и не вернувших долг. Например, составьте таблицу сопряженности \"образование\" на \"возврат долга\", где значением ячейки была бы разность между наблюдаемым и ожидаемым количеством человек. Как бы вы предложили модифицировать таблицу так, чтобы привести значения ячеек к одному масштабу не потеряв в интерпретируемости? Наличие какого образования является наилучшим индикатором того, что человек отдаст долг? наоборт, не отдаст долг?"
   ]
  },
  {
   "cell_type": "code",
   "execution_count": 15,
   "metadata": {},
   "outputs": [
    {
     "data": {
      "image/png": "[encoded data removed]",
      "text/plain": [
       "<Figure size 864x288 with 2 Axes>"
      ]
     },
     "metadata": {
      "needs_background": "light"
     },
     "output_type": "display_data"
    },
    {
     "data": {
      "image/png": "[encoded data removed]",
      "text/plain": [
       "<Figure size 403.375x360 with 6 Axes>"
      ]
     },
     "metadata": {
      "needs_background": "light"
     },
     "output_type": "display_data"
    },
    {
     "data": {
      "image/png": "[encoded data removed]",
      "text/plain": [
       "<Figure size 432x288 with 1 Axes>"
      ]
     },
     "metadata": {
      "needs_background": "light"
     },
     "output_type": "display_data"
    }
   ],
   "source": [
    "draw_graphs('EDUCATION')"
   ]
  },
  {
   "cell_type": "markdown",
   "metadata": {},
   "source": [
    "Поскольку данные являются категориальными, то применим перестановочный критерий для двух независимых выборок"
   ]
  },
  {
   "cell_type": "markdown",
   "metadata": {},
   "source": [
    "$H_0\\colon$ образование не влияет на то, вернет ли человек долг ($F_{X_1}(x) = F_{X_2}(x)$).\n",
    "\n",
    "$H_1\\colon$ $H_0$ неверна ($F_{X_1}(x) = F_{X_2}(x + \\Delta), \\Delta\\neq 0$)."
   ]
  },
  {
   "cell_type": "markdown",
   "metadata": {},
   "source": [
    "Сначала построим интервальные оценки на основе bootstrap."
   ]
  },
  {
   "cell_type": "code",
   "execution_count": 16,
   "metadata": {},
   "outputs": [
    {
     "name": "stdout",
     "output_type": "stream",
     "text": [
      "95% confidence interval for the return education: [1. 3.]\n",
      "95% confidence interval for the not return education: [1. 3.]\n"
     ]
    }
   ],
   "source": [
    "return_education_bootstrap = get_bootstrap_samples(data_return['EDUCATION'].values, 10000)\n",
    "not_return_education_bootstrap = get_bootstrap_samples(data_not_return['EDUCATION'].values, 10000)\n",
    "print \"95% confidence interval for the return education:\",  stat_intervals(return_education_bootstrap, 0.05)\n",
    "print \"95% confidence interval for the not return education:\",  stat_intervals(not_return_education_bootstrap, 0.05)"
   ]
  },
  {
   "cell_type": "markdown",
   "metadata": {},
   "source": [
    "Поскольку интервалы идентичны, то уровень образования одинаковый в выборках людей, кто вернул кредит, и людей, кто кредит не вернул, поэтому мы не можем отвергнуть $H_0$ на уровне значимости 0.05."
   ]
  },
  {
   "cell_type": "markdown",
   "metadata": {},
   "source": [
    "Проверим данный вывод, для этого посчитаем достигаемый уровень значимости."
   ]
  },
  {
   "cell_type": "code",
   "execution_count": 17,
   "metadata": {},
   "outputs": [
    {
     "data": {
      "text/plain": [
       "0.0001"
      ]
     },
     "execution_count": 17,
     "metadata": {},
     "output_type": "execute_result"
    }
   ],
   "source": [
    "permutation_test_ind(data_return['EDUCATION'], data_not_return['EDUCATION'], max_permutations = 10000)"
   ]
  },
  {
   "cell_type": "markdown",
   "metadata": {},
   "source": [
    "Поскольку p-value < 0.05, то на уровне значимости 0.05 отвергаем $H_0$ и принимаем $H_1$."
   ]
  },
  {
   "cell_type": "markdown",
   "metadata": {},
   "source": [
    "Для наглядного представления разницы в ожидаемых и наблюдаемых значениях количества человек вернувших и не вернувших долг построим таблицу сопряженности \"образование\" на \"возврат долга\" для разности между наблюдаемым и ожидаемым количеством человек. Также нужно убедиться, что условия применимости критерия Хи-квадрат выполняются: n >= 40 и не более 20% ячеек со значением меньше 5."
   ]
  },
  {
   "cell_type": "code",
   "execution_count": 18,
   "metadata": {},
   "outputs": [
    {
     "data": {
      "text/plain": [
       "[array([   14,  8549, 10700,  3680,   116,   262,    43], dtype=int64),\n",
       " array([   0, 2036, 3330, 1237,    7,   18,    8], dtype=int64)]"
      ]
     },
     "execution_count": 18,
     "metadata": {},
     "output_type": "execute_result"
    }
   ],
   "source": [
    "observed_return = np.bincount(data_return['EDUCATION'])\n",
    "observed_not_return = np.bincount(data_not_return['EDUCATION'])\n",
    "observed = [observed_return, observed_not_return]\n",
    "observed"
   ]
  },
  {
   "cell_type": "markdown",
   "metadata": {},
   "source": [
    "Выборка не меньше 40 и всего 1 ячейка из 14 (что не более 20%) имеет значение меньше 5, поэтому можно применять критерий Хи-квадрат."
   ]
  },
  {
   "cell_type": "code",
   "execution_count": 19,
   "metadata": {},
   "outputs": [
    {
     "data": {
      "text/html": [
       "<div>\n",
       "<style scoped>\n",
       "    .dataframe tbody tr th:only-of-type {\n",
       "        vertical-align: middle;\n",
       "    }\n",
       "\n",
       "    .dataframe tbody tr th {\n",
       "        vertical-align: top;\n",
       "    }\n",
       "\n",
       "    .dataframe thead th {\n",
       "        text-align: right;\n",
       "    }\n",
       "</style>\n",
       "<table border=\"1\" class=\"dataframe\">\n",
       "  <thead>\n",
       "    <tr style=\"text-align: right;\">\n",
       "      <th></th>\n",
       "      <th>доктор(0)</th>\n",
       "      <th>магистр(1)</th>\n",
       "      <th>бакалавр(2)</th>\n",
       "      <th>выпускник школы(3)</th>\n",
       "      <th>начальное образование(4)</th>\n",
       "      <th>прочее(5)</th>\n",
       "      <th>нет данных(6)</th>\n",
       "    </tr>\n",
       "  </thead>\n",
       "  <tbody>\n",
       "    <tr>\n",
       "      <th>вернул кредит</th>\n",
       "      <td>3.0968</td>\n",
       "      <td>305.402</td>\n",
       "      <td>-226.564</td>\n",
       "      <td>-149.3596</td>\n",
       "      <td>20.2076</td>\n",
       "      <td>43.936</td>\n",
       "      <td>3.2812</td>\n",
       "    </tr>\n",
       "    <tr>\n",
       "      <th>не вернул кредит</th>\n",
       "      <td>-3.0968</td>\n",
       "      <td>-305.402</td>\n",
       "      <td>226.564</td>\n",
       "      <td>149.3596</td>\n",
       "      <td>-20.2076</td>\n",
       "      <td>-43.936</td>\n",
       "      <td>-3.2812</td>\n",
       "    </tr>\n",
       "  </tbody>\n",
       "</table>\n",
       "</div>"
      ],
      "text/plain": [
       "                  доктор(0)  магистр(1)  бакалавр(2)  выпускник школы(3)  \\\n",
       "вернул кредит        3.0968     305.402     -226.564           -149.3596   \n",
       "не вернул кредит    -3.0968    -305.402      226.564            149.3596   \n",
       "\n",
       "                  начальное образование(4)  прочее(5)  нет данных(6)  \n",
       "вернул кредит                      20.2076     43.936         3.2812  \n",
       "не вернул кредит                  -20.2076    -43.936        -3.2812  "
      ]
     },
     "execution_count": 19,
     "metadata": {},
     "output_type": "execute_result"
    }
   ],
   "source": [
    "expected = stats.chi2_contingency(observed)[3]\n",
    "diff_df = pd.DataFrame(\n",
    "    data = observed - expected,\n",
    "    columns = [\n",
    "        u'доктор(0)',\n",
    "        u'магистр(1)',\n",
    "        u'бакалавр(2)',\n",
    "        u'выпускник школы(3)',\n",
    "        u'начальное образование(4)',\n",
    "        u'прочее(5)',\n",
    "        u'нет данных(6)'\n",
    "    ],\n",
    "    index = [\n",
    "        u'вернул кредит',\n",
    "        u'не вернул кредит'\n",
    "    ]\n",
    ")\n",
    "diff_df"
   ]
  },
  {
   "cell_type": "markdown",
   "metadata": {},
   "source": [
    "Чтобы привести таблицу к одному масштабу и при этом не потерять в интерпретируемости, можно посчитать доли."
   ]
  },
  {
   "cell_type": "code",
   "execution_count": 20,
   "metadata": {},
   "outputs": [
    {
     "name": "stdout",
     "output_type": "stream",
     "text": [
      "[   14 10585 14030  4917   123   280    51]\n"
     ]
    },
    {
     "data": {
      "text/html": [
       "<div>\n",
       "<style scoped>\n",
       "    .dataframe tbody tr th:only-of-type {\n",
       "        vertical-align: middle;\n",
       "    }\n",
       "\n",
       "    .dataframe tbody tr th {\n",
       "        vertical-align: top;\n",
       "    }\n",
       "\n",
       "    .dataframe thead th {\n",
       "        text-align: right;\n",
       "    }\n",
       "</style>\n",
       "<table border=\"1\" class=\"dataframe\">\n",
       "  <thead>\n",
       "    <tr style=\"text-align: right;\">\n",
       "      <th></th>\n",
       "      <th>доктор(0)</th>\n",
       "      <th>магистр(1)</th>\n",
       "      <th>бакалавр(2)</th>\n",
       "      <th>выпускник школы(3)</th>\n",
       "      <th>начальное образование(4)</th>\n",
       "      <th>прочее(5)</th>\n",
       "      <th>нет данных(6)</th>\n",
       "    </tr>\n",
       "  </thead>\n",
       "  <tbody>\n",
       "    <tr>\n",
       "      <th>вернул кредит</th>\n",
       "      <td>0.2212</td>\n",
       "      <td>0.028852</td>\n",
       "      <td>-0.016149</td>\n",
       "      <td>-0.030376</td>\n",
       "      <td>0.164289</td>\n",
       "      <td>0.156914</td>\n",
       "      <td>0.064337</td>\n",
       "    </tr>\n",
       "    <tr>\n",
       "      <th>не вернул кредит</th>\n",
       "      <td>-0.2212</td>\n",
       "      <td>-0.028852</td>\n",
       "      <td>0.016149</td>\n",
       "      <td>0.030376</td>\n",
       "      <td>-0.164289</td>\n",
       "      <td>-0.156914</td>\n",
       "      <td>-0.064337</td>\n",
       "    </tr>\n",
       "  </tbody>\n",
       "</table>\n",
       "</div>"
      ],
      "text/plain": [
       "                  доктор(0)  магистр(1)  бакалавр(2)  выпускник школы(3)  \\\n",
       "вернул кредит        0.2212    0.028852    -0.016149           -0.030376   \n",
       "не вернул кредит    -0.2212   -0.028852     0.016149            0.030376   \n",
       "\n",
       "                  начальное образование(4)  прочее(5)  нет данных(6)  \n",
       "вернул кредит                     0.164289   0.156914       0.064337  \n",
       "не вернул кредит                 -0.164289  -0.156914      -0.064337  "
      ]
     },
     "execution_count": 20,
     "metadata": {},
     "output_type": "execute_result"
    }
   ],
   "source": [
    "observed_total = observed_return + observed_not_return\n",
    "print observed_total\n",
    "diff_prop_df = diff_df / observed_total\n",
    "diff_prop_df"
   ]
  },
  {
   "cell_type": "markdown",
   "metadata": {},
   "source": [
    "Как видно из таблицы, люди с уровнями образования магистр(1) с наибольшей вероятностью вернут кредит (уровни образования доктор(0), начальное образование(4), прочее(5) и нет данных(6) не в счет, поскольку выборка малочислена). Люди с образованием выпускник школы(3) c наибольшей вероятностью не вернут кредит. Данный вывод практически значим, поскольку на его основе банк будет принимать более взвешенное решение как о лимите, так и выдаче/не выдаче кредита для людей с разными уровнями образования."
   ]
  },
  {
   "cell_type": "markdown",
   "metadata": {},
   "source": [
    "# 4\n",
    "Семейное положение (MARRIAGE): Проверьте, как связан семейный статус с индикатором дефолта: нужно предложить меру, по которой можно измерить возможную связь этих переменных и посчитать ее значение."
   ]
  },
  {
   "cell_type": "code",
   "execution_count": 21,
   "metadata": {},
   "outputs": [
    {
     "data": {
      "image/png": "[encoded data removed]",
      "text/plain": [
       "<Figure size 864x288 with 2 Axes>"
      ]
     },
     "metadata": {
      "needs_background": "light"
     },
     "output_type": "display_data"
    },
    {
     "data": {
      "image/png": "[encoded data removed]",
      "text/plain": [
       "<Figure size 403.375x360 with 6 Axes>"
      ]
     },
     "metadata": {
      "needs_background": "light"
     },
     "output_type": "display_data"
    },
    {
     "data": {
      "image/png": "[encoded data removed]",
      "text/plain": [
       "<Figure size 432x288 with 1 Axes>"
      ]
     },
     "metadata": {
      "needs_background": "light"
     },
     "output_type": "display_data"
    }
   ],
   "source": [
    "draw_graphs('MARRIAGE')"
   ]
  },
  {
   "cell_type": "markdown",
   "metadata": {},
   "source": [
    "Поскольку индикатор дефолта - это бинарный признак, а семейное положение - категориальный, то можно вычислить коэффициент V Крамера. Для его вычисления понадобится критерий Хи-квадрат, поэтому построим таблицу сопряженности \"семейное положение\" на \"возврат долга\" для наблюдаемого количества человек. Также нужно убедиться, что условия применимости критерия Хи-квадрат выполняются: n >= 40 и не более 20% ячеек со значением меньше 5."
   ]
  },
  {
   "cell_type": "code",
   "execution_count": 22,
   "metadata": {},
   "outputs": [
    {
     "data": {
      "text/html": [
       "<div>\n",
       "<style scoped>\n",
       "    .dataframe tbody tr th:only-of-type {\n",
       "        vertical-align: middle;\n",
       "    }\n",
       "\n",
       "    .dataframe tbody tr th {\n",
       "        vertical-align: top;\n",
       "    }\n",
       "\n",
       "    .dataframe thead th {\n",
       "        text-align: right;\n",
       "    }\n",
       "</style>\n",
       "<table border=\"1\" class=\"dataframe\">\n",
       "  <thead>\n",
       "    <tr style=\"text-align: right;\">\n",
       "      <th></th>\n",
       "      <th>отказываюсь отвечать(0)</th>\n",
       "      <th>замужем/женат(1)</th>\n",
       "      <th>холост(2)</th>\n",
       "      <th>нет данных(3)</th>\n",
       "    </tr>\n",
       "  </thead>\n",
       "  <tbody>\n",
       "    <tr>\n",
       "      <th>вернул кредит</th>\n",
       "      <td>49</td>\n",
       "      <td>10453</td>\n",
       "      <td>12623</td>\n",
       "      <td>239</td>\n",
       "    </tr>\n",
       "    <tr>\n",
       "      <th>не вернул кредит</th>\n",
       "      <td>5</td>\n",
       "      <td>3206</td>\n",
       "      <td>3341</td>\n",
       "      <td>84</td>\n",
       "    </tr>\n",
       "  </tbody>\n",
       "</table>\n",
       "</div>"
      ],
      "text/plain": [
       "                  отказываюсь отвечать(0)  замужем/женат(1)  холост(2)  \\\n",
       "вернул кредит                          49             10453      12623   \n",
       "не вернул кредит                        5              3206       3341   \n",
       "\n",
       "                  нет данных(3)  \n",
       "вернул кредит               239  \n",
       "не вернул кредит             84  "
      ]
     },
     "execution_count": 22,
     "metadata": {},
     "output_type": "execute_result"
    }
   ],
   "source": [
    "observed_return = np.bincount(data_return['MARRIAGE'])\n",
    "observed_not_return = np.bincount(data_not_return['MARRIAGE'])\n",
    "observed = np.array([observed_return, observed_not_return])\n",
    "pd.DataFrame(\n",
    "    data = observed,\n",
    "    columns = [\n",
    "        u'отказываюсь отвечать(0)',\n",
    "        u'замужем/женат(1)',\n",
    "        u'холост(2)',\n",
    "        u'нет данных(3)'\n",
    "    ],\n",
    "    index = [\n",
    "        u'вернул кредит',\n",
    "        u'не вернул кредит'\n",
    "    ]\n",
    ")"
   ]
  },
  {
   "cell_type": "markdown",
   "metadata": {},
   "source": [
    "Выборка не меньше 40 и нет ячеек со значением меньше 5, поэтому можно применять критерий Хи-квадрат и вычислять коэффициент V Крамера."
   ]
  },
  {
   "cell_type": "markdown",
   "metadata": {},
   "source": [
    "$H_0\\colon$ семейный статус и индикатор дефолта независимы.\n",
    "\n",
    "$H_1\\colon$ $H_0$ неверна."
   ]
  },
  {
   "cell_type": "code",
   "execution_count": 23,
   "metadata": {},
   "outputs": [
    {
     "data": {
      "text/plain": [
       "8.825862457577375e-08"
      ]
     },
     "execution_count": 23,
     "metadata": {},
     "output_type": "execute_result"
    }
   ],
   "source": [
    "chi2, p, dof, expected = stats.chi2_contingency(observed)\n",
    "p"
   ]
  },
  {
   "cell_type": "markdown",
   "metadata": {},
   "source": [
    "Достигаемый уровень значимости < 0.05, поэтому на уровне значимости 0.05 отвергаем $H_0$ и принимаем $H_1$."
   ]
  },
  {
   "cell_type": "markdown",
   "metadata": {},
   "source": [
    "Теперь вычислим коэффициент V Крамера."
   ]
  },
  {
   "cell_type": "code",
   "execution_count": 24,
   "metadata": {},
   "outputs": [
    {
     "data": {
      "text/plain": [
       "0.034478203662766466"
      ]
     },
     "execution_count": 24,
     "metadata": {},
     "output_type": "execute_result"
    }
   ],
   "source": [
    "np.sqrt(chi2 / (np.sum(observed) * (min(observed.shape[0], observed.shape[1]) - 1)))"
   ]
  },
  {
   "cell_type": "markdown",
   "metadata": {},
   "source": [
    "Поскольку коэффициент V Крамера слишком мал, то можно говорить лишь об очень слабой взаимосвязи семейного положения и индикатора дефолта."
   ]
  },
  {
   "cell_type": "markdown",
   "metadata": {},
   "source": [
    "# 5\n",
    "Возраст (AGE): Относительно двух групп людей вернувших и не вернувших кредит проверьте следующие гипотезы:\n",
    "\n",
    "- a) о равенстве медианных значений возрастов людей\n",
    "- b) о равенстве распределений с помощью одного из подходящих непараметрических критериев проверки равенства средних.\n",
    "\n",
    "Значимы ли полученные результаты с практической точки зрения?"
   ]
  },
  {
   "cell_type": "code",
   "execution_count": 25,
   "metadata": {},
   "outputs": [
    {
     "data": {
      "image/png": "[encoded data removed]",
      "text/plain": [
       "<Figure size 864x288 with 2 Axes>"
      ]
     },
     "metadata": {
      "needs_background": "light"
     },
     "output_type": "display_data"
    },
    {
     "data": {
      "image/png": "[encoded data removed]",
      "text/plain": [
       "<Figure size 403.375x360 with 6 Axes>"
      ]
     },
     "metadata": {
      "needs_background": "light"
     },
     "output_type": "display_data"
    },
    {
     "data": {
      "image/png": "[encoded data removed]",
      "text/plain": [
       "<Figure size 432x288 with 1 Axes>"
      ]
     },
     "metadata": {
      "needs_background": "light"
     },
     "output_type": "display_data"
    }
   ],
   "source": [
    "draw_graphs('AGE')"
   ]
  },
  {
   "cell_type": "markdown",
   "metadata": {},
   "source": [
    "Признак AGE - вещественный, поэтому сначала проверим данные на нормальность с помощью QQ-графика и теста Шапиро-Уилка."
   ]
  },
  {
   "cell_type": "code",
   "execution_count": 26,
   "metadata": {},
   "outputs": [
    {
     "data": {
      "image/png": "[encoded data removed]",
      "text/plain": [
       "<Figure size 1008x576 with 2 Axes>"
      ]
     },
     "metadata": {
      "needs_background": "light"
     },
     "output_type": "display_data"
    }
   ],
   "source": [
    "pylab.figure(figsize = (14, 8))\n",
    "pylab.subplot(2, 2, 1)\n",
    "stats.probplot(data_return['AGE'], dist = \"norm\", plot = pylab)\n",
    "pylab.subplot(2, 2, 2)\n",
    "stats.probplot(data_not_return['AGE'], dist = \"norm\", plot = pylab)\n",
    "pylab.show()"
   ]
  },
  {
   "cell_type": "markdown",
   "metadata": {},
   "source": [
    "$H_0\\colon$ возраст людей распределен нормально.\n",
    "\n",
    "$H_1\\colon$ $H_0$ неверна."
   ]
  },
  {
   "cell_type": "code",
   "execution_count": 27,
   "metadata": {},
   "outputs": [
    {
     "name": "stdout",
     "output_type": "stream",
     "text": [
      "Shapiro-Wilk normality test, W-statistic: 0.949614, p-value: 0.000000\n",
      "Shapiro-Wilk normality test, W-statistic: 0.950164, p-value: 0.000000\n"
     ]
    }
   ],
   "source": [
    "print \"Shapiro-Wilk normality test, W-statistic: %f, p-value: %f\" % stats.shapiro(data_return['AGE'])\n",
    "print \"Shapiro-Wilk normality test, W-statistic: %f, p-value: %f\" % stats.shapiro(data_not_return['AGE'])"
   ]
  },
  {
   "cell_type": "markdown",
   "metadata": {},
   "source": [
    "Из QQ-графика видно, что данные распределены не нормально, то же самое подтвердилось с помощью теста Шапиро-Уилка, где уровень значимости получился < 0.05, из-за чего $H_0$ отвергается и принимается $H_1$ на уровне значимости 0.05. Поэтому для проверки гипотез будут применяться непараметрические критерии."
   ]
  },
  {
   "cell_type": "markdown",
   "metadata": {},
   "source": [
    "$H_0\\colon$ медианные значения возрастов у тех людей, кто вернул кредит и тех, кто его не вернул.\n",
    "\n",
    "$H_1\\colon$ $H_0$ неверна.\n",
    "\n",
    "Построим интервальные оценки на основе bootstrap."
   ]
  },
  {
   "cell_type": "code",
   "execution_count": 28,
   "metadata": {},
   "outputs": [
    {
     "name": "stdout",
     "output_type": "stream",
     "text": [
      "95% confidence interval for the return median age: [34. 34.]\n",
      "95% confidence interval for the not return median age: [34. 35.]\n",
      "95% confidence interval for the diff median credit score: [-1.  0.]\n"
     ]
    }
   ],
   "source": [
    "return_age_bootstrap = np.array(map(np.median, get_bootstrap_samples(data_return['AGE'].values, 10000)))\n",
    "not_return_age_bootstrap = np.array(map(np.median, get_bootstrap_samples(data_not_return['AGE'].values, 10000)))\n",
    "diff_age = return_age_bootstrap - not_return_age_bootstrap\n",
    "print \"95% confidence interval for the return median age:\",  stat_intervals(return_age_bootstrap, 0.05)\n",
    "print \"95% confidence interval for the not return median age:\",  stat_intervals(not_return_age_bootstrap, 0.05)\n",
    "print \"95% confidence interval for the diff median credit score:\",  stat_intervals(diff_age, 0.05)"
   ]
  },
  {
   "cell_type": "markdown",
   "metadata": {},
   "source": [
    "Поскольку интервалы пересекаются, то медианные значения возрастов могут совпадать у тех людей, кто вернул кредит и тех, кто его не вернул, однако нельзя с уверенностью об этом сказать, поэтому необходимо посчитать достигаемый уровень значимости. Данный результат практически незначим, поскольку размер эффекта составляет всего 1 год."
   ]
  },
  {
   "cell_type": "markdown",
   "metadata": {},
   "source": [
    "Теперь попробуем вычислить достигаемый уровень значимости."
   ]
  },
  {
   "cell_type": "markdown",
   "metadata": {},
   "source": [
    "$H_0\\colon$ распределения в выборках возрастов у тех людей, кто вернул кредит и тех, кто его не вернул - равны ($F_{X_1}(x) = F_{X_2}(x)$).\n",
    "\n",
    "$H_1\\colon$ $H_0$ неверна ($F_{X_1}(x) = F_{X_2}(x + \\Delta), \\Delta\\neq 0$).\n",
    "\n",
    "Применим перестановочный критерий для двухсторонней альтернативы для независимых выборок."
   ]
  },
  {
   "cell_type": "code",
   "execution_count": 29,
   "metadata": {},
   "outputs": [
    {
     "data": {
      "text/plain": [
       "0.017"
      ]
     },
     "execution_count": 29,
     "metadata": {},
     "output_type": "execute_result"
    }
   ],
   "source": [
    "permutation_test_ind(data_return['AGE'], data_not_return['AGE'], max_permutations = 10000)"
   ]
  },
  {
   "cell_type": "markdown",
   "metadata": {},
   "source": [
    "Поскольку p-value < 0.05, то на уровне значимости 0.05 отвергаем $H_0$ и принимаем $H_1$. Данный результат практически незначим, поскольку размер эффекта составляет всего 1 год, вряд ли банк будет учитывать этот факт в принятии решения о том, выдать кредит или нет."
   ]
  }
 ],
 "metadata": {
  "kernelspec": {
   "display_name": "Python 3",
   "language": "python",
   "name": "python3"
  },
  "language_info": {
   "codemirror_mode": {
    "name": "ipython",
    "version": 3
   },
   "file_extension": ".py",
   "mimetype": "text/x-python",
   "name": "python",
   "nbconvert_exporter": "python",
   "pygments_lexer": "ipython3",
   "version": "3.7.3"
  }
 },
 "nbformat": 4,
 "nbformat_minor": 2
}
