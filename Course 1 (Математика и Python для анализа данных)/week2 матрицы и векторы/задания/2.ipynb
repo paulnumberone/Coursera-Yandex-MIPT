{
 "cells": [
  {
   "cell_type": "markdown",
   "metadata": {},
   "source": [
    "# `NumPy`: ������� � �������� ��� ���� (������ ��� Python 3)\n",
    "---"
   ]
  },
  {
   "cell_type": "markdown",
   "metadata": {},
   "source": [
    "� ���� �������� ��� ����������� ���������� `NumPy`. ��� �������� ����������� �� ��� ����� �������� ������:"
   ]
  },
  {
   "cell_type": "code",
   "execution_count": 35,
   "metadata": {},
   "outputs": [],
   "source": [
    "import numpy as np"
   ]
  },
  {
   "cell_type": "markdown",
   "metadata": {},
   "source": [
    "## 1. �������� ��������"
   ]
  },
  {
   "cell_type": "markdown",
   "metadata": {},
   "source": [
    "����� ������� ������ ������� ������ � `NumPy` � ������ ��� ���� � ������� __`numpy.array(list, dtype=None, ...)`__.\n",
    "\n",
    "�������� __`list`__ ������ ����������� ������, �� �������� ����� ������� ������. ��������, � �������� ����� ��������� ����� ������ ������ �����. �������� __`dtype`__ ������ ��� �������� �������, ��������, __`float`__ � ��� ������������ �������� � __`int`__ � ��� �������������. ���� ���� �������� �� �����, �� ��� ������ ����� ��������� �� ���� ��������� ������� ���������. "
   ]
  },
  {
   "cell_type": "code",
   "execution_count": 36,
   "metadata": {},
   "outputs": [
    {
     "name": "stdout",
     "output_type": "stream",
     "text": [
      "������:\n",
      " [1 2 3 4]\n"
     ]
    }
   ],
   "source": [
    "a = np.array([1, 2, 3, 4])\n",
    "print('������:\\n', a)"
   ]
  },
  {
   "cell_type": "code",
   "execution_count": 37,
   "metadata": {},
   "outputs": [
    {
     "name": "stdout",
     "output_type": "stream",
     "text": [
      "������������ ������:\n",
      " [1. 2. 3. 4. 5.]\n"
     ]
    }
   ],
   "source": [
    "b = np.array([1, 2, 3, 4, 5], dtype=float)\n",
    "print('������������ ������:\\n', b)"
   ]
  },
  {
   "cell_type": "code",
   "execution_count": 38,
   "metadata": {},
   "outputs": [
    {
     "name": "stdout",
     "output_type": "stream",
     "text": [
      "��������� ������:\n",
      " [ True False  True]\n"
     ]
    }
   ],
   "source": [
    "c = np.array([True, False, True], dtype=bool)\n",
    "print('��������� ������:\\n', c)"
   ]
  },
  {
   "cell_type": "markdown",
   "metadata": {},
   "source": [
    "��� �������� ������� ����� ������ � ������� __`numpy.ndarray.dtype`__:"
   ]
  },
  {
   "cell_type": "code",
   "execution_count": 39,
   "metadata": {},
   "outputs": [
    {
     "name": "stdout",
     "output_type": "stream",
     "text": [
      "��� ���������� �������:\n",
      " bool\n"
     ]
    }
   ],
   "source": [
    "print('��� ���������� �������:\\n', c.dtype)"
   ]
  },
  {
   "cell_type": "markdown",
   "metadata": {},
   "source": [
    "������ �������� ������� ������� �������� ������� __`numpy.arange(([start, ]stop, [step, ]...)`__, ������� ������ ������������������ ����� ��������� ���� �� ���������� __[`start`, `stop`)__ ����� ��� __`step`__:"
   ]
  },
  {
   "cell_type": "code",
   "execution_count": 40,
   "metadata": {},
   "outputs": [
    {
     "name": "stdout",
     "output_type": "stream",
     "text": [
      "������ ����� �� 10 �� 20 � ����� 2:\n",
      " [10 12 14 16 18]\n"
     ]
    }
   ],
   "source": [
    "d = np.arange(start=10, stop=20, step=2) # ��������� �������� �� ����������!\n",
    "print('������ ����� �� 10 �� 20 � ����� 2:\\n', d)"
   ]
  },
  {
   "cell_type": "code",
   "execution_count": 41,
   "metadata": {},
   "outputs": [
    {
     "name": "stdout",
     "output_type": "stream",
     "text": [
      "������������ ������ ����� �� 0 �� 1 � ����� 0.3:\n",
      " [0.  0.3 0.6 0.9]\n"
     ]
    }
   ],
   "source": [
    "f = np.arange(start=0, stop=1, step=0.3, dtype=float)\n",
    "print('������������ ������ ����� �� 0 �� 1 � ����� 0.3:\\n', f)"
   ]
  },
  {
   "cell_type": "markdown",
   "metadata": {},
   "source": [
    "�� ���� ������ � `NumPy` �������� ���������� ��������, ��� ������������� ������������ ����������� �������:"
   ]
  },
  {
   "cell_type": "code",
   "execution_count": 42,
   "metadata": {
    "scrolled": true
   },
   "outputs": [
    {
     "name": "stdout",
     "output_type": "stream",
     "text": [
      "1\n"
     ]
    }
   ],
   "source": [
    "print(c.ndim) # ���������� ������������"
   ]
  },
  {
   "cell_type": "code",
   "execution_count": 43,
   "metadata": {},
   "outputs": [
    {
     "name": "stdout",
     "output_type": "stream",
     "text": [
      "(3,)\n"
     ]
    }
   ],
   "source": [
    "print(c.shape) # shape ���������� ������ ����� ������� "
   ]
  },
  {
   "cell_type": "markdown",
   "metadata": {},
   "source": [
    "__�������� ��������:__ _������ _� ���������� ������ ������������� ������� � `NumPy`. ������ �����, ����� ���������� ������� _������-�������_ � _������-������_, �������, �������� �� �� ��� ������������� ������ ���� � ��� �� ������, �������� ���������� ��������� � ����� ������ �������� ���� __`shape`__ (� ���� ������ ���� ������� �� ���� �����, ���� �� ������� ����� �������). ��� �������� ����� ����������� � ��������� �����."
   ]
  },
  {
   "cell_type": "markdown",
   "metadata": {},
   "source": [
    "����� �������� � ���, ��� ��������� ������� � `NumPy`, \n",
    "��. [������������](http://docs.scipy.org/doc/numpy-1.10.1/user/basics.creation.html)."
   ]
  },
  {
   "cell_type": "markdown",
   "metadata": {},
   "source": [
    "## 2. �������� ��� ���������"
   ]
  },
  {
   "cell_type": "markdown",
   "metadata": {},
   "source": [
    "������� � `NumPy` ����� ����������, ��������, �������� �� ����� � �������� �� ������ ������ (�������������):"
   ]
  },
  {
   "cell_type": "code",
   "execution_count": 44,
   "metadata": {},
   "outputs": [
    {
     "name": "stdout",
     "output_type": "stream",
     "text": [
      "������ a: [1 2 3]\n",
      "������ b: [6 5 4]\n",
      "����� k: 2\n"
     ]
    }
   ],
   "source": [
    "a = np.array([1, 2, 3])\n",
    "b = np.array([6, 5, 4])\n",
    "k = 2\n",
    "\n",
    "print('������ a:', a)\n",
    "print('������ b:', b)\n",
    "print('����� k:', k)"
   ]
  },
  {
   "cell_type": "code",
   "execution_count": 45,
   "metadata": {},
   "outputs": [
    {
     "name": "stdout",
     "output_type": "stream",
     "text": [
      "����� a � b:\n",
      " [7 7 7]\n"
     ]
    }
   ],
   "source": [
    "print('����� a � b:\\n', a + b)"
   ]
  },
  {
   "cell_type": "code",
   "execution_count": 46,
   "metadata": {},
   "outputs": [
    {
     "name": "stdout",
     "output_type": "stream",
     "text": [
      "�������� a � b:\n",
      " [-5 -3 -1]\n"
     ]
    }
   ],
   "source": [
    "print('�������� a � b:\\n', a - b)"
   ]
  },
  {
   "cell_type": "code",
   "execution_count": 47,
   "metadata": {},
   "outputs": [
    {
     "name": "stdout",
     "output_type": "stream",
     "text": [
      "�������������� ��������� a � b:\n",
      " [ 6 10 12]\n"
     ]
    }
   ],
   "source": [
    "print('�������������� ��������� a � b:\\n', a * b )"
   ]
  },
  {
   "cell_type": "code",
   "execution_count": 48,
   "metadata": {},
   "outputs": [
    {
     "name": "stdout",
     "output_type": "stream",
     "text": [
      "��������� ������� �� ����� (�������������� �������������):\n",
      " [2 4 6]\n"
     ]
    }
   ],
   "source": [
    "print('��������� ������� �� ����� (�������������� �������������):\\n', k * a)"
   ]
  },
  {
   "cell_type": "markdown",
   "metadata": {},
   "source": [
    "## 3. ����� ��������"
   ]
  },
  {
   "cell_type": "markdown",
   "metadata": {},
   "source": [
    "�������� ��������� �����, ������� ����� ������ � ������������ $\\mathbb{R}^{n}$, � ����������, � ������� ����� ��������� � ������� �� ����� ��������� � `NumPy`."
   ]
  },
  {
   "cell_type": "markdown",
   "metadata": {},
   "source": [
    "### p-�����"
   ]
  },
  {
   "cell_type": "markdown",
   "metadata": {},
   "source": [
    "p-����� (����� ø������) ��� ������� $x = (x_{1}, \\dots, x_{n}) \\in \\mathbb{R}^{n}$ ����������� �� �������:\n",
    "\n",
    "$$\n",
    "\\left\\Vert x \\right\\Vert_{p} = \\left( \\sum_{i=1}^n \\left| x_{i} \\right|^{p} \\right)^{1 / p},~p \\geq 1.\n",
    "$$"
   ]
  },
  {
   "cell_type": "markdown",
   "metadata": {},
   "source": [
    "� ������� ������� ���:\n",
    "* $p = 1$ �������� $\\ell_{1}$ �����\n",
    "* $p = 2$ �������� $\\ell_{2}$ �����"
   ]
  },
  {
   "cell_type": "markdown",
   "metadata": {},
   "source": [
    "����� ��� ��������� ������ `numpy.linalg`, ����������� ��������� ���������� �������� �������. ��� ���������� ��������� ���� �� ���������� ������� __`numpy.linalg.norm(x, ord=None, ...)`__, ��� __`x`__ � �������� ������, __`ord`__ � ��������, ������������ ����� (�� ���������� ��� �������� ��� �������� � 1 � 2). ����������� ��� �������:"
   ]
  },
  {
   "cell_type": "code",
   "execution_count": 49,
   "metadata": {},
   "outputs": [],
   "source": [
    "from numpy.linalg import norm"
   ]
  },
  {
   "cell_type": "markdown",
   "metadata": {},
   "source": [
    "### $\\ell_{1}$ �����"
   ]
  },
  {
   "cell_type": "markdown",
   "metadata": {},
   "source": [
    "$\\ell_{1}$ ����� \n",
    "(����� ��������� ��� [������������� ����������](https://ru.wikipedia.org/wiki/%D0%A0%D0%B0%D1%81%D1%81%D1%82%D0%BE%D1%8F%D0%BD%D0%B8%D0%B5_%D0%B3%D0%BE%D1%80%D0%BE%D0%B4%D1%81%D0%BA%D0%B8%D1%85_%D0%BA%D0%B2%D0%B0%D1%80%D1%82%D0%B0%D0%BB%D0%BE%D0%B2))\n",
    "��� ������� $x = (x_{1}, \\dots, x_{n}) \\in \\mathbb{R}^{n}$ ����������� �� �������:\n",
    "\n",
    "$$\n",
    " \\left\\Vert x \\right\\Vert_{1} = \\sum_{i=1}^n \\left| x_{i} \\right|.\n",
    "$$"
   ]
  },
  {
   "cell_type": "markdown",
   "metadata": {},
   "source": [
    "�� � ������� __`numpy.linalg.norm(x, ord=None, ...)`__ ������������� �������� __`ord=1`__."
   ]
  },
  {
   "cell_type": "code",
   "execution_count": 50,
   "metadata": {},
   "outputs": [
    {
     "name": "stdout",
     "output_type": "stream",
     "text": [
      "������ a: [ 1  2 -3]\n"
     ]
    }
   ],
   "source": [
    "a = np.array([1, 2, -3])\n",
    "print('������ a:', a)"
   ]
  },
  {
   "cell_type": "code",
   "execution_count": 51,
   "metadata": {},
   "outputs": [
    {
     "name": "stdout",
     "output_type": "stream",
     "text": [
      "L1 ����� ������� a:\n",
      " 6.0\n"
     ]
    }
   ],
   "source": [
    "print('L1 ����� ������� a:\\n', norm(a, ord=1))"
   ]
  },
  {
   "cell_type": "markdown",
   "metadata": {},
   "source": [
    "### $\\ell_{2}$ �����"
   ]
  },
  {
   "cell_type": "markdown",
   "metadata": {},
   "source": [
    "$\\ell_{2}$ ����� (����� ��������� ��� ��������� �����)\n",
    "��� ������� $x = (x_{1}, \\dots, x_{n}) \\in \\mathbb{R}^{n}$ ����������� �� �������:\n",
    "\n",
    "$$\n",
    " \\left\\Vert x \\right\\Vert_{2} = \\sqrt{\\sum_{i=1}^n \\left( x_{i} \\right)^2}.\n",
    "$$"
   ]
  },
  {
   "cell_type": "markdown",
   "metadata": {},
   "source": [
    "�� � ������� __`numpy.linalg.norm(x, ord=None, ...)`__ ������������� �������� __`ord=2`__."
   ]
  },
  {
   "cell_type": "code",
   "execution_count": 52,
   "metadata": {},
   "outputs": [
    {
     "name": "stdout",
     "output_type": "stream",
     "text": [
      "������ a: [ 1  2 -3]\n"
     ]
    }
   ],
   "source": [
    "a = np.array([1, 2, -3])\n",
    "print('������ a:', a)"
   ]
  },
  {
   "cell_type": "code",
   "execution_count": 53,
   "metadata": {},
   "outputs": [
    {
     "name": "stdout",
     "output_type": "stream",
     "text": [
      "L2 ����� ������� a:\n",
      " 3.7416573867739413\n"
     ]
    }
   ],
   "source": [
    "print('L2 ����� ������� a:\\n', norm(a, ord=2))"
   ]
  },
  {
   "cell_type": "markdown",
   "metadata": {},
   "source": [
    "����� �������� � ���, ����� ��� ����� (� ��� ����� ���������) ����� ���������, ��. [������������](http://docs.scipy.org/doc/numpy-1.10.0/reference/generated/numpy.linalg.norm.html). "
   ]
  },
  {
   "cell_type": "markdown",
   "metadata": {},
   "source": [
    "## 4. ���������� ����� ���������"
   ]
  },
  {
   "cell_type": "markdown",
   "metadata": {},
   "source": [
    "��� ���� �������� $x = (x_{1}, \\dots, x_{n}) \\in \\mathbb{R}^{n}$ � $y = (y_{1}, \\dots, y_{n}) \\in \\mathbb{R}^{n}$ $\\ell_{1}$ � $\\ell_{2}$ ��cc������ ����������� �� ��������� �������� ��������������:\n",
    "\n",
    "$$\n",
    " \\rho_{1}\\left( x, y \\right) = \\left\\Vert x - y \\right\\Vert_{1} = \\sum_{i=1}^n \\left| x_{i} - y_{i} \\right|\n",
    "$$\n",
    "\n",
    "$$\n",
    " \\rho_{2}\\left( x, y \\right) = \\left\\Vert x - y \\right\\Vert_{2} = \n",
    " \\sqrt{\\sum_{i=1}^n \\left( x_{i} - y_{i} \\right)^2}.\n",
    "$$"
   ]
  },
  {
   "cell_type": "code",
   "execution_count": 54,
   "metadata": {},
   "outputs": [
    {
     "name": "stdout",
     "output_type": "stream",
     "text": [
      "������ a: [ 1  2 -3]\n",
      "������ b: [-4  3  8]\n"
     ]
    }
   ],
   "source": [
    "a = np.array([1, 2, -3])\n",
    "b = np.array([-4, 3, 8])\n",
    "print('������ a:', a)\n",
    "print('������ b:', b)"
   ]
  },
  {
   "cell_type": "code",
   "execution_count": 55,
   "metadata": {},
   "outputs": [
    {
     "name": "stdout",
     "output_type": "stream",
     "text": [
      "L1 ���������� ����� ��������� a � b:\n",
      " 17.0\n"
     ]
    }
   ],
   "source": [
    "print('L1 ���������� ����� ��������� a � b:\\n', norm(a - b, ord=1))"
   ]
  },
  {
   "cell_type": "code",
   "execution_count": 56,
   "metadata": {},
   "outputs": [
    {
     "name": "stdout",
     "output_type": "stream",
     "text": [
      "L2 ���������� ����� ��������� a � b:\n",
      " 12.12435565298214\n"
     ]
    }
   ],
   "source": [
    "print('L2 ���������� ����� ��������� a � b:\\n', norm(a - b, ord=2))"
   ]
  },
  {
   "cell_type": "markdown",
   "metadata": {},
   "source": [
    "����� ���������� ����� ��������� ����� ��������� � ������� ������� __`scipy.spatial.distance.cdist(XA, XB, metric='euclidean', p=2, ...)`__ �� ������ `SciPy`, ���������������� ��� ���������� ������� � ���������� ��������. "
   ]
  },
  {
   "cell_type": "code",
   "execution_count": 57,
   "metadata": {},
   "outputs": [],
   "source": [
    "from scipy.spatial.distance import cdist"
   ]
  },
  {
   "cell_type": "markdown",
   "metadata": {},
   "source": [
    "__`scipy.spatial.distance.cdist(...)`__ �������, ����� ����������� __`XA`__ � __`XB`__ ���� ��� ������� ���������. �� ���� ������� ��� ������������� ���� ������� ���������� ������������� _�������_, ������� �� ������������� � ���� ��������, � _������-�������_ � ������� ��������, ������� �� ���������� ����. "
   ]
  },
  {
   "cell_type": "markdown",
   "metadata": {},
   "source": [
    "��������� __`XA, XB`__ � �������� ������-������, � __`metric`__ � __`p`__ ������ ������� ����������\n",
    "(����� �������� � ���, ����� ������� ����� ������������, ��. [������������](http://docs.scipy.org/doc/scipy-0.16.0/reference/generated/scipy.spatial.distance.cdist.html))."
   ]
  },
  {
   "cell_type": "markdown",
   "metadata": {},
   "source": [
    "������ ������ �� _�������_ ������� _������-������ (������-�������)_ � ��� ������������ _�����_ __`array.reshape(shape)`__, ��� �������� __`shape`__ ������ ����������� ������� (������ �����)."
   ]
  },
  {
   "cell_type": "code",
   "execution_count": 58,
   "metadata": {
    "scrolled": true
   },
   "outputs": [
    {
     "name": "stdout",
     "output_type": "stream",
     "text": [
      "������ a: [ 6  3 -5]\n",
      "��� �����������: (3,)\n",
      "������ b: [-1  0  7]\n",
      "��� �����������: (3,)\n"
     ]
    }
   ],
   "source": [
    "a = np.array([6, 3, -5])\n",
    "b = np.array([-1, 0, 7])\n",
    "print('������ a:', a)\n",
    "print('��� �����������:', a.shape)\n",
    "print('������ b:', b)\n",
    "print('��� �����������:', b.shape)"
   ]
  },
  {
   "cell_type": "code",
   "execution_count": 59,
   "metadata": {},
   "outputs": [
    {
     "name": "stdout",
     "output_type": "stream",
     "text": [
      "����� ���������� ������ reshape:\n",
      "\n",
      "������-������ a: [[ 6  3 -5]]\n",
      "��� �����������: (1, 3)\n",
      "������-������ b: [[-1  0  7]]\n",
      "��� �����������: (1, 3)\n"
     ]
    }
   ],
   "source": [
    "a = a.reshape((1, 3))\n",
    "b = b.reshape((1, 3))\n",
    "print('����� ���������� ������ reshape:\\n')\n",
    "print('������-������ a:', a)\n",
    "print('��� �����������:', a.shape)\n",
    "print('������-������ b:', b)\n",
    "print('��� �����������:', b.shape)"
   ]
  },
  {
   "cell_type": "code",
   "execution_count": 60,
   "metadata": {},
   "outputs": [
    {
     "name": "stdout",
     "output_type": "stream",
     "text": [
      "������������� ���������� ����� a � b (����� cdist): [[22.]]\n"
     ]
    }
   ],
   "source": [
    "print('������������� ���������� ����� a � b (����� cdist):', cdist(a, b, metric='cityblock'))"
   ]
  },
  {
   "cell_type": "markdown",
   "metadata": {},
   "source": [
    "�������, ��� ����� ���������� ����� ������ ����������� ���������� ������-����� ����� ����� __`shape`__. ��������� ����� ��������� ������� ����� �� ��������������, �� �� �������� ����������� ��������� �������.  "
   ]
  },
  {
   "cell_type": "markdown",
   "metadata": {},
   "source": [
    "� `NumPy` � ������������ �������� ����� ��������� ��������� ��� � ������� __`np.newaxis`__. ��� ����, ����� ������, ��� ��� �������, ���������� ������:"
   ]
  },
  {
   "cell_type": "code",
   "execution_count": 61,
   "metadata": {},
   "outputs": [
    {
     "name": "stdout",
     "output_type": "stream",
     "text": [
      "������ d: [  3   0   8   9 -10]\n",
      "��� �����������: (5,)\n"
     ]
    }
   ],
   "source": [
    "d = np.array([3, 0, 8, 9, -10])\n",
    "print('������ d:', d)\n",
    "print('��� �����������:', d.shape)"
   ]
  },
  {
   "cell_type": "code",
   "execution_count": 62,
   "metadata": {},
   "outputs": [
    {
     "name": "stdout",
     "output_type": "stream",
     "text": [
      "������ d � newaxis --> ������-������:\n",
      " [[  3   0   8   9 -10]]\n",
      "���������� �����������: (1, 5)\n",
      "������ d � newaxis --> ������-�������:\n",
      " [[  3]\n",
      " [  0]\n",
      " [  8]\n",
      " [  9]\n",
      " [-10]]\n",
      "���������� �����������: (5, 1)\n"
     ]
    }
   ],
   "source": [
    "print ('������ d � newaxis --> ������-������:\\n', d[np.newaxis, :])\n",
    "print ('���������� �����������:', d[np.newaxis, :].shape)\n",
    "\n",
    "print ('������ d � newaxis --> ������-�������:\\n', d[:, np.newaxis])\n",
    "print ('���������� �����������:', d[:, np.newaxis].shape)"
   ]
  },
  {
   "cell_type": "markdown",
   "metadata": {},
   "source": [
    "�����, ��� __`np.newaxis`__ ��������� � ����������� ���, ����� ������� ����� 1 (��� � �������, ��� ��� ���������� ��������� ������ �����������). ����� �������, ���� ��������� ����� ��� ���, ��� ����� ������� � �����������. "
   ]
  },
  {
   "cell_type": "markdown",
   "metadata": {},
   "source": [
    "������ ��������� ���������� � ������� __`scipy.spatial.distance.cdist(...)`__, ��������� __`np.newaxis`__ ��� �������������� ��������:"
   ]
  },
  {
   "cell_type": "code",
   "execution_count": 63,
   "metadata": {
    "scrolled": true
   },
   "outputs": [
    {
     "name": "stdout",
     "output_type": "stream",
     "text": [
      "��������� ���������� ����� a � b (����� cdist): [[14.2126704]]\n"
     ]
    }
   ],
   "source": [
    "a = np.array([6, 3, -5])\n",
    "b = np.array([-1, 0, 7])\n",
    "print ('��������� ���������� ����� a � b (����� cdist):', cdist(a[np.newaxis, :], \n",
    "                                                               b[np.newaxis, :], \n",
    "                                                               metric='euclidean'))"
   ]
  },
  {
   "cell_type": "markdown",
   "metadata": {},
   "source": [
    "��� ������� ����� ��������� ��������� �������� ���������� ����� ����������� ��������. ��������, ����� � ��� ������� ������� ������� $m_{A} \\times n$. �� ����� ������������� �� ��� �������� ��������� $m_{A}$ ���������� � $n$-������ ������������. ����� ����� ������� ��� ���� ����������� ������� ������� $m_{B} \\times n$, ���  $m_{B}$ �������� � ��� �� $n$-������ ������������. ����� ���������� ��������� �������� ���������� ����� ��������� ������� � ������� ��������. � ���� ������ ����� ������������ �������� __`scipy.spatial.distance.cdist(XA, XB, metric='euclidean', p=2, ...)`__, ��� � �������� __`XA, XB`__ ���������� �������� ��� ��������� �������. ������� ���������� ������� �������� ���������� ������� $m_{A} \\times m_{B}$, ��� ������� ������� �� $[i, j]$-�� ������� ����� ���������� ����� $i$-��� �������� ������� ��������� � $j$-�� �������� ������� ���������. \n",
    "\n",
    "� ������ ������ ��� ������� ���������������� __`numpy.linalg.norm(...)`__, ��� ��� ��� ��������� �������� ���������� ������� � �����������. "
   ]
  },
  {
   "cell_type": "markdown",
   "metadata": {},
   "source": [
    "## 5. ��������� ������������ � ���� ����� ���������"
   ]
  },
  {
   "cell_type": "code",
   "execution_count": 64,
   "metadata": {},
   "outputs": [
    {
     "name": "stdout",
     "output_type": "stream",
     "text": [
      "������ a: [ 0  5 -1]\n",
      "������ b: [-4  9  3]\n"
     ]
    }
   ],
   "source": [
    "a = np.array([0, 5, -1])\n",
    "b = np.array([-4, 9, 3])\n",
    "print('������ a:', a)\n",
    "print('������ b:', b)"
   ]
  },
  {
   "cell_type": "markdown",
   "metadata": {},
   "source": [
    "��������� ������������ � ������������ $\\mathbb{R}^{n}$ ��� ���� �������� $x = (x_{1}, \\dots, x_{n})$ � $y = (y_{1}, \\dots, y_{n})$ ������������ ���:\n",
    "\n",
    "$$\n",
    "\\langle x, y \\rangle = \\sum_{i=1}^n x_{i} y_{i}.\n",
    "$$"
   ]
  },
  {
   "cell_type": "markdown",
   "metadata": {},
   "source": [
    "��������� ������������ ���� �������� ����� ��������� � ������� ������� __`numpy.dot(a, b, ...)`__ ��� _������_ __`vec1.dot(vec2)`__, ��� __`vec1`__ � __`vec2`__ � �������� �������. ����� ��� ������� �������� ��� ���������� ���������, � ������� ���� ������ � ��������� �����. "
   ]
  },
  {
   "cell_type": "code",
   "execution_count": 65,
   "metadata": {},
   "outputs": [
    {
     "name": "stdout",
     "output_type": "stream",
     "text": [
      "��������� ������������ a � b (����� �������): 42\n"
     ]
    }
   ],
   "source": [
    "print('��������� ������������ a � b (����� �������):', np.dot(a, b))"
   ]
  },
  {
   "cell_type": "code",
   "execution_count": 66,
   "metadata": {},
   "outputs": [
    {
     "name": "stdout",
     "output_type": "stream",
     "text": [
      "��������� ������������ a � b (����� �����): 42\n"
     ]
    }
   ],
   "source": [
    "print('��������� ������������ a � b (����� �����):', a.dot(b))"
   ]
  },
  {
   "cell_type": "markdown",
   "metadata": {},
   "source": [
    "������ ������� $x = (x_{1}, \\dots, x_{n}) \\in \\mathbb{R}^{n}$ ���������� ���������� ������ �� ���������� ������������, �� ���� ����� ����� ���������� ����� �������:\n",
    "\n",
    "$$\n",
    "\\left| x \\right| = \\sqrt{\\langle x, x \\rangle} = \\sqrt{\\sum_{i=1}^n x_{i}^2} =  \\left\\Vert x \\right\\Vert_{2}.\n",
    "$$"
   ]
  },
  {
   "cell_type": "markdown",
   "metadata": {},
   "source": [
    "������, ����� �� ����� ���������� ����� ����� ���������� ��������� � �� �����, �� ����� ��������� ���� ����� ���� ����� ��������� ������������:\n",
    "\n",
    "$$\n",
    "\\langle x, y \\rangle = \\left| x \\right| | y | \\cos(\\alpha)\n",
    "\\implies \\cos(\\alpha) = \\frac{\\langle x, y \\rangle}{\\left|| x |\\right| || y ||},\n",
    "$$\n",
    "\n",
    "��� $\\alpha \\in [0, \\pi]$ � ���� ����� ��������� $x$ � $y$."
   ]
  },
  {
   "cell_type": "code",
   "execution_count": 67,
   "metadata": {},
   "outputs": [
    {
     "name": "stdout",
     "output_type": "stream",
     "text": [
      "������� ���� ����� a � b: 0.8000362836474323\n",
      "��� ����: 0.6434406336093618\n"
     ]
    }
   ],
   "source": [
    "cos_angle = np.dot(a, b) / norm(a) / norm(b)\n",
    "print('������� ���� ����� a � b:', cos_angle)\n",
    "print('��� ����:', np.arccos(cos_angle))"
   ]
  },
  {
   "cell_type": "markdown",
   "metadata": {},
   "source": [
    "����� �������� � ���, ��� ��������� ��������� ������������ � `NumPy`, \n",
    "��. [������������](http://docs.scipy.org/doc/numpy/reference/routines.linalg.html#matrix-and-vector-products)."
   ]
  }
 ],
 "metadata": {
  "anaconda-cloud": {},
  "kernelspec": {
   "display_name": "Python 3",
   "language": "python",
   "name": "python3"
  },
  "language_info": {
   "codemirror_mode": {
    "name": "ipython",
    "version": 3
   },
   "file_extension": ".py",
   "mimetype": "text/x-python",
   "name": "python",
   "nbconvert_exporter": "python",
   "pygments_lexer": "ipython3",
   "version": "3.6.5"
  }
 },
 "nbformat": 4,
 "nbformat_minor": 1
}