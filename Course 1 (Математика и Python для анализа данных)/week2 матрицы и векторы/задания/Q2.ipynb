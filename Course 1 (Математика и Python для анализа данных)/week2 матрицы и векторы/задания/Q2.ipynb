{
 "cells": [
  {
   "cell_type": "code",
   "execution_count": 45,
   "metadata": {},
   "outputs": [],
   "source": [
    "import numpy as np\n",
    "import pandas as pd\n",
    "import re\n",
    "from math import exp, sin\n",
    "from scipy.linalg import solve\n",
    "from matplotlib import pylab as plt"
   ]
  },
  {
   "cell_type": "code",
   "execution_count": 32,
   "metadata": {},
   "outputs": [],
   "source": [
    "k1 = [1.0, 15.0]\n",
    "k2 = [1.0, 8.0, 15.0]\n",
    "k3 = [1.0, 4.0, 10.0, 15.0]"
   ]
  },
  {
   "cell_type": "code",
   "execution_count": 33,
   "metadata": {},
   "outputs": [],
   "source": [
    "a2 = sin(k1[0] / 5) * exp(k1[0] / 10) + 5 * exp(-k1[0] / 2)\n",
    "b2 = sin(k1[1] / 5) * exp(k1[1] / 10) + 5 * exp(-k1[1] / 2)"
   ]
  },
  {
   "cell_type": "code",
   "execution_count": null,
   "metadata": {},
   "outputs": [],
   "source": [
    "w0 + w1 * k1[0] = a2\n",
    "w0 + w1 * k1[1] = b2"
   ]
  },
  {
   "cell_type": "code",
   "execution_count": 34,
   "metadata": {},
   "outputs": [
    {
     "data": {
      "text/plain": [
       "array([ 3.43914511, -0.18692825])"
      ]
     },
     "execution_count": 34,
     "metadata": {},
     "output_type": "execute_result"
    }
   ],
   "source": [
    "solve([[1, 1], [1,15]],[a2,b2])"
   ]
  },
  {
   "cell_type": "code",
   "execution_count": 22,
   "metadata": {},
   "outputs": [
    {
     "ename": "SyntaxError",
     "evalue": "can't assign to operator (<ipython-input-22-835028b958ec>, line 1)",
     "output_type": "error",
     "traceback": [
      "\u001b[1;36m  File \u001b[1;32m\"<ipython-input-22-835028b958ec>\"\u001b[1;36m, line \u001b[1;32m1\u001b[0m\n\u001b[1;33m    w0 + w1 * k2[0] + w2*k2[0]^2 = sin(k2[0] / 5) * exp(k2[0] / 10) + 5 * exp(-k2[0] / 2)\u001b[0m\n\u001b[1;37m                                                                                         ^\u001b[0m\n\u001b[1;31mSyntaxError\u001b[0m\u001b[1;31m:\u001b[0m can't assign to operator\n"
     ]
    }
   ],
   "source": [
    "w0 + w1 * k2[0] + w2*k2[0]^2 = a3\n",
    "w0 + w1 * k2[1] + w2*k2[1]^2 = b3\n",
    "w0 + w1 * k2[2] + w2*k2[2]^2 = c3"
   ]
  },
  {
   "cell_type": "code",
   "execution_count": 35,
   "metadata": {},
   "outputs": [],
   "source": [
    "a3 = sin(k2[0] / 5) * exp(k2[0] / 10) + 5 * exp(-k2[0] / 2)\n",
    "b3 = sin(k2[1] / 5) * exp(k2[1] / 10) + 5 * exp(-k2[1] / 2)\n",
    "c3 = sin(k2[2] / 5) * exp(k2[2] / 10) + 5 * exp(-k2[2] / 2)"
   ]
  },
  {
   "cell_type": "code",
   "execution_count": 36,
   "metadata": {},
   "outputs": [
    {
     "data": {
      "text/plain": [
       "array([ 3.32512949, -0.06531159, -0.00760104])"
      ]
     },
     "execution_count": 36,
     "metadata": {},
     "output_type": "execute_result"
    }
   ],
   "source": [
    "solve([[1, 1, 1], [1,8,64], [1,15,225]],[a3, b3, c3])"
   ]
  },
  {
   "cell_type": "code",
   "execution_count": 37,
   "metadata": {},
   "outputs": [
    {
     "ename": "SyntaxError",
     "evalue": "can't assign to operator (<ipython-input-37-700cc776c496>, line 1)",
     "output_type": "error",
     "traceback": [
      "\u001b[1;36m  File \u001b[1;32m\"<ipython-input-37-700cc776c496>\"\u001b[1;36m, line \u001b[1;32m1\u001b[0m\n\u001b[1;33m    w0 + w1 * k3[0] + w2*k3[0]^2 + w3*k3[0]^3 =a4\u001b[0m\n\u001b[1;37m                                                 ^\u001b[0m\n\u001b[1;31mSyntaxError\u001b[0m\u001b[1;31m:\u001b[0m can't assign to operator\n"
     ]
    }
   ],
   "source": [
    "w0 + w1 * k3[0] + w2*k3[0]^2 + w3*k3[0]^3 =a4\n",
    "w0 + w1 * k3[1] + w2*k3[1]^2 + w3*k3[1]^3 =b4\n",
    "w0 + w1 * k3[2] + w2*k3[2]^2 + w3*k3[2]^3 =c4\n",
    "w0 + w1 * k3[3] + w2*k3[3]^2 + w3*k3[3]^3 =d4"
   ]
  },
  {
   "cell_type": "code",
   "execution_count": 38,
   "metadata": {},
   "outputs": [],
   "source": [
    "a4 = sin(k3[0] / 5) * exp(k3[0] / 10) + 5 * exp(-k3[0] / 2)\n",
    "b4 = sin(k3[1] / 5) * exp(k3[1] / 10) + 5 * exp(-k3[1] / 2)\n",
    "c4 = sin(k3[2] / 5) * exp(k3[2] / 10) + 5 * exp(-k3[2] / 2)\n",
    "d4 = sin(k3[3] / 5) * exp(k3[3] / 10) + 5 * exp(-k3[3] / 2)"
   ]
  },
  {
   "cell_type": "code",
   "execution_count": 66,
   "metadata": {},
   "outputs": [],
   "source": [
    "b = solve([[1, 1, 1, 1], [1,4,16,64], [1,10,100,1000], [1,15,225, 3375]],[a4, b4, c4, d4])\n"
   ]
  },
  {
   "cell_type": "code",
   "execution_count": 71,
   "metadata": {},
   "outputs": [],
   "source": [
    "a = np.arange(0, 16, 0.1)"
   ]
  },
  {
   "cell_type": "code",
   "execution_count": 72,
   "metadata": {},
   "outputs": [],
   "source": [
    "def func(a):\n",
    "    lst = []\n",
    "    for i in range(len(a)-1):\n",
    "        lst.append(sin(a[i] / 5) * exp(a[i] / 10) + 5 * exp(-a[i] / 2))\n",
    "    return lst"
   ]
  },
  {
   "cell_type": "code",
   "execution_count": 79,
   "metadata": {},
   "outputs": [
    {
     "data": {
      "image/png": "[encoded data removed]",
      "text/plain": [
       "<Figure size 432x288 with 1 Axes>"
      ]
     },
     "metadata": {
      "needs_background": "light"
     },
     "output_type": "display_data"
    }
   ],
   "source": [
    "plt.plot(func(a))\n",
    "plt.show()"
   ]
  }
 ],
 "metadata": {
  "kernelspec": {
   "display_name": "Python 3",
   "language": "python",
   "name": "python3"
  },
  "language_info": {
   "codemirror_mode": {
    "name": "ipython",
    "version": 3
   },
   "file_extension": ".py",
   "mimetype": "text/x-python",
   "name": "python",
   "nbconvert_exporter": "python",
   "pygments_lexer": "ipython3",
   "version": "3.7.3"
  }
 },
 "nbformat": 4,
 "nbformat_minor": 2
}
