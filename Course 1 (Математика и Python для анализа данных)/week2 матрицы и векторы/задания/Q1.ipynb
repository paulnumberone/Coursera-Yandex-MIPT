{
 "cells": [
  {
   "cell_type": "code",
   "execution_count": 3,
   "metadata": {},
   "outputs": [],
   "source": [
    "import numpy as np\n",
    "import pandas as pd\n",
    "import re"
   ]
  },
  {
   "cell_type": "code",
   "execution_count": 4,
   "metadata": {},
   "outputs": [],
   "source": [
    "lines = open(r'C:\\Users\\One\\Git\\COURSERA YANDEX\\Course 1\\week2\\text_cat.txt', 'r', \n",
    "             encoding='utf-8').read().lower().splitlines()"
   ]
  },
  {
   "cell_type": "code",
   "execution_count": 5,
   "metadata": {},
   "outputs": [],
   "source": [
    "#lines = [x.lower() for x in lines]\n",
    "#lambda x: x.lower(), lines"
   ]
  },
  {
   "cell_type": "code",
   "execution_count": 6,
   "metadata": {},
   "outputs": [],
   "source": [
    "lines_splitted = [(re.split('[^a-z]', x)) for x in lines]"
   ]
  },
  {
   "cell_type": "code",
   "execution_count": 7,
   "metadata": {},
   "outputs": [],
   "source": [
    "text = open(r'C:\\Users\\One\\Git\\COURSERA YANDEX\\Course 1\\week2\\text_cat.txt', 'r', encoding='utf-8').read().lower()\n",
    "text_splitted = re.split('[^a-z]', text)\n",
    "text_clear = []\n",
    "for i in range(len(text_splitted)):\n",
    "    if text_splitted[i] != text_splitted[4]:\n",
    "        text_clear.append(text_splitted[i])\n",
    "text_clear = sorted(list(set(text_clear)))"
   ]
  },
  {
   "cell_type": "code",
   "execution_count": 8,
   "metadata": {},
   "outputs": [],
   "source": [
    "Z = np.zeros((len(lines_splitted),len(text_clear)))"
   ]
  },
  {
   "cell_type": "code",
   "execution_count": 9,
   "metadata": {},
   "outputs": [],
   "source": [
    "for i in range(len(lines_splitted)):\n",
    "    for j in range(len(text_clear)):\n",
    "        if text_clear[j] in lines_splitted[i]:\n",
    "            Z[i][j] += 1"
   ]
  },
  {
   "cell_type": "code",
   "execution_count": 10,
   "metadata": {},
   "outputs": [
    {
     "data": {
      "text/plain": [
       "(254,)"
      ]
     },
     "execution_count": 10,
     "metadata": {},
     "output_type": "execute_result"
    }
   ],
   "source": [
    "Z[0].shape"
   ]
  },
  {
   "cell_type": "code",
   "execution_count": 11,
   "metadata": {},
   "outputs": [],
   "source": [
    "data = pd.DataFrame(Z)"
   ]
  },
  {
   "cell_type": "code",
   "execution_count": 14,
   "metadata": {},
   "outputs": [
    {
     "name": "stdout",
     "output_type": "stream",
     "text": [
      "0.755\n"
     ]
    }
   ],
   "source": [
    "from scipy.spatial import distance\n",
    "cosine = {}\n",
    "for i in range(1, 22):\n",
    "    cosine[i]= round(distance.cosine(Z[0], Z[i]), 3)\n",
    "print(min(cosine.values()))"
   ]
  },
  {
   "cell_type": "code",
   "execution_count": 16,
   "metadata": {},
   "outputs": [
    {
     "name": "stdout",
     "output_type": "stream",
     "text": [
      "[0.755, 0.806, 0.825, 0.843, 0.854, 0.862, 0.862, 0.87, 0.87, 0.87, 0.877, 0.883, 0.889, 0.907, 0.915, 0.935, 0.94, 0.94, 0.94, 0.944, 0.95]\n"
     ]
    }
   ],
   "source": [
    "print(sorted(cosine.values()))"
   ]
  },
  {
   "cell_type": "code",
   "execution_count": 18,
   "metadata": {},
   "outputs": [
    {
     "name": "stdout",
     "output_type": "stream",
     "text": [
      "{1: 0.94, 2: 0.862, 3: 0.889, 4: 0.806, 5: 0.935, 6: 0.755, 7: 0.915, 8: 0.907, 9: 0.883, 10: 0.87, 11: 0.87, 12: 0.877, 13: 0.87, 14: 0.862, 15: 0.94, 16: 0.854, 17: 0.95, 18: 0.944, 19: 0.94, 20: 0.843, 21: 0.825}\n"
     ]
    }
   ],
   "source": [
    "print(cosine)"
   ]
  },
  {
   "cell_type": "code",
   "execution_count": null,
   "metadata": {},
   "outputs": [],
   "source": []
  }
 ],
 "metadata": {
  "kernelspec": {
   "display_name": "Python 3",
   "language": "python",
   "name": "python3"
  },
  "language_info": {
   "codemirror_mode": {
    "name": "ipython",
    "version": 3
   },
   "file_extension": ".py",
   "mimetype": "text/x-python",
   "name": "python",
   "nbconvert_exporter": "python",
   "pygments_lexer": "ipython3",
   "version": "3.7.3"
  }
 },
 "nbformat": 4,
 "nbformat_minor": 2
}
