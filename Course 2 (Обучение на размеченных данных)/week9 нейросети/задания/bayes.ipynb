{
 "cells": [
  {
   "cell_type": "code",
   "execution_count": 5,
   "metadata": {},
   "outputs": [],
   "source": [
    "import pandas as pd\n",
    "import numpy as np\n",
    "import sklearn.datasets \n",
    "from sklearn.datasets import load_digits, load_breast_cancer\n",
    "from sklearn.model_selection import cross_val_score \n",
    "from sklearn.tree import DecisionTreeClassifier \n",
    "from sklearn.naive_bayes import BernoulliNB, MultinomialNB, GaussianNB\n",
    "digits = load_digits()\n",
    "cancer = load_breast_cancer()"
   ]
  },
  {
   "cell_type": "code",
   "execution_count": 6,
   "metadata": {},
   "outputs": [],
   "source": [
    "bnb = BernoulliNB()\n",
    "mnb = MultinomialNB()\n",
    "gnb = GaussianNB()"
   ]
  },
  {
   "cell_type": "code",
   "execution_count": 8,
   "metadata": {},
   "outputs": [],
   "source": [
    "digits_data = digits.data\n",
    "digits_target = digits.target\n",
    "cancer_data = cancer.data\n",
    "cancer_target = cancer.target"
   ]
  },
  {
   "cell_type": "code",
   "execution_count": 27,
   "metadata": {},
   "outputs": [
    {
     "name": "stdout",
     "output_type": "stream",
     "text": [
      "bnb_cvc 0.8258236507780582 mnb_cvc 0.8708771489735053 gnb_cvc 0.8186003803550138\n"
     ]
    }
   ],
   "source": [
    "bnb_cvc = cross_val_score(bnb, digits_data, digits_target, cv=3).mean()\n",
    "mnb_cvc = cross_val_score(mnb, digits_data, digits_target, cv=3).mean()\n",
    "gnb_cvc = cross_val_score(gnb, digits_data, digits_target, cv=3).mean()\n",
    "print(\"bnb_cvc\", bnb_cvc, \"mnb_cvc\", mnb_cvc, \"gnb_cvc\", gnb_cvc)"
   ]
  },
  {
   "cell_type": "code",
   "execution_count": 28,
   "metadata": {},
   "outputs": [
    {
     "name": "stdout",
     "output_type": "stream",
     "text": [
      "bnb_cvc 0.6274204028589994 mnb_cvc 0.8945790401930752 gnb_cvc 0.9367492806089297\n"
     ]
    }
   ],
   "source": [
    "bnb_cvc = cross_val_score(bnb, cancer_data, cancer_target, cv=3).mean()\n",
    "mnb_cvc = cross_val_score(mnb, cancer_data, cancer_target, cv=3).mean()\n",
    "gnb_cvc = cross_val_score(gnb, cancer_data, cancer_target, cv=3).mean()\n",
    "print(\"bnb_cvc\", bnb_cvc, \"mnb_cvc\", mnb_cvc, \"gnb_cvc\", gnb_cvc)"
   ]
  },
  {
   "cell_type": "code",
   "execution_count": null,
   "metadata": {},
   "outputs": [],
   "source": []
  }
 ],
 "metadata": {
  "kernelspec": {
   "display_name": "Python 3",
   "language": "python",
   "name": "python3"
  },
  "language_info": {
   "codemirror_mode": {
    "name": "ipython",
    "version": 3
   },
   "file_extension": ".py",
   "mimetype": "text/x-python",
   "name": "python",
   "nbconvert_exporter": "python",
   "pygments_lexer": "ipython3",
   "version": "3.7.3"
  }
 },
 "nbformat": 4,
 "nbformat_minor": 2
}
