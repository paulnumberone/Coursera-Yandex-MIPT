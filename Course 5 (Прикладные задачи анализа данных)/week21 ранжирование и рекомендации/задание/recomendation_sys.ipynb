{
 "cells": [
  {
   "cell_type": "code",
   "execution_count": 1,
   "metadata": {},
   "outputs": [],
   "source": [
    "import pandas as pd\n",
    "from collections import Counter\n",
    "import numpy as np"
   ]
  },
  {
   "cell_type": "code",
   "execution_count": 2,
   "metadata": {},
   "outputs": [],
   "source": [
    "data_train = pd.read_csv('coursera_sessions_train.txt', sep = ';', header = None, names=['seen', 'bought'])\n",
    "data_test = pd.read_csv('coursera_sessions_test.txt', sep = ';', header = None, names=['seen', 'bought'])"
   ]
  },
  {
   "cell_type": "code",
   "execution_count": 3,
   "metadata": {},
   "outputs": [],
   "source": [
    "data_train.dropna(inplace = True)\n",
    "data_test.dropna(inplace = True)"
   ]
  },
  {
   "cell_type": "code",
   "execution_count": 4,
   "metadata": {},
   "outputs": [],
   "source": [
    "train_seen = []\n",
    "\n",
    "for line in data_train['seen']:\n",
    "    for elt in line.split(','):\n",
    "        train_seen.append(elt)"
   ]
  },
  {
   "cell_type": "code",
   "execution_count": 5,
   "metadata": {},
   "outputs": [],
   "source": [
    "train_seen_cnt = Counter(train_seen)"
   ]
  },
  {
   "cell_type": "code",
   "execution_count": 13,
   "metadata": {},
   "outputs": [],
   "source": [
    "n = 0\n",
    "\n",
    "train_seen_metric_1 = []\n",
    "train_seen_metric_2 = []\n",
    "train_seen_metric_3 = []\n",
    "train_seen_metric_4 = []\n",
    "\n",
    "for i in range(data_train.shape[0]):\n",
    "    unq = pd.unique(str(data_train.seen.iloc[i]).split(','))\n",
    "    train_freq = pd.DataFrame(columns = ['id', 'pos', 'freq'])\n",
    "    for elt in unq:\n",
    "        if elt != ',':\n",
    "            train_freq.loc[n] = [elt, n + 1, train_seen_cnt[elt]]\n",
    "            train_freq.sort_values(['freq', 'pos'], ascending=[False, True], inplace=True)\n",
    "            n += 1\n",
    "    recom = train_freq.id[:5]\n",
    "    bgt = data_train.bought.iloc[i].split(',')\n",
    "    \n",
    "    m4 = len(set(recom).intersection(bgt))/5\n",
    "    m3 = len(set(recom).intersection(bgt))/len(bgt) \n",
    "    m2 = len(set(recom[:1]).intersection(bgt))/5\n",
    "    m1 = len(set(recom[:1]).intersection(bgt))/len(bgt)\n",
    "    train_seen_metric_1.append(m1)\n",
    "    train_seen_metric_2.append(m2)\n",
    "    train_seen_metric_3.append(m3)\n",
    "    train_seen_metric_4.append(m4)"
   ]
  },
  {
   "cell_type": "code",
   "execution_count": 14,
   "metadata": {},
   "outputs": [],
   "source": [
    "ans1 = round(float(np.mean(train_seen_metric_1)), 2)\n",
    "ans2 = round(float(np.mean(train_seen_metric_2)), 2)\n",
    "ans3 = round(float(np.mean(train_seen_metric_3)), 2)\n",
    "ans4 = round(float(np.mean(train_seen_metric_4)), 2)"
   ]
  },
  {
   "cell_type": "code",
   "execution_count": 15,
   "metadata": {},
   "outputs": [
    {
     "data": {
      "text/plain": [
       "(0.49, 0.11, 0.86, 0.22)"
      ]
     },
     "execution_count": 15,
     "metadata": {},
     "output_type": "execute_result"
    }
   ],
   "source": [
    "ans1, ans2, ans3, ans4"
   ]
  },
  {
   "cell_type": "code",
   "execution_count": null,
   "metadata": {},
   "outputs": [],
   "source": []
  },
  {
   "cell_type": "code",
   "execution_count": 16,
   "metadata": {},
   "outputs": [],
   "source": [
    "train_bought = []\n",
    "\n",
    "for line in data_train['bought']:\n",
    "    for elt in line.split(','):\n",
    "        train_bought.append(elt)"
   ]
  },
  {
   "cell_type": "code",
   "execution_count": 17,
   "metadata": {},
   "outputs": [],
   "source": [
    "train_bought_cnt = Counter(train_bought)"
   ]
  },
  {
   "cell_type": "code",
   "execution_count": 20,
   "metadata": {},
   "outputs": [],
   "source": [
    "n = 0\n",
    "\n",
    "train_seen_metric_1 = []\n",
    "train_seen_metric_2 = []\n",
    "train_seen_metric_3 = []\n",
    "train_seen_metric_4 = []\n",
    "\n",
    "for i in range(data_train.shape[0]):\n",
    "    unq = pd.unique(str(data_train.seen.iloc[i]).split(','))\n",
    "    train_freq = pd.DataFrame(columns = ['id', 'pos', 'freq'])\n",
    "    for elt in unq:\n",
    "        if elt != ',':\n",
    "            train_freq.loc[n] = [elt, n + 1, train_bought_cnt[elt]]\n",
    "            train_freq.sort_values(['freq', 'pos'], ascending=[False, True], inplace=True)\n",
    "            n += 1\n",
    "    recom = train_freq.id[:5]\n",
    "    bgt = data_train.bought.iloc[i].split(',')\n",
    "    \n",
    "    m4 = len(set(recom).intersection(bgt))/5\n",
    "    m3 = len(set(recom).intersection(bgt))/len(bgt) \n",
    "    m2 = len(set(recom[:1]).intersection(bgt))\n",
    "    m1 = len(set(recom[:1]).intersection(bgt))/len(bgt)\n",
    "    train_seen_metric_1.append(m1)\n",
    "    train_seen_metric_2.append(m2)\n",
    "    train_seen_metric_3.append(m3)\n",
    "    train_seen_metric_4.append(m4)"
   ]
  },
  {
   "cell_type": "code",
   "execution_count": 21,
   "metadata": {},
   "outputs": [
    {
     "data": {
      "text/plain": [
       "(0.69, 0.8, 0.93, 0.25)"
      ]
     },
     "execution_count": 21,
     "metadata": {},
     "output_type": "execute_result"
    }
   ],
   "source": [
    "ans1 = round(float(np.mean(train_seen_metric_1)), 2)\n",
    "ans2 = round(float(np.mean(train_seen_metric_2)), 2)\n",
    "ans3 = round(float(np.mean(train_seen_metric_3)), 2)\n",
    "ans4 = round(float(np.mean(train_seen_metric_4)), 2)\n",
    "\n",
    "ans1, ans2, ans3, ans4"
   ]
  },
  {
   "cell_type": "code",
   "execution_count": null,
   "metadata": {},
   "outputs": [],
   "source": []
  },
  {
   "cell_type": "code",
   "execution_count": 22,
   "metadata": {},
   "outputs": [],
   "source": [
    "train_seen_metric_1 = []\n",
    "train_seen_metric_2 = []\n",
    "train_seen_metric_3 = []\n",
    "train_seen_metric_4 = []\n",
    "\n",
    "for i in range(data_test.shape[0]):\n",
    "    unq = pd.unique(str(data_test.seen.iloc[i]).split(','))\n",
    "    train_freq = pd.DataFrame(columns = ['id', 'pos', 'freq'])\n",
    "    for elt in unq:\n",
    "        if elt != ',':\n",
    "            train_freq.loc[n] = [elt, n + 1, train_seen_cnt[elt]]\n",
    "            train_freq.sort_values(['freq', 'pos'], ascending=[False, True], inplace=True)\n",
    "            n += 1\n",
    "    recom = train_freq.id[:5]\n",
    "    bgt = data_test.bought.iloc[i].split(',')\n",
    "    \n",
    "    m4 = len(set(recom).intersection(bgt))/5\n",
    "    m3 = len(set(recom).intersection(bgt))/len(bgt) \n",
    "    m2 = len(set(recom[:1]).intersection(bgt))\n",
    "    m1 = len(set(recom[:1]).intersection(bgt))/len(bgt)\n",
    "    train_seen_metric_1.append(m1)\n",
    "    train_seen_metric_2.append(m2)\n",
    "    train_seen_metric_3.append(m3)\n",
    "    train_seen_metric_4.append(m4)"
   ]
  },
  {
   "cell_type": "code",
   "execution_count": 23,
   "metadata": {},
   "outputs": [
    {
     "data": {
      "text/plain": [
       "(0.44, 0.5, 0.81, 0.21)"
      ]
     },
     "execution_count": 23,
     "metadata": {},
     "output_type": "execute_result"
    }
   ],
   "source": [
    "ans1 = round(float(np.mean(train_seen_metric_1)), 2)\n",
    "ans2 = round(float(np.mean(train_seen_metric_2)), 2)\n",
    "ans3 = round(float(np.mean(train_seen_metric_3)), 2)\n",
    "ans4 = round(float(np.mean(train_seen_metric_4)), 2)\n",
    "\n",
    "ans1, ans2, ans3, ans4"
   ]
  },
  {
   "cell_type": "code",
   "execution_count": null,
   "metadata": {},
   "outputs": [],
   "source": []
  },
  {
   "cell_type": "code",
   "execution_count": null,
   "metadata": {},
   "outputs": [],
   "source": []
  },
  {
   "cell_type": "code",
   "execution_count": null,
   "metadata": {},
   "outputs": [],
   "source": []
  }
 ],
 "metadata": {
  "kernelspec": {
   "display_name": "Python 3",
   "language": "python",
   "name": "python3"
  },
  "language_info": {
   "codemirror_mode": {
    "name": "ipython",
    "version": 3
   },
   "file_extension": ".py",
   "mimetype": "text/x-python",
   "name": "python",
   "nbconvert_exporter": "python",
   "pygments_lexer": "ipython3",
   "version": "3.7.3"
  }
 },
 "nbformat": 4,
 "nbformat_minor": 2
}
