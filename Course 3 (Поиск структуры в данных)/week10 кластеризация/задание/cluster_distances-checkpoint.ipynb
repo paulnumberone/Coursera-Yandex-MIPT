{
 "cells": [
  {
   "cell_type": "code",
   "execution_count": 38,
   "metadata": {},
   "outputs": [],
   "source": [
    "import pandas as pd\n",
    "import numpy as np\n",
    "import warnings\n",
    "warnings.filterwarnings('ignore')"
   ]
  },
  {
   "cell_type": "code",
   "execution_count": 39,
   "metadata": {},
   "outputs": [],
   "source": [
    "data = pd.read_table(r'C:\\Users\\One\\Git\\COURSERA YANDEX\\Course 3\\week10\\задание\\checkins.dat', sep='|', \n",
    "                     skipinitialspace = True, header=[0], skiprows=[1])\n",
    "data.dropna(axis='rows', inplace=True)"
   ]
  },
  {
   "cell_type": "code",
   "execution_count": 40,
   "metadata": {},
   "outputs": [],
   "source": [
    "cols = list([x.replace(' ', '') for x in data.columns])\n",
    "data.columns = cols"
   ]
  },
  {
   "cell_type": "code",
   "execution_count": 41,
   "metadata": {},
   "outputs": [],
   "source": [
    "X=np.array((data['latitude'].head(100000), data['longitude'].head(100000))).T"
   ]
  },
  {
   "cell_type": "code",
   "execution_count": 42,
   "metadata": {},
   "outputs": [
    {
     "data": {
      "text/plain": [
       "MeanShift(bandwidth=0.1, bin_seeding=False, cluster_all=True, min_bin_freq=1,\n",
       "     n_jobs=None, seeds=None)"
      ]
     },
     "execution_count": 42,
     "metadata": {},
     "output_type": "execute_result"
    }
   ],
   "source": [
    "from sklearn.cluster import MeanShift, estimate_bandwidth\n",
    "ms = MeanShift(bandwidth=0.1)\n",
    "ms.fit(X)"
   ]
  },
  {
   "cell_type": "code",
   "execution_count": 43,
   "metadata": {},
   "outputs": [],
   "source": [
    "cluster_centers = ms.cluster_centers_\n",
    "offices = [[33.751277, -118.188740], [25.867736, -80.324116],[51.503016, -0.075479],[52.378894, 4.885084],[39.366487, 117.036146],[-33.868457, 151.205134]]"
   ]
  },
  {
   "cell_type": "code",
   "execution_count": 44,
   "metadata": {},
   "outputs": [],
   "source": [
    "with open(\"cluster_centers.txt\", \"w\") as fout:\n",
    "        fout.write(\" \".join([str(num) for num in cluster_centers]))"
   ]
  },
  {
   "cell_type": "code",
   "execution_count": 45,
   "metadata": {},
   "outputs": [],
   "source": [
    "dist_0, dist_1, dist_2, dist_3, dist_4, dist_5 = [], [], [], [], [], []\n",
    "\n",
    "for i in range(len(cluster_centers)):\n",
    "        dist_0.append(((cluster_centers[i][0] - offices[0][0])**2 + (cluster_centers[i][1] - offices[0][1])**2)**0.5)\n",
    "for i in range(len(cluster_centers)):\n",
    "        dist_1.append(((cluster_centers[i][0] - offices[1][0])**2 + (cluster_centers[i][1] - offices[1][1])**2)**0.5)\n",
    "for i in range(len(cluster_centers)):\n",
    "        dist_2.append(((cluster_centers[i][0] - offices[2][0])**2 + (cluster_centers[i][1] - offices[2][1])**2)**0.5)        \n",
    "for i in range(len(cluster_centers)):\n",
    "        dist_3.append(((cluster_centers[i][0] - offices[3][0])**2 + (cluster_centers[i][1] - offices[3][1])**2)**0.5)\n",
    "for i in range(len(cluster_centers)):\n",
    "        dist_4.append(((cluster_centers[i][0] - offices[4][0])**2 + (cluster_centers[i][1] - offices[4][1])**2)**0.5)\n",
    "for i in range(len(cluster_centers)):\n",
    "        dist_5.append(((cluster_centers[i][0] - offices[5][0])**2 + (cluster_centers[i][1] - offices[5][1])**2)**0.5)"
   ]
  },
  {
   "cell_type": "code",
   "execution_count": 50,
   "metadata": {},
   "outputs": [],
   "source": [
    "dist_cc = pd.DataFrame(cluster_centers)\n",
    "dist_cc.columns = [['latitude', 'longitude']]"
   ]
  },
  {
   "cell_type": "code",
   "execution_count": 88,
   "metadata": {},
   "outputs": [],
   "source": [
    "dist_cc['dist_1'] = dist_1\n",
    "dist_cc['dist_2'] = dist_2\n",
    "dist_cc['dist_3'] = dist_3\n",
    "dist_cc['dist_4'] = dist_4\n",
    "dist_cc['dist_5'] = dist_5\n",
    "dist_cc['dist_0'] = dist_0"
   ]
  },
  {
   "cell_type": "code",
   "execution_count": 89,
   "metadata": {},
   "outputs": [],
   "source": [
    "min0 = dist_cc['dist_0'].min()[0]\n",
    "min1 = dist_cc['dist_1'].min()[0]\n",
    "min2 = dist_cc['dist_2'].min()[0]\n",
    "min3 = dist_cc['dist_3'].min()[0]\n",
    "min4 = dist_cc['dist_4'].min()[0]\n",
    "min5 = dist_cc['dist_5'].min()[0]"
   ]
  },
  {
   "cell_type": "code",
   "execution_count": 99,
   "metadata": {},
   "outputs": [
    {
     "data": {
      "text/plain": [
       "latitude      25.845672\n",
       "longitude    -80.318891\n",
       "dist_1         0.022674\n",
       "dist_2        84.245501\n",
       "dist_3        89.239728\n",
       "dist_4       197.817651\n",
       "dist_5       239.100714\n",
       "dist_0        38.686226\n",
       "Name: 419, dtype: float64"
      ]
     },
     "execution_count": 99,
     "metadata": {},
     "output_type": "execute_result"
    }
   ],
   "source": [
    "dist_cc.iloc[dist_1.index(min(dist_1)), :]"
   ]
  },
  {
   "cell_type": "code",
   "execution_count": 100,
   "metadata": {},
   "outputs": [
    {
     "data": {
      "text/plain": [
       "latitude      33.809878\n",
       "longitude   -118.148924\n",
       "dist_1        38.649627\n",
       "dist_2       119.391731\n",
       "dist_3       124.427390\n",
       "dist_4       235.250702\n",
       "dist_5       277.726422\n",
       "dist_0         0.070848\n",
       "Name: 51, dtype: float64"
      ]
     },
     "execution_count": 100,
     "metadata": {},
     "output_type": "execute_result"
    }
   ],
   "source": [
    "dist_cc.iloc[dist_0.index(min(dist_0)), :]"
   ]
  },
  {
   "cell_type": "code",
   "execution_count": 101,
   "metadata": {},
   "outputs": [
    {
     "data": {
      "text/plain": [
       "latitude      51.502991\n",
       "longitude     -0.125537\n",
       "dist_1        84.196071\n",
       "dist_2         0.050058\n",
       "dist_3         5.086603\n",
       "dist_4       117.788602\n",
       "dist_5       173.750558\n",
       "dist_0       119.390298\n",
       "Name: 58, dtype: float64"
      ]
     },
     "execution_count": 101,
     "metadata": {},
     "output_type": "execute_result"
    }
   ],
   "source": [
    "dist_cc.iloc[dist_2.index(min(dist_2)), :]"
   ]
  },
  {
   "cell_type": "code",
   "execution_count": 102,
   "metadata": {},
   "outputs": [
    {
     "data": {
      "text/plain": [
       "latitude      52.372964\n",
       "longitude      4.892317\n",
       "dist_1        89.243306\n",
       "dist_2         5.043393\n",
       "dist_3         0.009353\n",
       "dist_4       112.895557\n",
       "dist_5       169.838226\n",
       "dist_0       124.481781\n",
       "Name: 370, dtype: float64"
      ]
     },
     "execution_count": 102,
     "metadata": {},
     "output_type": "execute_result"
    }
   ],
   "source": [
    "dist_cc.iloc[dist_3.index(min(dist_3)), :]"
   ]
  },
  {
   "cell_type": "code",
   "execution_count": 103,
   "metadata": {},
   "outputs": [
    {
     "data": {
      "text/plain": [
       "latitude      39.121079\n",
       "longitude    117.214389\n",
       "dist_1       197.982605\n",
       "dist_2       117.941619\n",
       "dist_3       113.108985\n",
       "dist_4         0.303308\n",
       "dist_5        80.516105\n",
       "dist_0       235.464367\n",
       "Name: 1980, dtype: float64"
      ]
     },
     "execution_count": 103,
     "metadata": {},
     "output_type": "execute_result"
    }
   ],
   "source": [
    "dist_cc.iloc[dist_4.index(min(dist_4)), :]"
   ]
  },
  {
   "cell_type": "code",
   "execution_count": 104,
   "metadata": {},
   "outputs": [
    {
     "data": {
      "text/plain": [
       "latitude     -33.860630\n",
       "longitude    151.204776\n",
       "dist_1       239.108983\n",
       "dist_2       173.702814\n",
       "dist_3       169.843186\n",
       "dist_4        80.806596\n",
       "dist_5         0.007835\n",
       "dist_0       277.748513\n",
       "Name: 420, dtype: float64"
      ]
     },
     "execution_count": 104,
     "metadata": {},
     "output_type": "execute_result"
    }
   ],
   "source": [
    "dist_cc.iloc[dist_5.index(min(dist_5)), :]"
   ]
  },
  {
   "cell_type": "code",
   "execution_count": null,
   "metadata": {},
   "outputs": [],
   "source": []
  }
 ],
 "metadata": {
  "kernelspec": {
   "display_name": "Python 3",
   "language": "python",
   "name": "python3"
  },
  "language_info": {
   "codemirror_mode": {
    "name": "ipython",
    "version": 3
   },
   "file_extension": ".py",
   "mimetype": "text/x-python",
   "name": "python",
   "nbconvert_exporter": "python",
   "pygments_lexer": "ipython3",
   "version": "3.7.3"
  }
 },
 "nbformat": 4,
 "nbformat_minor": 2
}
